{
 "cells": [
  {
   "cell_type": "code",
   "execution_count": 1,
   "id": "f498be27",
   "metadata": {},
   "outputs": [],
   "source": [
    "import sqlite3"
   ]
  },
  {
   "cell_type": "code",
   "execution_count": 2,
   "id": "8e7b0224",
   "metadata": {},
   "outputs": [],
   "source": [
    "conn = sqlite3.connect(\"./views.db\")\n",
    "conn.close()"
   ]
  },
  {
   "cell_type": "code",
   "execution_count": 3,
   "id": "51194b2b",
   "metadata": {},
   "outputs": [
    {
     "name": "stdout",
     "output_type": "stream",
     "text": [
      " * sqlite:///views.db?check_same_thread=false\n"
     ]
    },
    {
     "data": {
      "text/html": [
       "<table>\n",
       "    <thead>\n",
       "        <tr>\n",
       "            <th>name</th>\n",
       "        </tr>\n",
       "    </thead>\n",
       "    <tbody>\n",
       "        <tr>\n",
       "            <td>views</td>\n",
       "        </tr>\n",
       "    </tbody>\n",
       "</table>"
      ],
      "text/plain": [
       "[('views',)]"
      ]
     },
     "execution_count": 3,
     "metadata": {},
     "output_type": "execute_result"
    }
   ],
   "source": [
    "%load_ext sql\n",
    "%config SqlMagic.feedback=False\n",
    "%sql sqlite:///views.db?check_same_thread=false\n",
    "%sql SELECT name FROM sqlite_master WHERE type='table';"
   ]
  },
  {
   "cell_type": "code",
   "execution_count": 4,
   "id": "a9fff239",
   "metadata": {},
   "outputs": [
    {
     "name": "stdout",
     "output_type": "stream",
     "text": [
      " * sqlite:///views.db?check_same_thread=false\n"
     ]
    },
    {
     "data": {
      "text/html": [
       "<table>\n",
       "    <thead>\n",
       "        <tr>\n",
       "            <th>id</th>\n",
       "            <th>print_number</th>\n",
       "            <th>english_title</th>\n",
       "            <th>japanese_title</th>\n",
       "            <th>artist</th>\n",
       "            <th>average_color</th>\n",
       "            <th>brightness</th>\n",
       "            <th>contrast</th>\n",
       "            <th>entropy</th>\n",
       "        </tr>\n",
       "    </thead>\n",
       "    <tbody>\n",
       "        <tr>\n",
       "            <td>1</td>\n",
       "            <td>1</td>\n",
       "            <td>The Great Wave off Kanagawa</td>\n",
       "            <td>神奈川沖浪裏</td>\n",
       "            <td>Hokusai</td>\n",
       "            <td>#999f8f</td>\n",
       "            <td>0.61</td>\n",
       "            <td>0.47</td>\n",
       "            <td>7.37</td>\n",
       "        </tr>\n",
       "        <tr>\n",
       "            <td>2</td>\n",
       "            <td>2</td>\n",
       "            <td>Fine Wind, Clear Morning</td>\n",
       "            <td>凱風快晴</td>\n",
       "            <td>Hokusai</td>\n",
       "            <td>#756c73</td>\n",
       "            <td>0.44</td>\n",
       "            <td>0.5</td>\n",
       "            <td>7.31</td>\n",
       "        </tr>\n",
       "        <tr>\n",
       "            <td>3</td>\n",
       "            <td>3</td>\n",
       "            <td>Thunderstorm Beneath the Summit</td>\n",
       "            <td>山下白雨</td>\n",
       "            <td>Hokusai</td>\n",
       "            <td>#5e564b</td>\n",
       "            <td>0.34</td>\n",
       "            <td>0.64</td>\n",
       "            <td>7.22</td>\n",
       "        </tr>\n",
       "        <tr>\n",
       "            <td>4</td>\n",
       "            <td>4</td>\n",
       "            <td>Under Mannen Bridge at Fukagawa</td>\n",
       "            <td>深川万年橋下</td>\n",
       "            <td>Hokusai</td>\n",
       "            <td>#aaa999</td>\n",
       "            <td>0.66</td>\n",
       "            <td>0.44</td>\n",
       "            <td>7.42</td>\n",
       "        </tr>\n",
       "        <tr>\n",
       "            <td>5</td>\n",
       "            <td>5</td>\n",
       "            <td>Sundai, Edo</td>\n",
       "            <td>東都駿台</td>\n",
       "            <td>Hokusai</td>\n",
       "            <td>#a9a68d</td>\n",
       "            <td>0.64</td>\n",
       "            <td>0.43</td>\n",
       "            <td>7.35</td>\n",
       "        </tr>\n",
       "        <tr>\n",
       "            <td>6</td>\n",
       "            <td>6</td>\n",
       "            <td>Cushion Pine at Aoyama</td>\n",
       "            <td>青山円座松</td>\n",
       "            <td>Hokusai</td>\n",
       "            <td>#8a907e</td>\n",
       "            <td>0.55</td>\n",
       "            <td>0.61</td>\n",
       "            <td>7.43</td>\n",
       "        </tr>\n",
       "        <tr>\n",
       "            <td>7</td>\n",
       "            <td>7</td>\n",
       "            <td>Senju, Musashi But</td>\n",
       "            <td>武州千住</td>\n",
       "            <td>Hokusai</td>\n",
       "            <td>#a2a38d</td>\n",
       "            <td>0.63</td>\n",
       "            <td>0.46</td>\n",
       "            <td>7.43</td>\n",
       "        </tr>\n",
       "        <tr>\n",
       "            <td>8</td>\n",
       "            <td>8</td>\n",
       "            <td>Inume Pass, Kōshū</td>\n",
       "            <td>甲州犬目峠</td>\n",
       "            <td>Hokusai</td>\n",
       "            <td>#b7b197</td>\n",
       "            <td>0.69</td>\n",
       "            <td>0.43</td>\n",
       "            <td>7.26</td>\n",
       "        </tr>\n",
       "        <tr>\n",
       "            <td>9</td>\n",
       "            <td>9</td>\n",
       "            <td>Fuji View Field in Owari Province</td>\n",
       "            <td>尾州不二見原</td>\n",
       "            <td>Hokusai</td>\n",
       "            <td>#bcb39f</td>\n",
       "            <td>0.71</td>\n",
       "            <td>0.42</td>\n",
       "            <td>7.34</td>\n",
       "        </tr>\n",
       "        <tr>\n",
       "            <td>10</td>\n",
       "            <td>10</td>\n",
       "            <td>Ejiri in Suruga Province</td>\n",
       "            <td>駿州江尻</td>\n",
       "            <td>Hokusai</td>\n",
       "            <td>#b6ae99</td>\n",
       "            <td>0.68</td>\n",
       "            <td>0.41</td>\n",
       "            <td>7.33</td>\n",
       "        </tr>\n",
       "    </tbody>\n",
       "</table>"
      ],
      "text/plain": [
       "[(1, 1, 'The Great Wave off Kanagawa', '神奈川沖浪裏', 'Hokusai', '#999f8f', 0.61, 0.47, 7.37),\n",
       " (2, 2, 'Fine Wind, Clear Morning', '凱風快晴', 'Hokusai', '#756c73', 0.44, 0.5, 7.31),\n",
       " (3, 3, 'Thunderstorm Beneath the Summit', '山下白雨', 'Hokusai', '#5e564b', 0.34, 0.64, 7.22),\n",
       " (4, 4, 'Under Mannen Bridge at Fukagawa', '深川万年橋下', 'Hokusai', '#aaa999', 0.66, 0.44, 7.42),\n",
       " (5, 5, 'Sundai, Edo', '東都駿台', 'Hokusai', '#a9a68d', 0.64, 0.43, 7.35),\n",
       " (6, 6, 'Cushion Pine at Aoyama', '青山円座松', 'Hokusai', '#8a907e', 0.55, 0.61, 7.43),\n",
       " (7, 7, 'Senju, Musashi But', '武州千住', 'Hokusai', '#a2a38d', 0.63, 0.46, 7.43),\n",
       " (8, 8, 'Inume Pass, Kōshū', '甲州犬目峠', 'Hokusai', '#b7b197', 0.69, 0.43, 7.26),\n",
       " (9, 9, 'Fuji View Field in Owari Province', '尾州不二見原', 'Hokusai', '#bcb39f', 0.71, 0.42, 7.34),\n",
       " (10, 10, 'Ejiri in Suruga Province', '駿州江尻', 'Hokusai', '#b6ae99', 0.68, 0.41, 7.33)]"
      ]
     },
     "execution_count": 4,
     "metadata": {},
     "output_type": "execute_result"
    }
   ],
   "source": [
    "%sql SELECT * FROM views LIMIT 10;"
   ]
  },
  {
   "cell_type": "markdown",
   "id": "0fbdf96f",
   "metadata": {},
   "source": [
    "## 01  \n",
    "Write a SQL query that a translator might take interest in: list, side by side, the Japanese title and the English title for each print. Ensure the Japanese title is the first column, followed by the English title."
   ]
  },
  {
   "cell_type": "code",
   "execution_count": 5,
   "id": "ec1566e0",
   "metadata": {},
   "outputs": [
    {
     "name": "stdout",
     "output_type": "stream",
     "text": [
      " * sqlite:///views.db?check_same_thread=false\n"
     ]
    },
    {
     "data": {
      "text/html": [
       "<table>\n",
       "    <thead>\n",
       "        <tr>\n",
       "            <th>japanese_title</th>\n",
       "            <th>english_title</th>\n",
       "        </tr>\n",
       "    </thead>\n",
       "    <tbody>\n",
       "        <tr>\n",
       "            <td>神奈川沖浪裏</td>\n",
       "            <td>The Great Wave off Kanagawa</td>\n",
       "        </tr>\n",
       "        <tr>\n",
       "            <td>凱風快晴</td>\n",
       "            <td>Fine Wind, Clear Morning</td>\n",
       "        </tr>\n",
       "        <tr>\n",
       "            <td>山下白雨</td>\n",
       "            <td>Thunderstorm Beneath the Summit</td>\n",
       "        </tr>\n",
       "        <tr>\n",
       "            <td>深川万年橋下</td>\n",
       "            <td>Under Mannen Bridge at Fukagawa</td>\n",
       "        </tr>\n",
       "        <tr>\n",
       "            <td>東都駿台</td>\n",
       "            <td>Sundai, Edo</td>\n",
       "        </tr>\n",
       "        <tr>\n",
       "            <td>青山円座松</td>\n",
       "            <td>Cushion Pine at Aoyama</td>\n",
       "        </tr>\n",
       "        <tr>\n",
       "            <td>武州千住</td>\n",
       "            <td>Senju, Musashi But</td>\n",
       "        </tr>\n",
       "        <tr>\n",
       "            <td>甲州犬目峠</td>\n",
       "            <td>Inume Pass, Kōshū</td>\n",
       "        </tr>\n",
       "        <tr>\n",
       "            <td>尾州不二見原</td>\n",
       "            <td>Fuji View Field in Owari Province</td>\n",
       "        </tr>\n",
       "        <tr>\n",
       "            <td>駿州江尻</td>\n",
       "            <td>Ejiri in Suruga Province</td>\n",
       "        </tr>\n",
       "        <tr>\n",
       "            <td>江都駿河町三井見世略図</td>\n",
       "            <td>A sketch of the Mitsui shop in Suruga in Edo</td>\n",
       "        </tr>\n",
       "        <tr>\n",
       "            <td>御厩川岸より両国橋夕陽見</td>\n",
       "            <td>Sunset across the Ryōgoku bridge from the bank of the Sumida River at Onmayagashi</td>\n",
       "        </tr>\n",
       "        <tr>\n",
       "            <td>五百らかん寺さざゐどう</td>\n",
       "            <td>Sazai hall - Temple of Five Hundred Rakan</td>\n",
       "        </tr>\n",
       "        <tr>\n",
       "            <td>礫川雪の旦</td>\n",
       "            <td>Tea house at Koishikawa. The morning after a snowfall</td>\n",
       "        </tr>\n",
       "        <tr>\n",
       "            <td>下目黒</td>\n",
       "            <td>Shimomeguro</td>\n",
       "        </tr>\n",
       "        <tr>\n",
       "            <td>隠田の水車</td>\n",
       "            <td>Watermill at Onden</td>\n",
       "        </tr>\n",
       "        <tr>\n",
       "            <td>相州江の島</td>\n",
       "            <td>Enoshima in Sagami Province</td>\n",
       "        </tr>\n",
       "        <tr>\n",
       "            <td>東海道江尻田子の浦略図</td>\n",
       "            <td>Shore of Tago Bay, Ejiri at Tōkaidō</td>\n",
       "        </tr>\n",
       "        <tr>\n",
       "            <td>東海道吉田</td>\n",
       "            <td>Yoshida at Tōkaidō</td>\n",
       "        </tr>\n",
       "        <tr>\n",
       "            <td>上総の海路</td>\n",
       "            <td>The Kazusa Province sea route</td>\n",
       "        </tr>\n",
       "        <tr>\n",
       "            <td>江戸日本橋</td>\n",
       "            <td>Nihonbashi bridge in Edo</td>\n",
       "        </tr>\n",
       "        <tr>\n",
       "            <td>隅田川関屋の里</td>\n",
       "            <td>Barrier Town on the Sumida River</td>\n",
       "        </tr>\n",
       "        <tr>\n",
       "            <td>登戸浦</td>\n",
       "            <td>Bay of Noboto</td>\n",
       "        </tr>\n",
       "        <tr>\n",
       "            <td>相州箱根湖水</td>\n",
       "            <td>The lake of Hakone in Sagami Province</td>\n",
       "        </tr>\n",
       "        <tr>\n",
       "            <td>甲州三坂水面</td>\n",
       "            <td>Mount Fuji reflects in Lake Kawaguchi, seen from the Misaka Pass in Kai Province</td>\n",
       "        </tr>\n",
       "        <tr>\n",
       "            <td>東海道保土ケ谷</td>\n",
       "            <td>Hodogaya on the Tōkaidō</td>\n",
       "        </tr>\n",
       "        <tr>\n",
       "            <td>武州玉川</td>\n",
       "            <td>Tama River in Musashi Province</td>\n",
       "        </tr>\n",
       "        <tr>\n",
       "            <td>東都浅草本願寺</td>\n",
       "            <td>Asakusa Hongan-ji temple in the Eastern capital</td>\n",
       "        </tr>\n",
       "        <tr>\n",
       "            <td>武陽佃島</td>\n",
       "            <td>Tsukuda Island in Musashi Province</td>\n",
       "        </tr>\n",
       "        <tr>\n",
       "            <td>相州七里浜</td>\n",
       "            <td>Shichiri beach in Sagami Province</td>\n",
       "        </tr>\n",
       "        <tr>\n",
       "            <td>相州梅沢庄</td>\n",
       "            <td>Umezawa in Sagami Province</td>\n",
       "        </tr>\n",
       "        <tr>\n",
       "            <td>甲州石班沢</td>\n",
       "            <td>Kajikazawa in Kai Province</td>\n",
       "        </tr>\n",
       "        <tr>\n",
       "            <td>甲州三嶌越</td>\n",
       "            <td>Mishima Pass in Kai Province</td>\n",
       "        </tr>\n",
       "        <tr>\n",
       "            <td>遠江山中</td>\n",
       "            <td>Mount Fuji from the mountains of Tōtōmi</td>\n",
       "        </tr>\n",
       "        <tr>\n",
       "            <td>信州諏訪湖</td>\n",
       "            <td>A View of Mount Fuji Across Lake Suwa</td>\n",
       "        </tr>\n",
       "        <tr>\n",
       "            <td>常州牛掘</td>\n",
       "            <td>Ushibori in Hitachi Province</td>\n",
       "        </tr>\n",
       "        <tr>\n",
       "            <td>東都一石ばし</td>\n",
       "            <td>Ichikoku Bridge in the Eastern Capital</td>\n",
       "        </tr>\n",
       "        <tr>\n",
       "            <td>東都駿河町</td>\n",
       "            <td>The Suruga District in the Eastern Capital</td>\n",
       "        </tr>\n",
       "        <tr>\n",
       "            <td>東都数奇屋河岸</td>\n",
       "            <td>Sukiyagashi in the Eastern Capital</td>\n",
       "        </tr>\n",
       "        <tr>\n",
       "            <td>東都佃沖</td>\n",
       "            <td>Off Tsukuda Island in the Eastern Capital</td>\n",
       "        </tr>\n",
       "        <tr>\n",
       "            <td>東都御茶の水</td>\n",
       "            <td>Ochanomizu in the Eastern Capital</td>\n",
       "        </tr>\n",
       "        <tr>\n",
       "            <td>東都両ごく</td>\n",
       "            <td>Ryōgoku in the Eastern Capital</td>\n",
       "        </tr>\n",
       "        <tr>\n",
       "            <td>東都墨田堤</td>\n",
       "            <td>The Sumida Embankment in the Eastern Capital</td>\n",
       "        </tr>\n",
       "        <tr>\n",
       "            <td>東都あすか山</td>\n",
       "            <td>Mt. Asuka in the Eastern Capital</td>\n",
       "        </tr>\n",
       "        <tr>\n",
       "            <td>雑司かや不二見茶や</td>\n",
       "            <td>The Teahouse with the View of Mt. Fuji at Zōshigaya</td>\n",
       "        </tr>\n",
       "        <tr>\n",
       "            <td>東都目黒夕日か岡</td>\n",
       "            <td>Twilight Hill at Meguro in the Eastern Capital</td>\n",
       "        </tr>\n",
       "        <tr>\n",
       "            <td>鴻之臺戸根川</td>\n",
       "            <td>Wild Goose Hill and the Tone River</td>\n",
       "        </tr>\n",
       "        <tr>\n",
       "            <td>武蔵小金井</td>\n",
       "            <td>Koganei in Musashi Province</td>\n",
       "        </tr>\n",
       "        <tr>\n",
       "            <td>武蔵玉川</td>\n",
       "            <td>The Tama River in Musashi Province</td>\n",
       "        </tr>\n",
       "        <tr>\n",
       "            <td>武蔵越が谷在</td>\n",
       "            <td>Koshigaya in Musashi Province</td>\n",
       "        </tr>\n",
       "        <tr>\n",
       "            <td>武蔵野毛横濱</td>\n",
       "            <td>Noge and Yokohama in Musashi Province</td>\n",
       "        </tr>\n",
       "        <tr>\n",
       "            <td>武蔵本牧のはな</td>\n",
       "            <td>Cherry Blossoms at Honmoku in Musashi Province</td>\n",
       "        </tr>\n",
       "        <tr>\n",
       "            <td>相州三浦之海上</td>\n",
       "            <td>The Sea off the Miura Peninsula in Sagami Province</td>\n",
       "        </tr>\n",
       "        <tr>\n",
       "            <td>さがみ川</td>\n",
       "            <td>The Sagami River</td>\n",
       "        </tr>\n",
       "        <tr>\n",
       "            <td>相摸七里か濱</td>\n",
       "            <td>The Seven Ri Beach in Sagami Province</td>\n",
       "        </tr>\n",
       "        <tr>\n",
       "            <td>相摸江之島入口</td>\n",
       "            <td>The Entrance gate at Enoshima in Sagami Province</td>\n",
       "        </tr>\n",
       "        <tr>\n",
       "            <td>はこ根の湖すい</td>\n",
       "            <td>Lake at Hakone</td>\n",
       "        </tr>\n",
       "        <tr>\n",
       "            <td>伊豆の山中</td>\n",
       "            <td>The Izu Mountains</td>\n",
       "        </tr>\n",
       "        <tr>\n",
       "            <td>駿河薩タ之海上</td>\n",
       "            <td>The Sea off Satta in Suruga Province</td>\n",
       "        </tr>\n",
       "        <tr>\n",
       "            <td>駿河三保之松原</td>\n",
       "            <td>The Pine Forest of Miho in Suruga Province</td>\n",
       "        </tr>\n",
       "        <tr>\n",
       "            <td>東海堂左り不二</td>\n",
       "            <td>Fuji on the left of the Tōkaidō Road</td>\n",
       "        </tr>\n",
       "        <tr>\n",
       "            <td>駿遠大井川</td>\n",
       "            <td>The Ōi River between Suruga and Totomi Provinces</td>\n",
       "        </tr>\n",
       "        <tr>\n",
       "            <td>伊勢二見か浦</td>\n",
       "            <td>Futami Bay in Ise Province</td>\n",
       "        </tr>\n",
       "        <tr>\n",
       "            <td>信州諏訪之湖</td>\n",
       "            <td>Lake Suwa in Shinano Province</td>\n",
       "        </tr>\n",
       "        <tr>\n",
       "            <td>信濃塩尻峠</td>\n",
       "            <td>Shiojiri Pass in Shinano Province</td>\n",
       "        </tr>\n",
       "        <tr>\n",
       "            <td>甲斐御坂越</td>\n",
       "            <td>Misaka Pass in Kai Province</td>\n",
       "        </tr>\n",
       "        <tr>\n",
       "            <td>甲斐大月の原</td>\n",
       "            <td>The Ōtsuki Plain in Kai Province</td>\n",
       "        </tr>\n",
       "        <tr>\n",
       "            <td>甲斐犬目峠</td>\n",
       "            <td>Dog Eye Pass in Kai Province</td>\n",
       "        </tr>\n",
       "        <tr>\n",
       "            <td>下総小金原</td>\n",
       "            <td>Kogane Plain in Shimōsa Province</td>\n",
       "        </tr>\n",
       "        <tr>\n",
       "            <td>上総黒戸の浦</td>\n",
       "            <td>Kuroto Bay in Kazusa Province</td>\n",
       "        </tr>\n",
       "        <tr>\n",
       "            <td>上総鹿埜山</td>\n",
       "            <td>Mt. Kanō in Kazusa Province</td>\n",
       "        </tr>\n",
       "        <tr>\n",
       "            <td>房州保田ノ海岸</td>\n",
       "            <td>The Hota Coast in Awa Province</td>\n",
       "        </tr>\n",
       "    </tbody>\n",
       "</table>"
      ],
      "text/plain": [
       "[('神奈川沖浪裏', 'The Great Wave off Kanagawa'),\n",
       " ('凱風快晴', 'Fine Wind, Clear Morning'),\n",
       " ('山下白雨', 'Thunderstorm Beneath the Summit'),\n",
       " ('深川万年橋下', 'Under Mannen Bridge at Fukagawa'),\n",
       " ('東都駿台', 'Sundai, Edo'),\n",
       " ('青山円座松', 'Cushion Pine at Aoyama'),\n",
       " ('武州千住', 'Senju, Musashi But'),\n",
       " ('甲州犬目峠', 'Inume Pass, Kōshū'),\n",
       " ('尾州不二見原', 'Fuji View Field in Owari Province'),\n",
       " ('駿州江尻', 'Ejiri in Suruga Province'),\n",
       " ('江都駿河町三井見世略図', 'A sketch of the Mitsui shop in Suruga in Edo'),\n",
       " ('御厩川岸より両国橋夕陽見', 'Sunset across the Ryōgoku bridge from the bank of the Sumida River at Onmayagashi'),\n",
       " ('五百らかん寺さざゐどう', 'Sazai hall - Temple of Five Hundred Rakan'),\n",
       " ('礫川雪の旦', 'Tea house at Koishikawa. The morning after a snowfall'),\n",
       " ('下目黒', 'Shimomeguro'),\n",
       " ('隠田の水車', 'Watermill at Onden'),\n",
       " ('相州江の島', 'Enoshima in Sagami Province'),\n",
       " ('東海道江尻田子の浦略図', 'Shore of Tago Bay, Ejiri at Tōkaidō'),\n",
       " ('東海道吉田', 'Yoshida at Tōkaidō'),\n",
       " ('上総の海路', 'The Kazusa Province sea route'),\n",
       " ('江戸日本橋', 'Nihonbashi bridge in Edo'),\n",
       " ('隅田川関屋の里', 'Barrier Town on the Sumida River'),\n",
       " ('登戸浦', 'Bay of Noboto'),\n",
       " ('相州箱根湖水', 'The lake of Hakone in Sagami Province'),\n",
       " ('甲州三坂水面', 'Mount Fuji reflects in Lake Kawaguchi, seen from the Misaka Pass in Kai Province'),\n",
       " ('東海道保土ケ谷', 'Hodogaya on the Tōkaidō'),\n",
       " ('武州玉川', 'Tama River in Musashi Province'),\n",
       " ('東都浅草本願寺', 'Asakusa Hongan-ji temple in the Eastern capital'),\n",
       " ('武陽佃島', 'Tsukuda Island in Musashi Province'),\n",
       " ('相州七里浜', 'Shichiri beach in Sagami Province'),\n",
       " ('相州梅沢庄', 'Umezawa in Sagami Province'),\n",
       " ('甲州石班沢', 'Kajikazawa in Kai Province'),\n",
       " ('甲州三嶌越', 'Mishima Pass in Kai Province'),\n",
       " ('遠江山中', 'Mount Fuji from the mountains of Tōtōmi'),\n",
       " ('信州諏訪湖', 'A View of Mount Fuji Across Lake Suwa'),\n",
       " ('常州牛掘', 'Ushibori in Hitachi Province'),\n",
       " ('東都一石ばし', 'Ichikoku Bridge in the Eastern Capital'),\n",
       " ('東都駿河町', 'The Suruga District in the Eastern Capital'),\n",
       " ('東都数奇屋河岸', 'Sukiyagashi in the Eastern Capital'),\n",
       " ('東都佃沖', 'Off Tsukuda Island in the Eastern Capital'),\n",
       " ('東都御茶の水', 'Ochanomizu in the Eastern Capital'),\n",
       " ('東都両ごく', 'Ryōgoku in the Eastern Capital'),\n",
       " ('東都墨田堤', 'The Sumida Embankment in the Eastern Capital'),\n",
       " ('東都あすか山', 'Mt. Asuka in the Eastern Capital'),\n",
       " ('雑司かや不二見茶や', 'The Teahouse with the View of Mt. Fuji at Zōshigaya'),\n",
       " ('東都目黒夕日か岡', 'Twilight Hill at Meguro in the Eastern Capital'),\n",
       " ('鴻之臺戸根川', 'Wild Goose Hill and the Tone River'),\n",
       " ('武蔵小金井', 'Koganei in Musashi Province'),\n",
       " ('武蔵玉川', 'The Tama River in Musashi Province'),\n",
       " ('武蔵越が谷在', 'Koshigaya in Musashi Province'),\n",
       " ('武蔵野毛横濱', 'Noge and Yokohama in Musashi Province'),\n",
       " ('武蔵本牧のはな', 'Cherry Blossoms at Honmoku in Musashi Province'),\n",
       " ('相州三浦之海上', 'The Sea off the Miura Peninsula in Sagami Province'),\n",
       " ('さがみ川', 'The Sagami River'),\n",
       " ('相摸七里か濱', 'The Seven Ri Beach in Sagami Province'),\n",
       " ('相摸江之島入口', 'The Entrance gate at Enoshima in Sagami Province'),\n",
       " ('はこ根の湖すい', 'Lake at Hakone'),\n",
       " ('伊豆の山中', 'The Izu Mountains'),\n",
       " ('駿河薩タ之海上', 'The Sea off Satta in Suruga Province'),\n",
       " ('駿河三保之松原', 'The Pine Forest of Miho in Suruga Province'),\n",
       " ('東海堂左り不二', 'Fuji on the left of the Tōkaidō Road'),\n",
       " ('駿遠大井川', 'The Ōi River between Suruga and Totomi Provinces'),\n",
       " ('伊勢二見か浦', 'Futami Bay in Ise Province'),\n",
       " ('信州諏訪之湖', 'Lake Suwa in Shinano Province'),\n",
       " ('信濃塩尻峠', 'Shiojiri Pass in Shinano Province'),\n",
       " ('甲斐御坂越', 'Misaka Pass in Kai Province'),\n",
       " ('甲斐大月の原', 'The Ōtsuki Plain in Kai Province'),\n",
       " ('甲斐犬目峠', 'Dog Eye Pass in Kai Province'),\n",
       " ('下総小金原', 'Kogane Plain in Shimōsa Province'),\n",
       " ('上総黒戸の浦', 'Kuroto Bay in Kazusa Province'),\n",
       " ('上総鹿埜山', 'Mt. Kanō in Kazusa Province'),\n",
       " ('房州保田ノ海岸', 'The Hota Coast in Awa Province')]"
      ]
     },
     "execution_count": 5,
     "metadata": {},
     "output_type": "execute_result"
    }
   ],
   "source": [
    "%%sql\n",
    "SELECT \"japanese_title\", \"english_title\"\n",
    "FROM \"views\";"
   ]
  },
  {
   "cell_type": "markdown",
   "id": "5151d934",
   "metadata": {},
   "source": [
    "## 02  \n",
    "Write a SQL query to list the average colors of prints by Hokusai that include “river” in the English title. (As an aside, do they have any hint of blue?)"
   ]
  },
  {
   "cell_type": "code",
   "execution_count": 6,
   "id": "503b7555",
   "metadata": {},
   "outputs": [
    {
     "name": "stdout",
     "output_type": "stream",
     "text": [
      " * sqlite:///views.db?check_same_thread=false\n"
     ]
    },
    {
     "data": {
      "text/html": [
       "<table>\n",
       "    <thead>\n",
       "        <tr>\n",
       "            <th>average_color</th>\n",
       "        </tr>\n",
       "    </thead>\n",
       "    <tbody>\n",
       "        <tr>\n",
       "            <td>#8ba1a5</td>\n",
       "        </tr>\n",
       "        <tr>\n",
       "            <td>#b3b399</td>\n",
       "        </tr>\n",
       "        <tr>\n",
       "            <td>#a6a799</td>\n",
       "        </tr>\n",
       "    </tbody>\n",
       "</table>"
      ],
      "text/plain": [
       "[('#8ba1a5',), ('#b3b399',), ('#a6a799',)]"
      ]
     },
     "execution_count": 6,
     "metadata": {},
     "output_type": "execute_result"
    }
   ],
   "source": [
    "%%sql\n",
    "SELECT \"average_color\"\n",
    "FROM \"views\"\n",
    "WHERE \"artist\" IS 'Hokusai' \n",
    "AND \"english_title\" LIKE '%river%';"
   ]
  },
  {
   "cell_type": "markdown",
   "id": "0114e0a8",
   "metadata": {},
   "source": [
    "## 03  \n",
    "Write a SQL query to count how many prints by Hokusai include “Fuji” in the English title. Though all of Hokusai’s prints focused on Mt. Fuji, in how many did “Fuji” make it into the title?"
   ]
  },
  {
   "cell_type": "code",
   "execution_count": 7,
   "id": "ff9343b0",
   "metadata": {},
   "outputs": [
    {
     "name": "stdout",
     "output_type": "stream",
     "text": [
      " * sqlite:///views.db?check_same_thread=false\n"
     ]
    },
    {
     "data": {
      "text/html": [
       "<table>\n",
       "    <thead>\n",
       "        <tr>\n",
       "            <th>count_of_fuji</th>\n",
       "        </tr>\n",
       "    </thead>\n",
       "    <tbody>\n",
       "        <tr>\n",
       "            <td>4</td>\n",
       "        </tr>\n",
       "    </tbody>\n",
       "</table>"
      ],
      "text/plain": [
       "[(4,)]"
      ]
     },
     "execution_count": 7,
     "metadata": {},
     "output_type": "execute_result"
    }
   ],
   "source": [
    "%%sql\n",
    "SELECT COUNT(\"english_title\") AS \"count_of_fuji\"\n",
    "FROM \"views\"\n",
    "WHERE \"artist\" IS 'Hokusai' \n",
    "AND \"english_title\" LIKE '%Fuji%';"
   ]
  },
  {
   "cell_type": "markdown",
   "id": "af3a110c",
   "metadata": {},
   "source": [
    "## 04  \n",
    "Write a SQL query to count how many prints by Hiroshige have English titles that refer to the “Eastern Capital”. Hiroshige’s prints were created in Japan’s “Edo period,” referencing the eastern capital city of Edo, now Tokyo."
   ]
  },
  {
   "cell_type": "code",
   "execution_count": 20,
   "id": "7f066db2",
   "metadata": {},
   "outputs": [
    {
     "name": "stdout",
     "output_type": "stream",
     "text": [
      " * sqlite:///views.db?check_same_thread=false\n"
     ]
    },
    {
     "data": {
      "text/html": [
       "<table>\n",
       "    <thead>\n",
       "        <tr>\n",
       "            <th>count_of_edo</th>\n",
       "        </tr>\n",
       "    </thead>\n",
       "    <tbody>\n",
       "        <tr>\n",
       "            <td>9</td>\n",
       "        </tr>\n",
       "    </tbody>\n",
       "</table>"
      ],
      "text/plain": [
       "[(9,)]"
      ]
     },
     "execution_count": 20,
     "metadata": {},
     "output_type": "execute_result"
    }
   ],
   "source": [
    "%%sql\n",
    "SELECT COUNT(\"english_title\") AS \"count_of_edo\"\n",
    "FROM \"views\"\n",
    "WHERE \"artist\" IS 'Hiroshige' \n",
    "AND \"english_title\" LIKE '%Eastern Capital%';"
   ]
  },
  {
   "cell_type": "markdown",
   "id": "9ba340c7",
   "metadata": {},
   "source": [
    "## 05  \n",
    "Write a SQL query to find the highest contrast value of prints by Hokusai. Name the column “Maximum Contrast”. Does Hokusai’s prints most contrasting print actually have much contrast?"
   ]
  },
  {
   "cell_type": "code",
   "execution_count": 11,
   "id": "e65bca93",
   "metadata": {},
   "outputs": [
    {
     "name": "stdout",
     "output_type": "stream",
     "text": [
      " * sqlite:///views.db?check_same_thread=false\n"
     ]
    },
    {
     "data": {
      "text/html": [
       "<table>\n",
       "    <thead>\n",
       "        <tr>\n",
       "            <th>Maximum Contrast</th>\n",
       "        </tr>\n",
       "    </thead>\n",
       "    <tbody>\n",
       "        <tr>\n",
       "            <td>0.65</td>\n",
       "        </tr>\n",
       "    </tbody>\n",
       "</table>"
      ],
      "text/plain": [
       "[(0.65,)]"
      ]
     },
     "execution_count": 11,
     "metadata": {},
     "output_type": "execute_result"
    }
   ],
   "source": [
    "%%sql\n",
    "SELECT MAX(\"contrast\") as \"Maximum Contrast\"\n",
    "FROM \"views\"\n",
    "WHERE \"artist\" IS 'Hokusai';"
   ]
  },
  {
   "cell_type": "markdown",
   "id": "dacdb960",
   "metadata": {},
   "source": [
    "## 06  \n",
    "Write a SQL query to find the average entropy of prints by Hiroshige, rounded to two decimal places. Call the resulting column “Hiroshige Average Entropy”."
   ]
  },
  {
   "cell_type": "code",
   "execution_count": 13,
   "id": "a3281aff",
   "metadata": {},
   "outputs": [
    {
     "name": "stdout",
     "output_type": "stream",
     "text": [
      " * sqlite:///views.db?check_same_thread=false\n"
     ]
    },
    {
     "data": {
      "text/html": [
       "<table>\n",
       "    <thead>\n",
       "        <tr>\n",
       "            <th>Hiroshige Average Entropy</th>\n",
       "        </tr>\n",
       "    </thead>\n",
       "    <tbody>\n",
       "        <tr>\n",
       "            <td>7.42</td>\n",
       "        </tr>\n",
       "    </tbody>\n",
       "</table>"
      ],
      "text/plain": [
       "[(7.42,)]"
      ]
     },
     "execution_count": 13,
     "metadata": {},
     "output_type": "execute_result"
    }
   ],
   "source": [
    "%%sql\n",
    "SELECT ROUND(AVG(\"entropy\"), 2) as \"Hiroshige Average Entropy\"\n",
    "FROM \"views\"\n",
    "WHERE \"artist\" IS 'Hiroshige';"
   ]
  },
  {
   "cell_type": "markdown",
   "id": "db9c0f74",
   "metadata": {},
   "source": [
    "## 07  \n",
    "Write a SQL query to list the English titles of the 5 brightest prints by Hiroshige, from most to least bright. Compare them to this list on Wikipedia to see if your results match the print’s aesthetics."
   ]
  },
  {
   "cell_type": "code",
   "execution_count": 14,
   "id": "e73143af",
   "metadata": {},
   "outputs": [
    {
     "name": "stdout",
     "output_type": "stream",
     "text": [
      " * sqlite:///views.db?check_same_thread=false\n"
     ]
    },
    {
     "data": {
      "text/html": [
       "<table>\n",
       "    <thead>\n",
       "        <tr>\n",
       "            <th>english_title</th>\n",
       "        </tr>\n",
       "    </thead>\n",
       "    <tbody>\n",
       "        <tr>\n",
       "            <td>The Sea off the Miura Peninsula in Sagami Province</td>\n",
       "        </tr>\n",
       "        <tr>\n",
       "            <td>Futami Bay in Ise Province</td>\n",
       "        </tr>\n",
       "        <tr>\n",
       "            <td>The Sumida Embankment in the Eastern Capital</td>\n",
       "        </tr>\n",
       "        <tr>\n",
       "            <td>Sukiyagashi in the Eastern Capital</td>\n",
       "        </tr>\n",
       "        <tr>\n",
       "            <td>Cherry Blossoms at Honmoku in Musashi Province</td>\n",
       "        </tr>\n",
       "    </tbody>\n",
       "</table>"
      ],
      "text/plain": [
       "[('The Sea off the Miura Peninsula in Sagami Province',),\n",
       " ('Futami Bay in Ise Province',),\n",
       " ('The Sumida Embankment in the Eastern Capital',),\n",
       " ('Sukiyagashi in the Eastern Capital',),\n",
       " ('Cherry Blossoms at Honmoku in Musashi Province',)]"
      ]
     },
     "execution_count": 14,
     "metadata": {},
     "output_type": "execute_result"
    }
   ],
   "source": [
    "%%sql\n",
    "SELECT \"english_title\"\n",
    "FROM \"views\"\n",
    "WHERE \"artist\" IS 'Hiroshige' \n",
    "ORDER BY \"brightness\" DESC\n",
    "LIMIT 5;"
   ]
  },
  {
   "cell_type": "markdown",
   "id": "6eba9947",
   "metadata": {},
   "source": [
    "## 08  \n",
    "Write a SQL query to list the English titles of the 5 prints with the least contrast by Hokusai, from least to highest contrast. Compare them to this list on Wikipedia to see if your results match the print’s aesthetics."
   ]
  },
  {
   "cell_type": "code",
   "execution_count": 21,
   "id": "35c85a5d",
   "metadata": {},
   "outputs": [
    {
     "name": "stdout",
     "output_type": "stream",
     "text": [
      " * sqlite:///views.db?check_same_thread=false\n"
     ]
    },
    {
     "data": {
      "text/html": [
       "<table>\n",
       "    <thead>\n",
       "        <tr>\n",
       "            <th>english_title</th>\n",
       "        </tr>\n",
       "    </thead>\n",
       "    <tbody>\n",
       "        <tr>\n",
       "            <td>Mount Fuji reflects in Lake Kawaguchi, seen from the Misaka Pass in Kai Province</td>\n",
       "        </tr>\n",
       "        <tr>\n",
       "            <td>Kajikazawa in Kai Province</td>\n",
       "        </tr>\n",
       "        <tr>\n",
       "            <td>Shimomeguro</td>\n",
       "        </tr>\n",
       "        <tr>\n",
       "            <td>Bay of Noboto</td>\n",
       "        </tr>\n",
       "        <tr>\n",
       "            <td>Ushibori in Hitachi Province</td>\n",
       "        </tr>\n",
       "    </tbody>\n",
       "</table>"
      ],
      "text/plain": [
       "[('Mount Fuji reflects in Lake Kawaguchi, seen from the Misaka Pass in Kai Province',),\n",
       " ('Kajikazawa in Kai Province',),\n",
       " ('Shimomeguro',),\n",
       " ('Bay of Noboto',),\n",
       " ('Ushibori in Hitachi Province',)]"
      ]
     },
     "execution_count": 21,
     "metadata": {},
     "output_type": "execute_result"
    }
   ],
   "source": [
    "%%sql\n",
    "SELECT \"english_title\"\n",
    "FROM \"views\"\n",
    "WHERE \"artist\" IS 'Hokusai' \n",
    "ORDER BY \"contrast\" ASC\n",
    "LIMIT 5;"
   ]
  },
  {
   "cell_type": "markdown",
   "id": "f6a78655",
   "metadata": {},
   "source": [
    "## O9  \n",
    "Write a SQL query to find the English title and artist of the print with the highest brightness."
   ]
  },
  {
   "cell_type": "code",
   "execution_count": 17,
   "id": "b285f115",
   "metadata": {},
   "outputs": [
    {
     "name": "stdout",
     "output_type": "stream",
     "text": [
      " * sqlite:///views.db?check_same_thread=false\n"
     ]
    },
    {
     "data": {
      "text/html": [
       "<table>\n",
       "    <thead>\n",
       "        <tr>\n",
       "            <th>english_title</th>\n",
       "            <th>artist</th>\n",
       "        </tr>\n",
       "    </thead>\n",
       "    <tbody>\n",
       "        <tr>\n",
       "            <td>A View of Mount Fuji Across Lake Suwa</td>\n",
       "            <td>Hokusai</td>\n",
       "        </tr>\n",
       "    </tbody>\n",
       "</table>"
      ],
      "text/plain": [
       "[('A View of Mount Fuji Across Lake Suwa', 'Hokusai')]"
      ]
     },
     "execution_count": 17,
     "metadata": {},
     "output_type": "execute_result"
    }
   ],
   "source": [
    "%%sql\n",
    "SELECT \"english_title\", \"artist\"\n",
    "FROM \"views\"\n",
    "WHERE \"brightness\" = (\n",
    "    SELECT MAX(\"brightness\") FROM \"views\"\n",
    ");"
   ]
  },
  {
   "cell_type": "markdown",
   "id": "de0164c0",
   "metadata": {},
   "source": [
    "## 10  \n",
    "Write a SQL query to answer a question of your choice about the prints. The query should:\n",
    "- Make use of `AS` to rename a column\n",
    "- Involve at least one condition, using `WHERE`\n",
    "- Sort by at least one column, using `ORDER BY`"
   ]
  },
  {
   "cell_type": "markdown",
   "id": "95f60562",
   "metadata": {},
   "source": [
    "*Question:* Which prints by Hiroshige have a brightness above the average brightness of all prints, and how do they rank in terms of contrast?"
   ]
  },
  {
   "cell_type": "code",
   "execution_count": 19,
   "id": "64d142c6",
   "metadata": {},
   "outputs": [
    {
     "name": "stdout",
     "output_type": "stream",
     "text": [
      " * sqlite:///views.db?check_same_thread=false\n"
     ]
    },
    {
     "data": {
      "text/html": [
       "<table>\n",
       "    <thead>\n",
       "        <tr>\n",
       "            <th>title</th>\n",
       "            <th>light_level</th>\n",
       "            <th>contrast_level</th>\n",
       "        </tr>\n",
       "    </thead>\n",
       "    <tbody>\n",
       "        <tr>\n",
       "            <td>Futami Bay in Ise Province</td>\n",
       "            <td>0.64</td>\n",
       "            <td>0.55</td>\n",
       "        </tr>\n",
       "        <tr>\n",
       "            <td>The Sumida Embankment in the Eastern Capital</td>\n",
       "            <td>0.62</td>\n",
       "            <td>0.48</td>\n",
       "        </tr>\n",
       "        <tr>\n",
       "            <td>Sukiyagashi in the Eastern Capital</td>\n",
       "            <td>0.61</td>\n",
       "            <td>0.39</td>\n",
       "        </tr>\n",
       "        <tr>\n",
       "            <td>The Sea off the Miura Peninsula in Sagami Province</td>\n",
       "            <td>0.64</td>\n",
       "            <td>0.34</td>\n",
       "        </tr>\n",
       "    </tbody>\n",
       "</table>"
      ],
      "text/plain": [
       "[('Futami Bay in Ise Province', 0.64, 0.55),\n",
       " ('The Sumida Embankment in the Eastern Capital', 0.62, 0.48),\n",
       " ('Sukiyagashi in the Eastern Capital', 0.61, 0.39),\n",
       " ('The Sea off the Miura Peninsula in Sagami Province', 0.64, 0.34)]"
      ]
     },
     "execution_count": 19,
     "metadata": {},
     "output_type": "execute_result"
    }
   ],
   "source": [
    "%%sql\n",
    "SELECT\n",
    "    english_title AS title,\n",
    "    brightness AS light_level,\n",
    "    contrast AS contrast_level\n",
    "FROM views\n",
    "WHERE artist = 'Hiroshige'\n",
    "AND brightness > (\n",
    "    SELECT AVG(brightness) FROM views\n",
    ")\n",
    "ORDER BY contrast DESC;\n"
   ]
  }
 ],
 "metadata": {
  "kernelspec": {
   "display_name": ".venv",
   "language": "python",
   "name": "python3"
  },
  "language_info": {
   "codemirror_mode": {
    "name": "ipython",
    "version": 3
   },
   "file_extension": ".py",
   "mimetype": "text/x-python",
   "name": "python",
   "nbconvert_exporter": "python",
   "pygments_lexer": "ipython3",
   "version": "3.12.1"
  }
 },
 "nbformat": 4,
 "nbformat_minor": 5
}
