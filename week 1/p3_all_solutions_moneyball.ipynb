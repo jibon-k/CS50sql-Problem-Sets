{
 "cells": [
  {
   "cell_type": "code",
   "execution_count": 1,
   "id": "f498be27",
   "metadata": {},
   "outputs": [],
   "source": [
    "import sqlite3"
   ]
  },
  {
   "cell_type": "code",
   "execution_count": 2,
   "id": "9f00ee06",
   "metadata": {},
   "outputs": [],
   "source": [
    "db = \"../databases/moneyball.db\""
   ]
  },
  {
   "cell_type": "code",
   "execution_count": 3,
   "id": "73de311e",
   "metadata": {},
   "outputs": [
    {
     "name": "stdout",
     "output_type": "stream",
     "text": [
      " * sqlite:///../databases/moneyball.db?check_same_thread=false\n"
     ]
    },
    {
     "data": {
      "text/html": [
       "<table>\n",
       "    <thead>\n",
       "        <tr>\n",
       "            <th>name</th>\n",
       "        </tr>\n",
       "    </thead>\n",
       "    <tbody>\n",
       "        <tr>\n",
       "            <td>players</td>\n",
       "        </tr>\n",
       "        <tr>\n",
       "            <td>teams</td>\n",
       "        </tr>\n",
       "        <tr>\n",
       "            <td>salaries</td>\n",
       "        </tr>\n",
       "        <tr>\n",
       "            <td>performances</td>\n",
       "        </tr>\n",
       "    </tbody>\n",
       "</table>"
      ],
      "text/plain": [
       "[('players',), ('teams',), ('salaries',), ('performances',)]"
      ]
     },
     "execution_count": 3,
     "metadata": {},
     "output_type": "execute_result"
    }
   ],
   "source": [
    "%load_ext sql\n",
    "%config SqlMagic.feedback=False\n",
    "%sql sqlite:///{db}?check_same_thread=false\n",
    "%sql SELECT name FROM sqlite_master WHERE type='table';"
   ]
  },
  {
   "cell_type": "code",
   "execution_count": 5,
   "id": "82d178a7",
   "metadata": {},
   "outputs": [
    {
     "name": "stdout",
     "output_type": "stream",
     "text": [
      " * sqlite:///../databases/moneyball.db?check_same_thread=false\n"
     ]
    },
    {
     "data": {
      "text/html": [
       "<table>\n",
       "    <thead>\n",
       "        <tr>\n",
       "            <th>id</th>\n",
       "            <th>first_name</th>\n",
       "            <th>last_name</th>\n",
       "            <th>bats</th>\n",
       "            <th>throws</th>\n",
       "            <th>weight</th>\n",
       "            <th>height</th>\n",
       "            <th>debut</th>\n",
       "            <th>final_game</th>\n",
       "            <th>birth_year</th>\n",
       "            <th>birth_month</th>\n",
       "            <th>birth_day</th>\n",
       "            <th>birth_city</th>\n",
       "            <th>birth_state</th>\n",
       "            <th>birth_country</th>\n",
       "        </tr>\n",
       "    </thead>\n",
       "    <tbody>\n",
       "        <tr>\n",
       "            <td>2</td>\n",
       "            <td>Hank</td>\n",
       "            <td>Aaron</td>\n",
       "            <td>R</td>\n",
       "            <td>R</td>\n",
       "            <td>180</td>\n",
       "            <td>72</td>\n",
       "            <td>1954-04-13</td>\n",
       "            <td>1976-10-03</td>\n",
       "            <td>1934</td>\n",
       "            <td>2</td>\n",
       "            <td>5</td>\n",
       "            <td>Mobile</td>\n",
       "            <td>AL</td>\n",
       "            <td>USA</td>\n",
       "        </tr>\n",
       "        <tr>\n",
       "            <td>3</td>\n",
       "            <td>Tommie</td>\n",
       "            <td>Aaron</td>\n",
       "            <td>R</td>\n",
       "            <td>R</td>\n",
       "            <td>190</td>\n",
       "            <td>75</td>\n",
       "            <td>1962-04-10</td>\n",
       "            <td>1971-09-26</td>\n",
       "            <td>1939</td>\n",
       "            <td>8</td>\n",
       "            <td>5</td>\n",
       "            <td>Mobile</td>\n",
       "            <td>AL</td>\n",
       "            <td>USA</td>\n",
       "        </tr>\n",
       "    </tbody>\n",
       "</table>"
      ],
      "text/plain": [
       "[(2, 'Hank', 'Aaron', 'R', 'R', 180, 72, '1954-04-13', '1976-10-03', 1934, 2, 5, 'Mobile', 'AL', 'USA'),\n",
       " (3, 'Tommie', 'Aaron', 'R', 'R', 190, 75, '1962-04-10', '1971-09-26', 1939, 8, 5, 'Mobile', 'AL', 'USA')]"
      ]
     },
     "execution_count": 5,
     "metadata": {},
     "output_type": "execute_result"
    }
   ],
   "source": [
    "%sql select * from players limit 2;"
   ]
  },
  {
   "cell_type": "code",
   "execution_count": 6,
   "id": "e8470cc9",
   "metadata": {},
   "outputs": [
    {
     "name": "stdout",
     "output_type": "stream",
     "text": [
      " * sqlite:///../databases/moneyball.db?check_same_thread=false\n"
     ]
    },
    {
     "data": {
      "text/html": [
       "<table>\n",
       "    <thead>\n",
       "        <tr>\n",
       "            <th>id</th>\n",
       "            <th>year</th>\n",
       "            <th>name</th>\n",
       "            <th>park</th>\n",
       "        </tr>\n",
       "    </thead>\n",
       "    <tbody>\n",
       "        <tr>\n",
       "            <td>1</td>\n",
       "            <td>1884</td>\n",
       "            <td>Altoona Mountain City</td>\n",
       "            <td>None</td>\n",
       "        </tr>\n",
       "        <tr>\n",
       "            <td>2</td>\n",
       "            <td>2001</td>\n",
       "            <td>Anaheim Angels</td>\n",
       "            <td>Edison International Field</td>\n",
       "        </tr>\n",
       "    </tbody>\n",
       "</table>"
      ],
      "text/plain": [
       "[(1, 1884, 'Altoona Mountain City', None),\n",
       " (2, 2001, 'Anaheim Angels', 'Edison International Field')]"
      ]
     },
     "execution_count": 6,
     "metadata": {},
     "output_type": "execute_result"
    }
   ],
   "source": [
    "%sql select * from teams limit 2;"
   ]
  },
  {
   "cell_type": "code",
   "execution_count": 7,
   "id": "c8d2c30f",
   "metadata": {},
   "outputs": [
    {
     "name": "stdout",
     "output_type": "stream",
     "text": [
      " * sqlite:///../databases/moneyball.db?check_same_thread=false\n"
     ]
    },
    {
     "data": {
      "text/html": [
       "<table>\n",
       "    <thead>\n",
       "        <tr>\n",
       "            <th>id</th>\n",
       "            <th>player_id</th>\n",
       "            <th>team_id</th>\n",
       "            <th>year</th>\n",
       "            <th>salary</th>\n",
       "        </tr>\n",
       "    </thead>\n",
       "    <tbody>\n",
       "        <tr>\n",
       "            <td>1</td>\n",
       "            <td>863</td>\n",
       "            <td>4</td>\n",
       "            <td>1985</td>\n",
       "            <td>870000</td>\n",
       "        </tr>\n",
       "        <tr>\n",
       "            <td>2</td>\n",
       "            <td>1171</td>\n",
       "            <td>4</td>\n",
       "            <td>1985</td>\n",
       "            <td>550000</td>\n",
       "        </tr>\n",
       "    </tbody>\n",
       "</table>"
      ],
      "text/plain": [
       "[(1, 863, 4, 1985, 870000), (2, 1171, 4, 1985, 550000)]"
      ]
     },
     "execution_count": 7,
     "metadata": {},
     "output_type": "execute_result"
    }
   ],
   "source": [
    "%sql select * from salaries limit 2;"
   ]
  },
  {
   "cell_type": "code",
   "execution_count": 8,
   "id": "bf218dce",
   "metadata": {},
   "outputs": [
    {
     "name": "stdout",
     "output_type": "stream",
     "text": [
      " * sqlite:///../databases/moneyball.db?check_same_thread=false\n"
     ]
    },
    {
     "data": {
      "text/html": [
       "<table>\n",
       "    <thead>\n",
       "        <tr>\n",
       "            <th>id</th>\n",
       "            <th>player_id</th>\n",
       "            <th>team_id</th>\n",
       "            <th>year</th>\n",
       "            <th>G</th>\n",
       "            <th>AB</th>\n",
       "            <th>H</th>\n",
       "            <th>2B</th>\n",
       "            <th>3B</th>\n",
       "            <th>HR</th>\n",
       "            <th>RBI</th>\n",
       "            <th>SB</th>\n",
       "        </tr>\n",
       "    </thead>\n",
       "    <tbody>\n",
       "        <tr>\n",
       "            <td>1</td>\n",
       "            <td>23</td>\n",
       "            <td>134</td>\n",
       "            <td>1871</td>\n",
       "            <td>1</td>\n",
       "            <td>4</td>\n",
       "            <td>0</td>\n",
       "            <td>0</td>\n",
       "            <td>0</td>\n",
       "            <td>0</td>\n",
       "            <td>0</td>\n",
       "            <td>0</td>\n",
       "        </tr>\n",
       "        <tr>\n",
       "            <td>2</td>\n",
       "            <td>115</td>\n",
       "            <td>112</td>\n",
       "            <td>1871</td>\n",
       "            <td>25</td>\n",
       "            <td>118</td>\n",
       "            <td>32</td>\n",
       "            <td>6</td>\n",
       "            <td>0</td>\n",
       "            <td>0</td>\n",
       "            <td>13</td>\n",
       "            <td>8</td>\n",
       "        </tr>\n",
       "    </tbody>\n",
       "</table>"
      ],
      "text/plain": [
       "[(1, 23, 134, 1871, 1, 4, 0, 0, 0, 0, 0, 0),\n",
       " (2, 115, 112, 1871, 25, 118, 32, 6, 0, 0, 13, 8)]"
      ]
     },
     "execution_count": 8,
     "metadata": {},
     "output_type": "execute_result"
    }
   ],
   "source": [
    "%sql select * from performances limit 2;"
   ]
  },
  {
   "cell_type": "markdown",
   "id": "b78dcba7",
   "metadata": {},
   "source": [
    "## 01 \n",
    "You should start by getting a sense for how average player salaries have changed over time. In `1.sql`, write a SQL query to find the average player salary by year.\n",
    "\n",
    "- Sort by year in descending order.\n",
    "- Round the salary to two decimal places and call the column “average salary”.\n",
    "- Your query should return a table with two columns, one for year and one for average salary.\n"
   ]
  },
  {
   "cell_type": "code",
   "execution_count": 9,
   "id": "c2a7cbb3",
   "metadata": {},
   "outputs": [
    {
     "name": "stdout",
     "output_type": "stream",
     "text": [
      " * sqlite:///../databases/moneyball.db?check_same_thread=false\n"
     ]
    },
    {
     "data": {
      "text/html": [
       "<table>\n",
       "    <thead>\n",
       "        <tr>\n",
       "            <th>year</th>\n",
       "            <th>average salary</th>\n",
       "        </tr>\n",
       "    </thead>\n",
       "    <tbody>\n",
       "        <tr>\n",
       "            <td>2001</td>\n",
       "            <td>2279841.06</td>\n",
       "        </tr>\n",
       "        <tr>\n",
       "            <td>2000</td>\n",
       "            <td>1992984.57</td>\n",
       "        </tr>\n",
       "        <tr>\n",
       "            <td>1999</td>\n",
       "            <td>1485316.85</td>\n",
       "        </tr>\n",
       "        <tr>\n",
       "            <td>1998</td>\n",
       "            <td>1280844.56</td>\n",
       "        </tr>\n",
       "        <tr>\n",
       "            <td>1997</td>\n",
       "            <td>1218687.44</td>\n",
       "        </tr>\n",
       "        <tr>\n",
       "            <td>1996</td>\n",
       "            <td>1027909.29</td>\n",
       "        </tr>\n",
       "        <tr>\n",
       "            <td>1995</td>\n",
       "            <td>964979.07</td>\n",
       "        </tr>\n",
       "        <tr>\n",
       "            <td>1994</td>\n",
       "            <td>1049588.56</td>\n",
       "        </tr>\n",
       "        <tr>\n",
       "            <td>1993</td>\n",
       "            <td>976966.56</td>\n",
       "        </tr>\n",
       "        <tr>\n",
       "            <td>1992</td>\n",
       "            <td>1047520.58</td>\n",
       "        </tr>\n",
       "        <tr>\n",
       "            <td>1991</td>\n",
       "            <td>894961.19</td>\n",
       "        </tr>\n",
       "        <tr>\n",
       "            <td>1990</td>\n",
       "            <td>511973.69</td>\n",
       "        </tr>\n",
       "        <tr>\n",
       "            <td>1989</td>\n",
       "            <td>506323.08</td>\n",
       "        </tr>\n",
       "        <tr>\n",
       "            <td>1988</td>\n",
       "            <td>453171.08</td>\n",
       "        </tr>\n",
       "        <tr>\n",
       "            <td>1987</td>\n",
       "            <td>434729.47</td>\n",
       "        </tr>\n",
       "        <tr>\n",
       "            <td>1986</td>\n",
       "            <td>417147.04</td>\n",
       "        </tr>\n",
       "        <tr>\n",
       "            <td>1985</td>\n",
       "            <td>476299.45</td>\n",
       "        </tr>\n",
       "    </tbody>\n",
       "</table>"
      ],
      "text/plain": [
       "[(2001, 2279841.06),\n",
       " (2000, 1992984.57),\n",
       " (1999, 1485316.85),\n",
       " (1998, 1280844.56),\n",
       " (1997, 1218687.44),\n",
       " (1996, 1027909.29),\n",
       " (1995, 964979.07),\n",
       " (1994, 1049588.56),\n",
       " (1993, 976966.56),\n",
       " (1992, 1047520.58),\n",
       " (1991, 894961.19),\n",
       " (1990, 511973.69),\n",
       " (1989, 506323.08),\n",
       " (1988, 453171.08),\n",
       " (1987, 434729.47),\n",
       " (1986, 417147.04),\n",
       " (1985, 476299.45)]"
      ]
     },
     "execution_count": 9,
     "metadata": {},
     "output_type": "execute_result"
    }
   ],
   "source": [
    "%%sql\n",
    "SELECT \"year\", ROUND(AVG(\"salary\"),2) AS \"average salary\"\n",
    "FROM \"salaries\"\n",
    "GROUP BY \"year\"\n",
    "ORDER BY \"year\" DESC;"
   ]
  },
  {
   "cell_type": "markdown",
   "id": "0403389c",
   "metadata": {},
   "source": [
    "## 02 \n",
    "Your general manager (i.e., the person who makes decisions about player contracts) asks you whether the team should trade a current player for Cal Ripken Jr., a star player who’s likely nearing his retirement. In `2.sql`, write a SQL query to find Cal Ripken Jr.’s salary history.\n",
    "\n",
    "- Sort by year in descending order.\n",
    "- Your query should return a table with two columns, one for year and one for salary.\n"
   ]
  },
  {
   "cell_type": "code",
   "execution_count": 13,
   "id": "cb70dcfc",
   "metadata": {},
   "outputs": [
    {
     "name": "stdout",
     "output_type": "stream",
     "text": [
      " * sqlite:///../databases/moneyball.db?check_same_thread=false\n"
     ]
    },
    {
     "data": {
      "text/html": [
       "<table>\n",
       "    <thead>\n",
       "        <tr>\n",
       "            <th>year</th>\n",
       "            <th>salary</th>\n",
       "        </tr>\n",
       "    </thead>\n",
       "    <tbody>\n",
       "        <tr>\n",
       "            <td>2001</td>\n",
       "            <td>6300000</td>\n",
       "        </tr>\n",
       "        <tr>\n",
       "            <td>2000</td>\n",
       "            <td>6300000</td>\n",
       "        </tr>\n",
       "        <tr>\n",
       "            <td>1999</td>\n",
       "            <td>6500000</td>\n",
       "        </tr>\n",
       "        <tr>\n",
       "            <td>1998</td>\n",
       "            <td>6400000</td>\n",
       "        </tr>\n",
       "        <tr>\n",
       "            <td>1997</td>\n",
       "            <td>6850000</td>\n",
       "        </tr>\n",
       "        <tr>\n",
       "            <td>1996</td>\n",
       "            <td>6650000</td>\n",
       "        </tr>\n",
       "        <tr>\n",
       "            <td>1995</td>\n",
       "            <td>6700000</td>\n",
       "        </tr>\n",
       "        <tr>\n",
       "            <td>1994</td>\n",
       "            <td>5500000</td>\n",
       "        </tr>\n",
       "        <tr>\n",
       "            <td>1993</td>\n",
       "            <td>5200000</td>\n",
       "        </tr>\n",
       "        <tr>\n",
       "            <td>1992</td>\n",
       "            <td>2100000</td>\n",
       "        </tr>\n",
       "        <tr>\n",
       "            <td>1991</td>\n",
       "            <td>2566667</td>\n",
       "        </tr>\n",
       "        <tr>\n",
       "            <td>1990</td>\n",
       "            <td>1316667</td>\n",
       "        </tr>\n",
       "        <tr>\n",
       "            <td>1989</td>\n",
       "            <td>2466667</td>\n",
       "        </tr>\n",
       "        <tr>\n",
       "            <td>1988</td>\n",
       "            <td>1700000</td>\n",
       "        </tr>\n",
       "        <tr>\n",
       "            <td>1987</td>\n",
       "            <td>1350000</td>\n",
       "        </tr>\n",
       "        <tr>\n",
       "            <td>1986</td>\n",
       "            <td>1150000</td>\n",
       "        </tr>\n",
       "        <tr>\n",
       "            <td>1985</td>\n",
       "            <td>800000</td>\n",
       "        </tr>\n",
       "    </tbody>\n",
       "</table>"
      ],
      "text/plain": [
       "[(2001, 6300000),\n",
       " (2000, 6300000),\n",
       " (1999, 6500000),\n",
       " (1998, 6400000),\n",
       " (1997, 6850000),\n",
       " (1996, 6650000),\n",
       " (1995, 6700000),\n",
       " (1994, 5500000),\n",
       " (1993, 5200000),\n",
       " (1992, 2100000),\n",
       " (1991, 2566667),\n",
       " (1990, 1316667),\n",
       " (1989, 2466667),\n",
       " (1988, 1700000),\n",
       " (1987, 1350000),\n",
       " (1986, 1150000),\n",
       " (1985, 800000)]"
      ]
     },
     "execution_count": 13,
     "metadata": {},
     "output_type": "execute_result"
    }
   ],
   "source": [
    "%%sql\n",
    "SELECT \"year\", \"salary\"\n",
    "FROM \"salaries\"\n",
    "WHERE \"player_id\" = (\n",
    "    SELECT \"id\" FROM \"players\"\n",
    "    WHERE \"first_name\" = 'Cal'\n",
    "    AND \"last_name\" = 'Ripken'\n",
    ")\n",
    "ORDER BY \"year\" DESC;"
   ]
  },
  {
   "cell_type": "markdown",
   "id": "682f7044",
   "metadata": {},
   "source": [
    "## 03 \n",
    "Your team is going to need a great home run hitter. Ken Griffey Jr., a long-time Silver Slugger and Gold Glove award winner, might be a good prospect. In `3.sql`, write a SQL query to find Ken Griffey Jr.’s home run history.\n",
    "\n",
    "- Sort by year in descending order.\n",
    "- Note that there may be two players with the name “Ken Griffey.” This Ken Griffey was born in 1969.\n",
    "- Your query should return a table with two columns, one for year and one for home runs.\n"
   ]
  },
  {
   "cell_type": "code",
   "execution_count": 14,
   "id": "f86e7b61",
   "metadata": {},
   "outputs": [
    {
     "name": "stdout",
     "output_type": "stream",
     "text": [
      " * sqlite:///../databases/moneyball.db?check_same_thread=false\n"
     ]
    },
    {
     "data": {
      "text/html": [
       "<table>\n",
       "    <thead>\n",
       "        <tr>\n",
       "            <th>year</th>\n",
       "            <th>HR</th>\n",
       "        </tr>\n",
       "    </thead>\n",
       "    <tbody>\n",
       "        <tr>\n",
       "            <td>2001</td>\n",
       "            <td>22</td>\n",
       "        </tr>\n",
       "        <tr>\n",
       "            <td>2000</td>\n",
       "            <td>40</td>\n",
       "        </tr>\n",
       "        <tr>\n",
       "            <td>1999</td>\n",
       "            <td>48</td>\n",
       "        </tr>\n",
       "        <tr>\n",
       "            <td>1998</td>\n",
       "            <td>56</td>\n",
       "        </tr>\n",
       "        <tr>\n",
       "            <td>1997</td>\n",
       "            <td>56</td>\n",
       "        </tr>\n",
       "        <tr>\n",
       "            <td>1996</td>\n",
       "            <td>49</td>\n",
       "        </tr>\n",
       "        <tr>\n",
       "            <td>1995</td>\n",
       "            <td>17</td>\n",
       "        </tr>\n",
       "        <tr>\n",
       "            <td>1994</td>\n",
       "            <td>40</td>\n",
       "        </tr>\n",
       "        <tr>\n",
       "            <td>1993</td>\n",
       "            <td>45</td>\n",
       "        </tr>\n",
       "        <tr>\n",
       "            <td>1992</td>\n",
       "            <td>27</td>\n",
       "        </tr>\n",
       "        <tr>\n",
       "            <td>1991</td>\n",
       "            <td>22</td>\n",
       "        </tr>\n",
       "        <tr>\n",
       "            <td>1990</td>\n",
       "            <td>22</td>\n",
       "        </tr>\n",
       "        <tr>\n",
       "            <td>1989</td>\n",
       "            <td>16</td>\n",
       "        </tr>\n",
       "    </tbody>\n",
       "</table>"
      ],
      "text/plain": [
       "[(2001, 22),\n",
       " (2000, 40),\n",
       " (1999, 48),\n",
       " (1998, 56),\n",
       " (1997, 56),\n",
       " (1996, 49),\n",
       " (1995, 17),\n",
       " (1994, 40),\n",
       " (1993, 45),\n",
       " (1992, 27),\n",
       " (1991, 22),\n",
       " (1990, 22),\n",
       " (1989, 16)]"
      ]
     },
     "execution_count": 14,
     "metadata": {},
     "output_type": "execute_result"
    }
   ],
   "source": [
    "%%sql\n",
    "SELECT \"year\",\"HR\" FROM \"performances\"\n",
    "WHERE \"player_id\" = (\n",
    "    SELECT \"id\" FROM \"players\"\n",
    "    WHERE \"first_name\" = 'Ken'\n",
    "    AND \"last_name\" = 'Griffey'\n",
    "    AND \"birth_year\" = 1969\n",
    ")\n",
    "ORDER BY \"year\" DESC;"
   ]
  },
  {
   "cell_type": "markdown",
   "id": "d8193f88",
   "metadata": {},
   "source": [
    "## 04 \n",
    "You need to make a recommendation about which players the team should consider hiring. With the team’s dwindling budget, the general manager wants to know which players were paid the lowest salaries in 2001. In 4.sql, write a SQL query to find the 50 players paid the least in 2001.\n",
    "\n",
    "- Sort players by salary, lowest to highest.\n",
    "- If two players have the same salary, sort alphabetically by first name and then by last name.\n",
    "- If two players have the same first and last name, sort by player ID.\n",
    "- Your query should return three columns, one for players’ first names, one for their last names, and one for their salaries.\n"
   ]
  },
  {
   "cell_type": "code",
   "execution_count": 22,
   "id": "6a09fbfa",
   "metadata": {},
   "outputs": [
    {
     "name": "stdout",
     "output_type": "stream",
     "text": [
      " * sqlite:///../databases/moneyball.db?check_same_thread=false\n"
     ]
    },
    {
     "data": {
      "text/html": [
       "<table>\n",
       "    <thead>\n",
       "        <tr>\n",
       "            <th>first_name</th>\n",
       "            <th>last_name</th>\n",
       "            <th>salary</th>\n",
       "        </tr>\n",
       "    </thead>\n",
       "    <tbody>\n",
       "        <tr>\n",
       "            <td>Albert</td>\n",
       "            <td>Pujols</td>\n",
       "            <td>200000</td>\n",
       "        </tr>\n",
       "        <tr>\n",
       "            <td>Andy</td>\n",
       "            <td>Thompson</td>\n",
       "            <td>200000</td>\n",
       "        </tr>\n",
       "        <tr>\n",
       "            <td>Ben</td>\n",
       "            <td>Sheets</td>\n",
       "            <td>200000</td>\n",
       "        </tr>\n",
       "        <tr>\n",
       "            <td>Brad</td>\n",
       "            <td>Voyles</td>\n",
       "            <td>200000</td>\n",
       "        </tr>\n",
       "        <tr>\n",
       "            <td>Brandon</td>\n",
       "            <td>Inge</td>\n",
       "            <td>200000</td>\n",
       "        </tr>\n",
       "        <tr>\n",
       "            <td>Chris</td>\n",
       "            <td>Michalak</td>\n",
       "            <td>200000</td>\n",
       "        </tr>\n",
       "        <tr>\n",
       "            <td>Chris</td>\n",
       "            <td>Reitsma</td>\n",
       "            <td>200000</td>\n",
       "        </tr>\n",
       "        <tr>\n",
       "            <td>Chris</td>\n",
       "            <td>Seelbach</td>\n",
       "            <td>200000</td>\n",
       "        </tr>\n",
       "        <tr>\n",
       "            <td>Christian</td>\n",
       "            <td>Parker</td>\n",
       "            <td>200000</td>\n",
       "        </tr>\n",
       "        <tr>\n",
       "            <td>Courtney</td>\n",
       "            <td>Duncan</td>\n",
       "            <td>200000</td>\n",
       "        </tr>\n",
       "        <tr>\n",
       "            <td>D&#x27;Angelo</td>\n",
       "            <td>Jimenez</td>\n",
       "            <td>200000</td>\n",
       "        </tr>\n",
       "        <tr>\n",
       "            <td>Damian</td>\n",
       "            <td>Rolls</td>\n",
       "            <td>200000</td>\n",
       "        </tr>\n",
       "        <tr>\n",
       "            <td>Damon</td>\n",
       "            <td>Minor</td>\n",
       "            <td>200000</td>\n",
       "        </tr>\n",
       "        <tr>\n",
       "            <td>David</td>\n",
       "            <td>Eckstein</td>\n",
       "            <td>200000</td>\n",
       "        </tr>\n",
       "        <tr>\n",
       "            <td>Donaldo</td>\n",
       "            <td>Mendez</td>\n",
       "            <td>200000</td>\n",
       "        </tr>\n",
       "        <tr>\n",
       "            <td>Eddie</td>\n",
       "            <td>Oropesa</td>\n",
       "            <td>200000</td>\n",
       "        </tr>\n",
       "        <tr>\n",
       "            <td>Gary</td>\n",
       "            <td>Glover</td>\n",
       "            <td>200000</td>\n",
       "        </tr>\n",
       "        <tr>\n",
       "            <td>Hiram</td>\n",
       "            <td>Bocachica</td>\n",
       "            <td>200000</td>\n",
       "        </tr>\n",
       "        <tr>\n",
       "            <td>Jack</td>\n",
       "            <td>Wilson</td>\n",
       "            <td>200000</td>\n",
       "        </tr>\n",
       "        <tr>\n",
       "            <td>Jason</td>\n",
       "            <td>Grilli</td>\n",
       "            <td>200000</td>\n",
       "        </tr>\n",
       "        <tr>\n",
       "            <td>Jay</td>\n",
       "            <td>Gibbons</td>\n",
       "            <td>200000</td>\n",
       "        </tr>\n",
       "        <tr>\n",
       "            <td>Jermaine</td>\n",
       "            <td>Clark</td>\n",
       "            <td>200000</td>\n",
       "        </tr>\n",
       "        <tr>\n",
       "            <td>Jimmy</td>\n",
       "            <td>Rollins</td>\n",
       "            <td>200000</td>\n",
       "        </tr>\n",
       "        <tr>\n",
       "            <td>Joe</td>\n",
       "            <td>Beimel</td>\n",
       "            <td>200000</td>\n",
       "        </tr>\n",
       "        <tr>\n",
       "            <td>John</td>\n",
       "            <td>Barnes</td>\n",
       "            <td>200000</td>\n",
       "        </tr>\n",
       "        <tr>\n",
       "            <td>Jose</td>\n",
       "            <td>Nunez</td>\n",
       "            <td>200000</td>\n",
       "        </tr>\n",
       "        <tr>\n",
       "            <td>Julio</td>\n",
       "            <td>Ramirez</td>\n",
       "            <td>200000</td>\n",
       "        </tr>\n",
       "        <tr>\n",
       "            <td>Julio</td>\n",
       "            <td>Zuleta</td>\n",
       "            <td>200000</td>\n",
       "        </tr>\n",
       "        <tr>\n",
       "            <td>Luis</td>\n",
       "            <td>Rivas</td>\n",
       "            <td>200000</td>\n",
       "        </tr>\n",
       "        <tr>\n",
       "            <td>Luke</td>\n",
       "            <td>Prokopec</td>\n",
       "            <td>200000</td>\n",
       "        </tr>\n",
       "        <tr>\n",
       "            <td>Luther</td>\n",
       "            <td>Hackman</td>\n",
       "            <td>200000</td>\n",
       "        </tr>\n",
       "        <tr>\n",
       "            <td>Nate</td>\n",
       "            <td>Rolison</td>\n",
       "            <td>200000</td>\n",
       "        </tr>\n",
       "        <tr>\n",
       "            <td>Nick</td>\n",
       "            <td>Bierbrodt</td>\n",
       "            <td>200000</td>\n",
       "        </tr>\n",
       "        <tr>\n",
       "            <td>Paxton</td>\n",
       "            <td>Crawford</td>\n",
       "            <td>200000</td>\n",
       "        </tr>\n",
       "        <tr>\n",
       "            <td>Randy</td>\n",
       "            <td>Choate</td>\n",
       "            <td>200000</td>\n",
       "        </tr>\n",
       "        <tr>\n",
       "            <td>Ryan</td>\n",
       "            <td>Freel</td>\n",
       "            <td>200000</td>\n",
       "        </tr>\n",
       "        <tr>\n",
       "            <td>Scott</td>\n",
       "            <td>Mullen</td>\n",
       "            <td>200000</td>\n",
       "        </tr>\n",
       "        <tr>\n",
       "            <td>Scott</td>\n",
       "            <td>Seabol</td>\n",
       "            <td>200000</td>\n",
       "        </tr>\n",
       "        <tr>\n",
       "            <td>Scott</td>\n",
       "            <td>Sobkowiak</td>\n",
       "            <td>200000</td>\n",
       "        </tr>\n",
       "        <tr>\n",
       "            <td>Scott</td>\n",
       "            <td>Stewart</td>\n",
       "            <td>200000</td>\n",
       "        </tr>\n",
       "        <tr>\n",
       "            <td>Shea</td>\n",
       "            <td>Hillenbrand</td>\n",
       "            <td>200000</td>\n",
       "        </tr>\n",
       "        <tr>\n",
       "            <td>Tony</td>\n",
       "            <td>Cogan</td>\n",
       "            <td>200000</td>\n",
       "        </tr>\n",
       "        <tr>\n",
       "            <td>Wally</td>\n",
       "            <td>Joyner</td>\n",
       "            <td>200000</td>\n",
       "        </tr>\n",
       "        <tr>\n",
       "            <td>Willis</td>\n",
       "            <td>Roberts</td>\n",
       "            <td>200000</td>\n",
       "        </tr>\n",
       "        <tr>\n",
       "            <td>Shawn</td>\n",
       "            <td>Wooten</td>\n",
       "            <td>200500</td>\n",
       "        </tr>\n",
       "        <tr>\n",
       "            <td>Jose</td>\n",
       "            <td>Ortiz</td>\n",
       "            <td>201000</td>\n",
       "        </tr>\n",
       "        <tr>\n",
       "            <td>Pedro</td>\n",
       "            <td>Feliz</td>\n",
       "            <td>201000</td>\n",
       "        </tr>\n",
       "        <tr>\n",
       "            <td>Pablo</td>\n",
       "            <td>Ozuna</td>\n",
       "            <td>202000</td>\n",
       "        </tr>\n",
       "        <tr>\n",
       "            <td>Scott</td>\n",
       "            <td>Winchester</td>\n",
       "            <td>202000</td>\n",
       "        </tr>\n",
       "        <tr>\n",
       "            <td>Tim</td>\n",
       "            <td>Drew</td>\n",
       "            <td>202000</td>\n",
       "        </tr>\n",
       "    </tbody>\n",
       "</table>"
      ],
      "text/plain": [
       "[('Albert', 'Pujols', 200000),\n",
       " ('Andy', 'Thompson', 200000),\n",
       " ('Ben', 'Sheets', 200000),\n",
       " ('Brad', 'Voyles', 200000),\n",
       " ('Brandon', 'Inge', 200000),\n",
       " ('Chris', 'Michalak', 200000),\n",
       " ('Chris', 'Reitsma', 200000),\n",
       " ('Chris', 'Seelbach', 200000),\n",
       " ('Christian', 'Parker', 200000),\n",
       " ('Courtney', 'Duncan', 200000),\n",
       " (\"D'Angelo\", 'Jimenez', 200000),\n",
       " ('Damian', 'Rolls', 200000),\n",
       " ('Damon', 'Minor', 200000),\n",
       " ('David', 'Eckstein', 200000),\n",
       " ('Donaldo', 'Mendez', 200000),\n",
       " ('Eddie', 'Oropesa', 200000),\n",
       " ('Gary', 'Glover', 200000),\n",
       " ('Hiram', 'Bocachica', 200000),\n",
       " ('Jack', 'Wilson', 200000),\n",
       " ('Jason', 'Grilli', 200000),\n",
       " ('Jay', 'Gibbons', 200000),\n",
       " ('Jermaine', 'Clark', 200000),\n",
       " ('Jimmy', 'Rollins', 200000),\n",
       " ('Joe', 'Beimel', 200000),\n",
       " ('John', 'Barnes', 200000),\n",
       " ('Jose', 'Nunez', 200000),\n",
       " ('Julio', 'Ramirez', 200000),\n",
       " ('Julio', 'Zuleta', 200000),\n",
       " ('Luis', 'Rivas', 200000),\n",
       " ('Luke', 'Prokopec', 200000),\n",
       " ('Luther', 'Hackman', 200000),\n",
       " ('Nate', 'Rolison', 200000),\n",
       " ('Nick', 'Bierbrodt', 200000),\n",
       " ('Paxton', 'Crawford', 200000),\n",
       " ('Randy', 'Choate', 200000),\n",
       " ('Ryan', 'Freel', 200000),\n",
       " ('Scott', 'Mullen', 200000),\n",
       " ('Scott', 'Seabol', 200000),\n",
       " ('Scott', 'Sobkowiak', 200000),\n",
       " ('Scott', 'Stewart', 200000),\n",
       " ('Shea', 'Hillenbrand', 200000),\n",
       " ('Tony', 'Cogan', 200000),\n",
       " ('Wally', 'Joyner', 200000),\n",
       " ('Willis', 'Roberts', 200000),\n",
       " ('Shawn', 'Wooten', 200500),\n",
       " ('Jose', 'Ortiz', 201000),\n",
       " ('Pedro', 'Feliz', 201000),\n",
       " ('Pablo', 'Ozuna', 202000),\n",
       " ('Scott', 'Winchester', 202000),\n",
       " ('Tim', 'Drew', 202000)]"
      ]
     },
     "execution_count": 22,
     "metadata": {},
     "output_type": "execute_result"
    }
   ],
   "source": [
    "%%sql\n",
    "SELECT\n",
    "    \"players\".\"first_name\",\n",
    "    \"players\".\"last_name\",\n",
    "    \"salaries\".\"salary\"\n",
    "FROM \"players\"\n",
    "JOIN \"salaries\" ON \"players\".\"id\" = \"salaries\".\"player_id\"\n",
    "WHERE \"salaries\".\"year\" = 2001\n",
    "ORDER BY\n",
    "    \"salaries\".\"salary\" ASC,\n",
    "    \"players\".\"first_name\" ASC,\n",
    "    \"players\".\"last_name\" ASC,\n",
    "    \"players\".\"id\" ASC\n",
    "LIMIT 50;"
   ]
  },
  {
   "cell_type": "markdown",
   "id": "1b0fbfd6",
   "metadata": {},
   "source": [
    "## 05 \n",
    "It’s a bit of a slow day in the office. Though Satchel no longer plays, in `5.sql` , write a SQL query to find all teams that Satchel Paige played for.\n",
    "\n",
    "- Your query should return a table with a single column, one for the name of the teams."
   ]
  },
  {
   "cell_type": "code",
   "execution_count": 32,
   "id": "b3721152",
   "metadata": {},
   "outputs": [
    {
     "name": "stdout",
     "output_type": "stream",
     "text": [
      " * sqlite:///../databases/moneyball.db?check_same_thread=false\n"
     ]
    },
    {
     "data": {
      "text/html": [
       "<table>\n",
       "    <thead>\n",
       "        <tr>\n",
       "            <th>name</th>\n",
       "        </tr>\n",
       "    </thead>\n",
       "    <tbody>\n",
       "        <tr>\n",
       "            <td>Cleveland Indians</td>\n",
       "        </tr>\n",
       "        <tr>\n",
       "            <td>Kansas City Athletics</td>\n",
       "        </tr>\n",
       "        <tr>\n",
       "            <td>St. Louis Browns</td>\n",
       "        </tr>\n",
       "    </tbody>\n",
       "</table>"
      ],
      "text/plain": [
       "[('Cleveland Indians',), ('Kansas City Athletics',), ('St. Louis Browns',)]"
      ]
     },
     "execution_count": 32,
     "metadata": {},
     "output_type": "execute_result"
    }
   ],
   "source": [
    "%%sql\n",
    "SELECT \"name\" FROM \"teams\"\n",
    "WHERE \"id\" IN (\n",
    "    SELECT \"team_id\" FROM \"performances\"\n",
    "    WHERE \"player_id\" = (\n",
    "        SELECT \"id\" FROM \"players\"\n",
    "        WHERE \"first_name\" = 'Satchel'\n",
    "        AND \"last_name\" = 'Paige'\n",
    "    )\n",
    ");"
   ]
  },
  {
   "cell_type": "markdown",
   "id": "735d8bd0",
   "metadata": {},
   "source": [
    "## 06 \n",
    "Which teams might be the biggest competition for the A’s this year? In `6.sql` , write a SQL query to return the top 5 teams, sorted by the total number of hits by players in 2001.\n",
    "\n",
    "- Call the column representing total hits by players in 2001 “total hits”.\n",
    "- Sort by total hits, highest to lowest.\n",
    "- Your query should return two columns, one for the teams’ names and one for their total hits in 2001."
   ]
  },
  {
   "cell_type": "code",
   "execution_count": null,
   "id": "f785d1f0",
   "metadata": {},
   "outputs": [],
   "source": []
  },
  {
   "cell_type": "code",
   "execution_count": 27,
   "id": "3517f9c5",
   "metadata": {},
   "outputs": [
    {
     "name": "stdout",
     "output_type": "stream",
     "text": [
      " * sqlite:///../databases/moneyball.db?check_same_thread=false\n"
     ]
    },
    {
     "data": {
      "text/html": [
       "<table>\n",
       "    <thead>\n",
       "        <tr>\n",
       "            <th>id</th>\n",
       "            <th>first_name</th>\n",
       "            <th>last_name</th>\n",
       "            <th>bats</th>\n",
       "            <th>throws</th>\n",
       "            <th>weight</th>\n",
       "            <th>height</th>\n",
       "            <th>debut</th>\n",
       "            <th>final_game</th>\n",
       "            <th>birth_year</th>\n",
       "            <th>birth_month</th>\n",
       "            <th>birth_day</th>\n",
       "            <th>birth_city</th>\n",
       "            <th>birth_state</th>\n",
       "            <th>birth_country</th>\n",
       "        </tr>\n",
       "    </thead>\n",
       "    <tbody>\n",
       "        <tr>\n",
       "            <td>14190</td>\n",
       "            <td>Satchel</td>\n",
       "            <td>Paige</td>\n",
       "            <td>R</td>\n",
       "            <td>R</td>\n",
       "            <td>180</td>\n",
       "            <td>75</td>\n",
       "            <td>1948-07-09</td>\n",
       "            <td>1965-09-25</td>\n",
       "            <td>1906</td>\n",
       "            <td>7</td>\n",
       "            <td>7</td>\n",
       "            <td>Mobile</td>\n",
       "            <td>AL</td>\n",
       "            <td>USA</td>\n",
       "        </tr>\n",
       "    </tbody>\n",
       "</table>"
      ],
      "text/plain": [
       "[(14190, 'Satchel', 'Paige', 'R', 'R', 180, 75, '1948-07-09', '1965-09-25', 1906, 7, 7, 'Mobile', 'AL', 'USA')]"
      ]
     },
     "execution_count": 27,
     "metadata": {},
     "output_type": "execute_result"
    }
   ],
   "source": [
    "%%sql\n",
    "SELECT * FROM \"players\"\n",
    "        WHERE \"first_name\" = 'Satchel'\n",
    "        AND \"last_name\" = 'Paige'"
   ]
  },
  {
   "cell_type": "code",
   "execution_count": 31,
   "id": "6054c94a",
   "metadata": {},
   "outputs": [
    {
     "name": "stdout",
     "output_type": "stream",
     "text": [
      " * sqlite:///../databases/moneyball.db?check_same_thread=false\n"
     ]
    },
    {
     "data": {
      "text/html": [
       "<table>\n",
       "    <thead>\n",
       "        <tr>\n",
       "            <th>team_id</th>\n",
       "        </tr>\n",
       "    </thead>\n",
       "    <tbody>\n",
       "        <tr>\n",
       "            <td>46</td>\n",
       "        </tr>\n",
       "        <tr>\n",
       "            <td>46</td>\n",
       "        </tr>\n",
       "        <tr>\n",
       "            <td>120</td>\n",
       "        </tr>\n",
       "        <tr>\n",
       "            <td>120</td>\n",
       "        </tr>\n",
       "        <tr>\n",
       "            <td>120</td>\n",
       "        </tr>\n",
       "        <tr>\n",
       "            <td>64</td>\n",
       "        </tr>\n",
       "    </tbody>\n",
       "</table>"
      ],
      "text/plain": [
       "[(46,), (46,), (120,), (120,), (120,), (64,)]"
      ]
     },
     "execution_count": 31,
     "metadata": {},
     "output_type": "execute_result"
    }
   ],
   "source": [
    "%%sql\n",
    "SELECT \"team_id\" FROM \"performances\"\n",
    "WHERE \"player_id\" = 14190;"
   ]
  },
  {
   "cell_type": "code",
   "execution_count": null,
   "id": "4e567340",
   "metadata": {},
   "outputs": [
    {
     "name": "stdout",
     "output_type": "stream",
     "text": [
      " * sqlite:///../databases/moneyball.db?check_same_thread=false\n"
     ]
    },
    {
     "data": {
      "text/html": [
       "<table>\n",
       "    <thead>\n",
       "        <tr>\n",
       "            <th>id</th>\n",
       "            <th>first_name</th>\n",
       "            <th>last_name</th>\n",
       "            <th>bats</th>\n",
       "            <th>throws</th>\n",
       "            <th>weight</th>\n",
       "            <th>height</th>\n",
       "            <th>debut</th>\n",
       "            <th>final_game</th>\n",
       "            <th>birth_year</th>\n",
       "            <th>birth_month</th>\n",
       "            <th>birth_day</th>\n",
       "            <th>birth_city</th>\n",
       "            <th>birth_state</th>\n",
       "            <th>birth_country</th>\n",
       "        </tr>\n",
       "    </thead>\n",
       "    <tbody>\n",
       "        <tr>\n",
       "            <td>2</td>\n",
       "            <td>Hank</td>\n",
       "            <td>Aaron</td>\n",
       "            <td>R</td>\n",
       "            <td>R</td>\n",
       "            <td>180</td>\n",
       "            <td>72</td>\n",
       "            <td>1954-04-13</td>\n",
       "            <td>1976-10-03</td>\n",
       "            <td>1934</td>\n",
       "            <td>2</td>\n",
       "            <td>5</td>\n",
       "            <td>Mobile</td>\n",
       "            <td>AL</td>\n",
       "            <td>USA</td>\n",
       "        </tr>\n",
       "        <tr>\n",
       "            <td>3</td>\n",
       "            <td>Tommie</td>\n",
       "            <td>Aaron</td>\n",
       "            <td>R</td>\n",
       "            <td>R</td>\n",
       "            <td>190</td>\n",
       "            <td>75</td>\n",
       "            <td>1962-04-10</td>\n",
       "            <td>1971-09-26</td>\n",
       "            <td>1939</td>\n",
       "            <td>8</td>\n",
       "            <td>5</td>\n",
       "            <td>Mobile</td>\n",
       "            <td>AL</td>\n",
       "            <td>USA</td>\n",
       "        </tr>\n",
       "    </tbody>\n",
       "</table>"
      ],
      "text/plain": [
       "[(2, 'Hank', 'Aaron', 'R', 'R', 180, 72, '1954-04-13', '1976-10-03', 1934, 2, 5, 'Mobile', 'AL', 'USA'),\n",
       " (3, 'Tommie', 'Aaron', 'R', 'R', 190, 75, '1962-04-10', '1971-09-26', 1939, 8, 5, 'Mobile', 'AL', 'USA')]"
      ]
     },
     "metadata": {},
     "output_type": "display_data"
    }
   ],
   "source": [
    "%sql select * from players limit 2;"
   ]
  },
  {
   "cell_type": "code",
   "execution_count": null,
   "id": "2074d4f2",
   "metadata": {},
   "outputs": [
    {
     "name": "stdout",
     "output_type": "stream",
     "text": [
      " * sqlite:///../databases/moneyball.db?check_same_thread=false\n"
     ]
    },
    {
     "data": {
      "text/html": [
       "<table>\n",
       "    <thead>\n",
       "        <tr>\n",
       "            <th>id</th>\n",
       "            <th>year</th>\n",
       "            <th>name</th>\n",
       "            <th>park</th>\n",
       "        </tr>\n",
       "    </thead>\n",
       "    <tbody>\n",
       "        <tr>\n",
       "            <td>1</td>\n",
       "            <td>1884</td>\n",
       "            <td>Altoona Mountain City</td>\n",
       "            <td>None</td>\n",
       "        </tr>\n",
       "        <tr>\n",
       "            <td>2</td>\n",
       "            <td>2001</td>\n",
       "            <td>Anaheim Angels</td>\n",
       "            <td>Edison International Field</td>\n",
       "        </tr>\n",
       "    </tbody>\n",
       "</table>"
      ],
      "text/plain": [
       "[(1, 1884, 'Altoona Mountain City', None),\n",
       " (2, 2001, 'Anaheim Angels', 'Edison International Field')]"
      ]
     },
     "metadata": {},
     "output_type": "display_data"
    }
   ],
   "source": [
    "%sql select * from teams limit 2;"
   ]
  },
  {
   "cell_type": "code",
   "execution_count": null,
   "id": "b87c76ca",
   "metadata": {},
   "outputs": [
    {
     "name": "stdout",
     "output_type": "stream",
     "text": [
      " * sqlite:///../databases/moneyball.db?check_same_thread=false\n"
     ]
    },
    {
     "data": {
      "text/html": [
       "<table>\n",
       "    <thead>\n",
       "        <tr>\n",
       "            <th>id</th>\n",
       "            <th>player_id</th>\n",
       "            <th>team_id</th>\n",
       "            <th>year</th>\n",
       "            <th>salary</th>\n",
       "        </tr>\n",
       "    </thead>\n",
       "    <tbody>\n",
       "        <tr>\n",
       "            <td>1</td>\n",
       "            <td>863</td>\n",
       "            <td>4</td>\n",
       "            <td>1985</td>\n",
       "            <td>870000</td>\n",
       "        </tr>\n",
       "        <tr>\n",
       "            <td>2</td>\n",
       "            <td>1171</td>\n",
       "            <td>4</td>\n",
       "            <td>1985</td>\n",
       "            <td>550000</td>\n",
       "        </tr>\n",
       "    </tbody>\n",
       "</table>"
      ],
      "text/plain": [
       "[(1, 863, 4, 1985, 870000), (2, 1171, 4, 1985, 550000)]"
      ]
     },
     "metadata": {},
     "output_type": "display_data"
    }
   ],
   "source": [
    "%sql select * from salaries limit 2;"
   ]
  },
  {
   "cell_type": "code",
   "execution_count": null,
   "id": "4141df93",
   "metadata": {},
   "outputs": [
    {
     "name": "stdout",
     "output_type": "stream",
     "text": [
      " * sqlite:///../databases/moneyball.db?check_same_thread=false\n"
     ]
    },
    {
     "data": {
      "text/html": [
       "<table>\n",
       "    <thead>\n",
       "        <tr>\n",
       "            <th>id</th>\n",
       "            <th>player_id</th>\n",
       "            <th>team_id</th>\n",
       "            <th>year</th>\n",
       "            <th>G</th>\n",
       "            <th>AB</th>\n",
       "            <th>H</th>\n",
       "            <th>2B</th>\n",
       "            <th>3B</th>\n",
       "            <th>HR</th>\n",
       "            <th>RBI</th>\n",
       "            <th>SB</th>\n",
       "        </tr>\n",
       "    </thead>\n",
       "    <tbody>\n",
       "        <tr>\n",
       "            <td>1</td>\n",
       "            <td>23</td>\n",
       "            <td>134</td>\n",
       "            <td>1871</td>\n",
       "            <td>1</td>\n",
       "            <td>4</td>\n",
       "            <td>0</td>\n",
       "            <td>0</td>\n",
       "            <td>0</td>\n",
       "            <td>0</td>\n",
       "            <td>0</td>\n",
       "            <td>0</td>\n",
       "        </tr>\n",
       "        <tr>\n",
       "            <td>2</td>\n",
       "            <td>115</td>\n",
       "            <td>112</td>\n",
       "            <td>1871</td>\n",
       "            <td>25</td>\n",
       "            <td>118</td>\n",
       "            <td>32</td>\n",
       "            <td>6</td>\n",
       "            <td>0</td>\n",
       "            <td>0</td>\n",
       "            <td>13</td>\n",
       "            <td>8</td>\n",
       "        </tr>\n",
       "    </tbody>\n",
       "</table>"
      ],
      "text/plain": [
       "[(1, 23, 134, 1871, 1, 4, 0, 0, 0, 0, 0, 0),\n",
       " (2, 115, 112, 1871, 25, 118, 32, 6, 0, 0, 13, 8)]"
      ]
     },
     "metadata": {},
     "output_type": "display_data"
    }
   ],
   "source": [
    "%sql select * from performances limit 2;"
   ]
  }
 ],
 "metadata": {
  "kernelspec": {
   "display_name": ".venv",
   "language": "python",
   "name": "python3"
  },
  "language_info": {
   "codemirror_mode": {
    "name": "ipython",
    "version": 3
   },
   "file_extension": ".py",
   "mimetype": "text/x-python",
   "name": "python",
   "nbconvert_exporter": "python",
   "pygments_lexer": "ipython3",
   "version": "3.13.7"
  }
 },
 "nbformat": 4,
 "nbformat_minor": 5
}
