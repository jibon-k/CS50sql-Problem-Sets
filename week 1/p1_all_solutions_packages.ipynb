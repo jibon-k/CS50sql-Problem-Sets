{
 "cells": [
  {
   "cell_type": "code",
   "execution_count": 1,
   "id": "f498be27",
   "metadata": {},
   "outputs": [],
   "source": [
    "import sqlite3"
   ]
  },
  {
   "cell_type": "code",
   "execution_count": 2,
   "id": "9f00ee06",
   "metadata": {},
   "outputs": [],
   "source": [
    "db = \"../databases/packages.db\""
   ]
  },
  {
   "cell_type": "code",
   "execution_count": 3,
   "id": "73de311e",
   "metadata": {},
   "outputs": [
    {
     "name": "stdout",
     "output_type": "stream",
     "text": [
      " * sqlite:///../databases/packages.db?check_same_thread=false\n"
     ]
    },
    {
     "data": {
      "text/html": [
       "<table>\n",
       "    <thead>\n",
       "        <tr>\n",
       "            <th>name</th>\n",
       "        </tr>\n",
       "    </thead>\n",
       "    <tbody>\n",
       "        <tr>\n",
       "            <td>addresses</td>\n",
       "        </tr>\n",
       "        <tr>\n",
       "            <td>packages</td>\n",
       "        </tr>\n",
       "        <tr>\n",
       "            <td>drivers</td>\n",
       "        </tr>\n",
       "        <tr>\n",
       "            <td>scans</td>\n",
       "        </tr>\n",
       "    </tbody>\n",
       "</table>"
      ],
      "text/plain": [
       "[('addresses',), ('packages',), ('drivers',), ('scans',)]"
      ]
     },
     "execution_count": 3,
     "metadata": {},
     "output_type": "execute_result"
    }
   ],
   "source": [
    "%load_ext sql\n",
    "%config SqlMagic.feedback=False\n",
    "%sql sqlite:///{db}?check_same_thread=false\n",
    "%sql SELECT name FROM sqlite_master WHERE type='table';"
   ]
  },
  {
   "cell_type": "code",
   "execution_count": 4,
   "id": "82d178a7",
   "metadata": {},
   "outputs": [
    {
     "name": "stdout",
     "output_type": "stream",
     "text": [
      " * sqlite:///../databases/packages.db?check_same_thread=false\n"
     ]
    },
    {
     "data": {
      "text/html": [
       "<table>\n",
       "    <thead>\n",
       "        <tr>\n",
       "            <th>id</th>\n",
       "            <th>address</th>\n",
       "            <th>type</th>\n",
       "        </tr>\n",
       "    </thead>\n",
       "    <tbody>\n",
       "        <tr>\n",
       "            <td>1</td>\n",
       "            <td>7660 Sharon Street</td>\n",
       "            <td>Residential</td>\n",
       "        </tr>\n",
       "        <tr>\n",
       "            <td>2</td>\n",
       "            <td>60 Drake Place</td>\n",
       "            <td>Residential</td>\n",
       "        </tr>\n",
       "        <tr>\n",
       "            <td>3</td>\n",
       "            <td>88 City Point Court</td>\n",
       "            <td>Residential</td>\n",
       "        </tr>\n",
       "        <tr>\n",
       "            <td>4</td>\n",
       "            <td>266 Dorchester Avenue</td>\n",
       "            <td>Residential</td>\n",
       "        </tr>\n",
       "        <tr>\n",
       "            <td>5</td>\n",
       "            <td>2 Otis Place</td>\n",
       "            <td>Residential</td>\n",
       "        </tr>\n",
       "        <tr>\n",
       "            <td>6</td>\n",
       "            <td>154 Lowell Court</td>\n",
       "            <td>Residential</td>\n",
       "        </tr>\n",
       "        <tr>\n",
       "            <td>7</td>\n",
       "            <td>9 Marlborough Street</td>\n",
       "            <td>Residential</td>\n",
       "        </tr>\n",
       "        <tr>\n",
       "            <td>8</td>\n",
       "            <td>8335 Kilby Place</td>\n",
       "            <td>Residential</td>\n",
       "        </tr>\n",
       "        <tr>\n",
       "            <td>9</td>\n",
       "            <td>26 Fenway</td>\n",
       "            <td>Business</td>\n",
       "        </tr>\n",
       "        <tr>\n",
       "            <td>10</td>\n",
       "            <td>81 Fleet Street</td>\n",
       "            <td>Residential</td>\n",
       "        </tr>\n",
       "    </tbody>\n",
       "</table>"
      ],
      "text/plain": [
       "[(1, '7660 Sharon Street', 'Residential'),\n",
       " (2, '60 Drake Place', 'Residential'),\n",
       " (3, '88 City Point Court', 'Residential'),\n",
       " (4, '266 Dorchester Avenue', 'Residential'),\n",
       " (5, '2 Otis Place', 'Residential'),\n",
       " (6, '154 Lowell Court', 'Residential'),\n",
       " (7, '9 Marlborough Street', 'Residential'),\n",
       " (8, '8335 Kilby Place', 'Residential'),\n",
       " (9, '26 Fenway', 'Business'),\n",
       " (10, '81 Fleet Street', 'Residential')]"
      ]
     },
     "execution_count": 4,
     "metadata": {},
     "output_type": "execute_result"
    }
   ],
   "source": [
    "%sql SELECT * FROM \"addresses\" LIMIT 10;"
   ]
  },
  {
   "cell_type": "code",
   "execution_count": 5,
   "id": "90ba397e",
   "metadata": {},
   "outputs": [
    {
     "name": "stdout",
     "output_type": "stream",
     "text": [
      " * sqlite:///../databases/packages.db?check_same_thread=false\n"
     ]
    },
    {
     "data": {
      "text/html": [
       "<table>\n",
       "    <thead>\n",
       "        <tr>\n",
       "            <th>id</th>\n",
       "            <th>contents</th>\n",
       "            <th>from_address_id</th>\n",
       "            <th>to_address_id</th>\n",
       "        </tr>\n",
       "    </thead>\n",
       "    <tbody>\n",
       "        <tr>\n",
       "            <td>1</td>\n",
       "            <td>Sticky notes</td>\n",
       "            <td>8575</td>\n",
       "            <td>4635</td>\n",
       "        </tr>\n",
       "        <tr>\n",
       "            <td>2</td>\n",
       "            <td>Shears</td>\n",
       "            <td>8431</td>\n",
       "            <td>7641</td>\n",
       "        </tr>\n",
       "        <tr>\n",
       "            <td>3</td>\n",
       "            <td>Index cards</td>\n",
       "            <td>2107</td>\n",
       "            <td>3624</td>\n",
       "        </tr>\n",
       "        <tr>\n",
       "            <td>4</td>\n",
       "            <td>Glue stick</td>\n",
       "            <td>6954</td>\n",
       "            <td>3740</td>\n",
       "        </tr>\n",
       "        <tr>\n",
       "            <td>5</td>\n",
       "            <td>Trading cards</td>\n",
       "            <td>4530</td>\n",
       "            <td>5564</td>\n",
       "        </tr>\n",
       "        <tr>\n",
       "            <td>6</td>\n",
       "            <td>Fountain pen</td>\n",
       "            <td>2308</td>\n",
       "            <td>972</td>\n",
       "        </tr>\n",
       "        <tr>\n",
       "            <td>7</td>\n",
       "            <td>Trading cards</td>\n",
       "            <td>7870</td>\n",
       "            <td>7942</td>\n",
       "        </tr>\n",
       "        <tr>\n",
       "            <td>8</td>\n",
       "            <td>Ironing board</td>\n",
       "            <td>4572</td>\n",
       "            <td>8454</td>\n",
       "        </tr>\n",
       "        <tr>\n",
       "            <td>9</td>\n",
       "            <td>Fountain pen</td>\n",
       "            <td>8399</td>\n",
       "            <td>416</td>\n",
       "        </tr>\n",
       "        <tr>\n",
       "            <td>10</td>\n",
       "            <td>Colored cardstock</td>\n",
       "            <td>7325</td>\n",
       "            <td>8572</td>\n",
       "        </tr>\n",
       "    </tbody>\n",
       "</table>"
      ],
      "text/plain": [
       "[(1, 'Sticky notes', 8575, 4635),\n",
       " (2, 'Shears', 8431, 7641),\n",
       " (3, 'Index cards', 2107, 3624),\n",
       " (4, 'Glue stick', 6954, 3740),\n",
       " (5, 'Trading cards', 4530, 5564),\n",
       " (6, 'Fountain pen', 2308, 972),\n",
       " (7, 'Trading cards', 7870, 7942),\n",
       " (8, 'Ironing board', 4572, 8454),\n",
       " (9, 'Fountain pen', 8399, 416),\n",
       " (10, 'Colored cardstock', 7325, 8572)]"
      ]
     },
     "execution_count": 5,
     "metadata": {},
     "output_type": "execute_result"
    }
   ],
   "source": [
    "%sql SELECT * FROM \"packages\" LIMIT 10;"
   ]
  },
  {
   "cell_type": "code",
   "execution_count": 6,
   "id": "d1c1ce1d",
   "metadata": {},
   "outputs": [
    {
     "name": "stdout",
     "output_type": "stream",
     "text": [
      " * sqlite:///../databases/packages.db?check_same_thread=false\n"
     ]
    },
    {
     "data": {
      "text/html": [
       "<table>\n",
       "    <thead>\n",
       "        <tr>\n",
       "            <th>id</th>\n",
       "            <th>name</th>\n",
       "        </tr>\n",
       "    </thead>\n",
       "    <tbody>\n",
       "        <tr>\n",
       "            <td>1</td>\n",
       "            <td>Matthew</td>\n",
       "        </tr>\n",
       "        <tr>\n",
       "            <td>2</td>\n",
       "            <td>Isabel</td>\n",
       "        </tr>\n",
       "        <tr>\n",
       "            <td>3</td>\n",
       "            <td>Julianna</td>\n",
       "        </tr>\n",
       "        <tr>\n",
       "            <td>4</td>\n",
       "            <td>Varsha</td>\n",
       "        </tr>\n",
       "        <tr>\n",
       "            <td>5</td>\n",
       "            <td>Jacob</td>\n",
       "        </tr>\n",
       "        <tr>\n",
       "            <td>6</td>\n",
       "            <td>Kamryn</td>\n",
       "        </tr>\n",
       "        <tr>\n",
       "            <td>7</td>\n",
       "            <td>Derek</td>\n",
       "        </tr>\n",
       "        <tr>\n",
       "            <td>8</td>\n",
       "            <td>Elizabeth</td>\n",
       "        </tr>\n",
       "        <tr>\n",
       "            <td>9</td>\n",
       "            <td>Phyllis</td>\n",
       "        </tr>\n",
       "        <tr>\n",
       "            <td>10</td>\n",
       "            <td>Josephine</td>\n",
       "        </tr>\n",
       "    </tbody>\n",
       "</table>"
      ],
      "text/plain": [
       "[(1, 'Matthew'),\n",
       " (2, 'Isabel'),\n",
       " (3, 'Julianna'),\n",
       " (4, 'Varsha'),\n",
       " (5, 'Jacob'),\n",
       " (6, 'Kamryn'),\n",
       " (7, 'Derek'),\n",
       " (8, 'Elizabeth'),\n",
       " (9, 'Phyllis'),\n",
       " (10, 'Josephine')]"
      ]
     },
     "execution_count": 6,
     "metadata": {},
     "output_type": "execute_result"
    }
   ],
   "source": [
    "%sql SELECT * FROM \"drivers\" LIMIT 10;"
   ]
  },
  {
   "cell_type": "code",
   "execution_count": 7,
   "id": "e8587a23",
   "metadata": {},
   "outputs": [
    {
     "name": "stdout",
     "output_type": "stream",
     "text": [
      " * sqlite:///../databases/packages.db?check_same_thread=false\n"
     ]
    },
    {
     "data": {
      "text/html": [
       "<table>\n",
       "    <thead>\n",
       "        <tr>\n",
       "            <th>id</th>\n",
       "            <th>driver_id</th>\n",
       "            <th>package_id</th>\n",
       "            <th>address_id</th>\n",
       "            <th>action</th>\n",
       "            <th>timestamp</th>\n",
       "        </tr>\n",
       "    </thead>\n",
       "    <tbody>\n",
       "        <tr>\n",
       "            <td>1</td>\n",
       "            <td>11</td>\n",
       "            <td>8502</td>\n",
       "            <td>1063</td>\n",
       "            <td>Pick</td>\n",
       "            <td>2023-07-11 15:16:05.340221</td>\n",
       "        </tr>\n",
       "        <tr>\n",
       "            <td>2</td>\n",
       "            <td>8</td>\n",
       "            <td>3320</td>\n",
       "            <td>9551</td>\n",
       "            <td>Pick</td>\n",
       "            <td>2023-07-11 15:19:39.359315</td>\n",
       "        </tr>\n",
       "        <tr>\n",
       "            <td>3</td>\n",
       "            <td>1</td>\n",
       "            <td>2879</td>\n",
       "            <td>9589</td>\n",
       "            <td>Pick</td>\n",
       "            <td>2023-07-11 15:23:47.208594</td>\n",
       "        </tr>\n",
       "        <tr>\n",
       "            <td>4</td>\n",
       "            <td>20</td>\n",
       "            <td>2240</td>\n",
       "            <td>3464</td>\n",
       "            <td>Pick</td>\n",
       "            <td>2023-07-11 15:28:16.920400</td>\n",
       "        </tr>\n",
       "        <tr>\n",
       "            <td>5</td>\n",
       "            <td>1</td>\n",
       "            <td>8664</td>\n",
       "            <td>8013</td>\n",
       "            <td>Pick</td>\n",
       "            <td>2023-07-11 15:32:42.265139</td>\n",
       "        </tr>\n",
       "        <tr>\n",
       "            <td>6</td>\n",
       "            <td>9</td>\n",
       "            <td>6932</td>\n",
       "            <td>8082</td>\n",
       "            <td>Pick</td>\n",
       "            <td>2023-07-11 15:35:55.724893</td>\n",
       "        </tr>\n",
       "        <tr>\n",
       "            <td>7</td>\n",
       "            <td>5</td>\n",
       "            <td>9033</td>\n",
       "            <td>678</td>\n",
       "            <td>Pick</td>\n",
       "            <td>2023-07-11 15:42:30.255444</td>\n",
       "        </tr>\n",
       "        <tr>\n",
       "            <td>8</td>\n",
       "            <td>4</td>\n",
       "            <td>1722</td>\n",
       "            <td>673</td>\n",
       "            <td>Pick</td>\n",
       "            <td>2023-07-11 15:47:40.269239</td>\n",
       "        </tr>\n",
       "        <tr>\n",
       "            <td>9</td>\n",
       "            <td>18</td>\n",
       "            <td>3629</td>\n",
       "            <td>4065</td>\n",
       "            <td>Pick</td>\n",
       "            <td>2023-07-11 15:54:06.711657</td>\n",
       "        </tr>\n",
       "        <tr>\n",
       "            <td>10</td>\n",
       "            <td>13</td>\n",
       "            <td>860</td>\n",
       "            <td>8557</td>\n",
       "            <td>Pick</td>\n",
       "            <td>2023-07-11 15:58:04.571587</td>\n",
       "        </tr>\n",
       "    </tbody>\n",
       "</table>"
      ],
      "text/plain": [
       "[(1, 11, 8502, 1063, 'Pick', '2023-07-11 15:16:05.340221'),\n",
       " (2, 8, 3320, 9551, 'Pick', '2023-07-11 15:19:39.359315'),\n",
       " (3, 1, 2879, 9589, 'Pick', '2023-07-11 15:23:47.208594'),\n",
       " (4, 20, 2240, 3464, 'Pick', '2023-07-11 15:28:16.920400'),\n",
       " (5, 1, 8664, 8013, 'Pick', '2023-07-11 15:32:42.265139'),\n",
       " (6, 9, 6932, 8082, 'Pick', '2023-07-11 15:35:55.724893'),\n",
       " (7, 5, 9033, 678, 'Pick', '2023-07-11 15:42:30.255444'),\n",
       " (8, 4, 1722, 673, 'Pick', '2023-07-11 15:47:40.269239'),\n",
       " (9, 18, 3629, 4065, 'Pick', '2023-07-11 15:54:06.711657'),\n",
       " (10, 13, 860, 8557, 'Pick', '2023-07-11 15:58:04.571587')]"
      ]
     },
     "execution_count": 7,
     "metadata": {},
     "output_type": "execute_result"
    }
   ],
   "source": [
    "%sql SELECT * FROM \"scans\" LIMIT 10;"
   ]
  },
  {
   "cell_type": "markdown",
   "id": "6ee232ee",
   "metadata": {},
   "source": [
    "<a data-id=\"\" id=\"problem-to-solve\" style=\"top: -57.4667px;\"></a><h2><a data-id=\"\" href=\"#problem-to-solve\">Problem to Solve</a></h2>\n",
    "\n",
    "<p>You are a <a href=\"https://www.ziprecruiter.com/career/Mail-Clerk/What-Is-How-to-Become\">mail clerk</a> for the city of Boston and, as such, you oversee the delivery of mail across the city. For the most part, all packages sent are eventually delivered. Except, every once in while, a mystery falls into your lap: a missing package! For each customer that comes to you with a report of a missing package, your job is to determine:</p>\n",
    "\n",
    "<ul class=\"fa-ul\">\n",
    "  <li data-marker=\"*\"><span class=\"fa-li\"><i class=\"fas fa-square\"></i></span>The current address (or location!) of their missing package</li>\n",
    "  <li data-marker=\"*\"><span class=\"fa-li\"><i class=\"fas fa-square\"></i></span>The type of address or location (e.g. residential, business, etc.)</li>\n",
    "  <li data-marker=\"*\"><span class=\"fa-li\"><i class=\"fas fa-square\"></i></span>The contents of the package</li>\n",
    "</ul>\n",
    "\n",
    "<p>All you know is what the customers themselves will tell you. To solve each mystery, you’ll need to use the mail delivery service’s database, <code class=\"language-plaintext highlighter-rouge\">packages.db</code>, which contains data on the transit of packages around the city. Using just the information in the database, your task is to help each customer find their missing package.</p>"
   ]
  },
  {
   "cell_type": "markdown",
   "id": "09717d06",
   "metadata": {},
   "source": [
    "## First Problem\n",
    "Your first report of a missing package comes from Anneke. Anneke walks up to your counter and tells you the following:\n",
    "\n",
    "    Clerk, my name’s Anneke. I live over at 900 Somerville Avenue. Not long ago, I sent out a special letter. It’s meant for my friend Varsha. She’s starting a new chapter of her life at 2 Finnegan Street, uptown. (That address, let me tell you: it was a bit tricky to get right the first time.) The letter is a congratulatory note—a cheery little paper hug from me to her, to celebrate this big move of hers. Can you check if it’s made its way to her yet?\n",
    "\n",
    "In `log.sql`, underneath -- \\*\\*\\* The Lost Letter \\*\\*\\*, keep track of the SQL queries you use to find Anneke’s lost letter. Once you’ve found it, describe it per the questions in answers.txt."
   ]
  },
  {
   "cell_type": "markdown",
   "id": "b5117c80",
   "metadata": {},
   "source": [
    "### Answers:\n",
    "At what type of address did the Lost Letter end up?: Residential  \n",
    "At what address did the Lost Letter end up?: 2 Finnigan Street"
   ]
  },
  {
   "cell_type": "code",
   "execution_count": 8,
   "id": "61bf1e06",
   "metadata": {},
   "outputs": [
    {
     "name": "stdout",
     "output_type": "stream",
     "text": [
      " * sqlite:///../databases/packages.db?check_same_thread=false\n"
     ]
    },
    {
     "data": {
      "text/html": [
       "<table>\n",
       "    <thead>\n",
       "        <tr>\n",
       "            <th>address</th>\n",
       "            <th>type</th>\n",
       "        </tr>\n",
       "    </thead>\n",
       "    <tbody>\n",
       "        <tr>\n",
       "            <td>2 Finnigan Street</td>\n",
       "            <td>Residential</td>\n",
       "        </tr>\n",
       "    </tbody>\n",
       "</table>"
      ],
      "text/plain": [
       "[('2 Finnigan Street', 'Residential')]"
      ]
     },
     "execution_count": 8,
     "metadata": {},
     "output_type": "execute_result"
    }
   ],
   "source": [
    "%%sql\n",
    "SELECT \"address\", \"type\" FROM \"addresses\"\n",
    "WHERE \"id\" = (\n",
    "    SELECT \"to_address_id\" FROM \"packages\"\n",
    "    WHERE \"contents\" = 'Congratulatory letter'\n",
    ");"
   ]
  },
  {
   "cell_type": "markdown",
   "id": "5e789840",
   "metadata": {},
   "source": [
    "## Second Problem\n",
    "Your second report of a missing package comes from a mysterious fellow from out of town. They walk up to your counter and tell you the following:\n",
    "\n",
    "    Good day to you, deliverer of the mail. You might remember that not too long ago I made my way over from the town of Fiftyville. I gave a certain box into your reliable hands and asked you to keep things low. My associate has been expecting the package for a while now. And yet, it appears to have grown wings and flown away. Ha! Any chance you could help clarify this mystery? Afraid there’s no “From” address. It’s the kind of parcel that would add a bit more… quack to someone’s bath times, if you catch my drift.\n",
    "\n",
    "In log.sql, underneath -- *** The Devious Delivery ***, keep track of the SQL queries you use to find the package. Once you’ve found it, describe it per the questions in answers.txt."
   ]
  },
  {
   "cell_type": "markdown",
   "id": "0de0c66f",
   "metadata": {},
   "source": [
    "### Answers:\n",
    "At what type of address did the Devious Delivery end up?: Police Station  \n",
    "What were the contents of the Devious Delivery?: Duck debugger"
   ]
  },
  {
   "cell_type": "code",
   "execution_count": 9,
   "id": "c0ac32ef",
   "metadata": {},
   "outputs": [
    {
     "name": "stdout",
     "output_type": "stream",
     "text": [
      " * sqlite:///../databases/packages.db?check_same_thread=false\n"
     ]
    },
    {
     "data": {
      "text/html": [
       "<table>\n",
       "    <thead>\n",
       "        <tr>\n",
       "            <th>type</th>\n",
       "        </tr>\n",
       "    </thead>\n",
       "    <tbody>\n",
       "        <tr>\n",
       "            <td>Police Station</td>\n",
       "        </tr>\n",
       "    </tbody>\n",
       "</table>"
      ],
      "text/plain": [
       "[('Police Station',)]"
      ]
     },
     "execution_count": 9,
     "metadata": {},
     "output_type": "execute_result"
    }
   ],
   "source": [
    "%%sql\n",
    "SELECT \"type\" FROM \"addresses\"\n",
    "WHERE \"id\" = (\n",
    "    SELECT \"address_id\" FROM \"scans\"\n",
    "    WHERE \"package_id\" = (\n",
    "        SELECT \"id\" FROM \"packages\"\n",
    "        WHERE \"from_address_id\" IS NULL\n",
    "        AND \"action\" = \"Drop\"\n",
    "    )\n",
    ");"
   ]
  },
  {
   "cell_type": "code",
   "execution_count": 10,
   "id": "fb3496b4",
   "metadata": {},
   "outputs": [
    {
     "name": "stdout",
     "output_type": "stream",
     "text": [
      " * sqlite:///../databases/packages.db?check_same_thread=false\n"
     ]
    },
    {
     "data": {
      "text/html": [
       "<table>\n",
       "    <thead>\n",
       "        <tr>\n",
       "            <th>contents</th>\n",
       "        </tr>\n",
       "    </thead>\n",
       "    <tbody>\n",
       "        <tr>\n",
       "            <td>Duck debugger</td>\n",
       "        </tr>\n",
       "    </tbody>\n",
       "</table>"
      ],
      "text/plain": [
       "[('Duck debugger',)]"
      ]
     },
     "execution_count": 10,
     "metadata": {},
     "output_type": "execute_result"
    }
   ],
   "source": [
    "%%sql\n",
    "SELECT \"contents\" FROM \"packages\"\n",
    "WHERE \"from_address_id\" IS NULL;"
   ]
  },
  {
   "cell_type": "markdown",
   "id": "2e84275b",
   "metadata": {},
   "source": [
    "## Third Problem\n",
    "The Forgotten Gift\n",
    "Your third report of a missing package comes from a grandparent who lives down the street from the post office. They approach your counter and tell you the following:\n",
    "\n",
    "    Oh, excuse me, Clerk. I had sent a mystery gift, you see, to my wonderful granddaughter, off at 728 Maple Place. That was about two weeks ago. Now the delivery date has passed by seven whole days and I hear she still waits, her hands empty and heart filled with anticipation. I’m a bit worried wondering where my package has gone. I cannot for the life of me remember what’s inside, but I do know it’s filled to the brim with my love for her. Can we possibly track it down so it can fill her day with joy? I did send it from my home at 109 Tileston Street.\n",
    "\n",
    "In log.sql, underneath -- *** The Forgotten Gift ***, keep track of the SQL queries you use to find the gift. Once you’ve found it, describe it per the questions in answers.txt."
   ]
  },
  {
   "cell_type": "markdown",
   "id": "940b38f6",
   "metadata": {},
   "source": [
    "### Answers: \n",
    "What are the contents of the Forgotten Gift?: Flowers  \n",
    "Who has the Forgotten Gift?: Mikel"
   ]
  },
  {
   "cell_type": "code",
   "execution_count": 11,
   "id": "a48475c2",
   "metadata": {},
   "outputs": [
    {
     "name": "stdout",
     "output_type": "stream",
     "text": [
      " * sqlite:///../databases/packages.db?check_same_thread=false\n"
     ]
    },
    {
     "data": {
      "text/html": [
       "<table>\n",
       "    <thead>\n",
       "        <tr>\n",
       "            <th>contents</th>\n",
       "        </tr>\n",
       "    </thead>\n",
       "    <tbody>\n",
       "        <tr>\n",
       "            <td>Flowers</td>\n",
       "        </tr>\n",
       "    </tbody>\n",
       "</table>"
      ],
      "text/plain": [
       "[('Flowers',)]"
      ]
     },
     "execution_count": 11,
     "metadata": {},
     "output_type": "execute_result"
    }
   ],
   "source": [
    "%%sql \n",
    "SELECT \"contents\" FROM \"packages\"\n",
    "WHERE \"from_address_id\" = (\n",
    "    SELECT \"id\" FROM \"addresses\"\n",
    "    WHERE \"address\" = '109 Tileston Street'\n",
    ")\n",
    "AND \"to_address_id\" = (\n",
    "    SELECT \"id\" FROM \"addresses\"\n",
    "    WHERE \"address\" = '728 Maple Place'\n",
    ");"
   ]
  },
  {
   "cell_type": "code",
   "execution_count": 12,
   "id": "4b6cc0ac",
   "metadata": {},
   "outputs": [
    {
     "name": "stdout",
     "output_type": "stream",
     "text": [
      " * sqlite:///../databases/packages.db?check_same_thread=false\n"
     ]
    },
    {
     "data": {
      "text/html": [
       "<table>\n",
       "    <thead>\n",
       "        <tr>\n",
       "            <th>name</th>\n",
       "            <th>action</th>\n",
       "        </tr>\n",
       "    </thead>\n",
       "    <tbody>\n",
       "        <tr>\n",
       "            <td>Maegan</td>\n",
       "            <td>Pick</td>\n",
       "        </tr>\n",
       "        <tr>\n",
       "            <td>Maegan</td>\n",
       "            <td>Drop</td>\n",
       "        </tr>\n",
       "        <tr>\n",
       "            <td>Mikel</td>\n",
       "            <td>Pick</td>\n",
       "        </tr>\n",
       "    </tbody>\n",
       "</table>"
      ],
      "text/plain": [
       "[('Maegan', 'Pick'), ('Maegan', 'Drop'), ('Mikel', 'Pick')]"
      ]
     },
     "execution_count": 12,
     "metadata": {},
     "output_type": "execute_result"
    }
   ],
   "source": [
    "%%sql\n",
    "SELECT \"name\", \"action\"\n",
    "FROM \"drivers\"\n",
    "JOIN \"scans\" ON \"drivers\".\"id\" = \"scans\".\"driver_id\"\n",
    "WHERE \"package_id\" = (\n",
    "    SELECT \"id\" FROM \"packages\"\n",
    "    WHERE \"from_address_id\" = (\n",
    "        SELECT \"id\" FROM \"addresses\"\n",
    "        WHERE \"address\" = '109 Tileston Street'\n",
    "    )\n",
    ");"
   ]
  }
 ],
 "metadata": {
  "kernelspec": {
   "display_name": ".venv",
   "language": "python",
   "name": "python3"
  },
  "language_info": {
   "codemirror_mode": {
    "name": "ipython",
    "version": 3
   },
   "file_extension": ".py",
   "mimetype": "text/x-python",
   "name": "python",
   "nbconvert_exporter": "python",
   "pygments_lexer": "ipython3",
   "version": "3.13.3"
  }
 },
 "nbformat": 4,
 "nbformat_minor": 5
}
