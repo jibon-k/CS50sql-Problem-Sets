{
 "cells": [
  {
   "cell_type": "code",
   "execution_count": 1,
   "id": "f498be27",
   "metadata": {},
   "outputs": [],
   "source": [
    "import sqlite3\n",
    "import pandas as pd"
   ]
  },
  {
   "cell_type": "code",
   "execution_count": 4,
   "id": "9f00ee06",
   "metadata": {},
   "outputs": [],
   "source": [
    "db = \"./mfa0.db\""
   ]
  },
  {
   "cell_type": "code",
   "execution_count": 5,
   "id": "73de311e",
   "metadata": {},
   "outputs": [
    {
     "name": "stdout",
     "output_type": "stream",
     "text": [
      " * sqlite:///./mfa0.db?check_same_thread=false\n"
     ]
    },
    {
     "data": {
      "text/html": [
       "<table>\n",
       "    <thead>\n",
       "        <tr>\n",
       "            <th>name</th>\n",
       "        </tr>\n",
       "    </thead>\n",
       "    <tbody>\n",
       "        <tr>\n",
       "            <td>collections</td>\n",
       "        </tr>\n",
       "    </tbody>\n",
       "</table>"
      ],
      "text/plain": [
       "[('collections',)]"
      ]
     },
     "execution_count": 5,
     "metadata": {},
     "output_type": "execute_result"
    }
   ],
   "source": [
    "%load_ext sql\n",
    "%config SqlMagic.feedback=False\n",
    "%sql sqlite:///{db}?check_same_thread=false\n",
    "%sql SELECT name FROM sqlite_master WHERE type='table';"
   ]
  },
  {
   "cell_type": "code",
   "execution_count": 4,
   "id": "82d178a7",
   "metadata": {},
   "outputs": [],
   "source": [
    "# schema.sql\n",
    "# CREATE TABLE \"collections\" (\n",
    "# \"id\" INTEGER,\n",
    "# \"title\" TEXTI NOT NULL,\n",
    "# \"accession_number\" TEXT NOT NULL UNIQUE,\n",
    "# \"acquired\" NUMERIC,\n",
    "# PRIMARY KEY(\"id\")\n",
    "# );"
   ]
  },
  {
   "cell_type": "code",
   "execution_count": 5,
   "id": "09cc66f6",
   "metadata": {},
   "outputs": [
    {
     "name": "stdout",
     "output_type": "stream",
     "text": [
      " * sqlite:///./mfa0.db?check_same_thread=false\n"
     ]
    },
    {
     "data": {
      "text/html": [
       "<table>\n",
       "    <thead>\n",
       "        <tr>\n",
       "            <th>name</th>\n",
       "        </tr>\n",
       "    </thead>\n",
       "    <tbody>\n",
       "        <tr>\n",
       "            <td>collections</td>\n",
       "        </tr>\n",
       "    </tbody>\n",
       "</table>"
      ],
      "text/plain": [
       "[('collections',)]"
      ]
     },
     "execution_count": 5,
     "metadata": {},
     "output_type": "execute_result"
    }
   ],
   "source": [
    "%sql SELECT name FROM sqlite_master WHERE type='table';"
   ]
  },
  {
   "cell_type": "markdown",
   "id": "0d4a073e",
   "metadata": {},
   "source": [
    "**Schema**"
   ]
  },
  {
   "cell_type": "code",
   "execution_count": 6,
   "id": "50a44686",
   "metadata": {},
   "outputs": [
    {
     "name": "stdout",
     "output_type": "stream",
     "text": [
      " * sqlite:///./mfa0.db?check_same_thread=false\n"
     ]
    },
    {
     "data": {
      "text/html": [
       "<table>\n",
       "    <thead>\n",
       "        <tr>\n",
       "            <th>sql</th>\n",
       "        </tr>\n",
       "    </thead>\n",
       "    <tbody>\n",
       "        <tr>\n",
       "            <td>CREATE TABLE &quot;collections&quot; (<br>&quot;id&quot; INTEGER,<br>&quot;title&quot; TEXTI NOT NULL,<br>&quot;accession_number&quot; TEXT NOT NULL UNIQUE,<br>&quot;acquired&quot; NUMERIC,<br>PRIMARY KEY(&quot;id&quot;)<br>)</td>\n",
       "        </tr>\n",
       "    </tbody>\n",
       "</table>"
      ],
      "text/plain": [
       "[('CREATE TABLE \"collections\" (\\n\"id\" INTEGER,\\n\"title\" TEXTI NOT NULL,\\n\"accession_number\" TEXT NOT NULL UNIQUE,\\n\"acquired\" NUMERIC,\\nPRIMARY KEY(\"id\")\\n)',)]"
      ]
     },
     "execution_count": 6,
     "metadata": {},
     "output_type": "execute_result"
    }
   ],
   "source": [
    "%sql SELECT sql FROM sqlite_master WHERE type='table';"
   ]
  },
  {
   "cell_type": "code",
   "execution_count": 7,
   "id": "7c0cc604",
   "metadata": {},
   "outputs": [],
   "source": [
    "# %%sql\n",
    "# INSERT INTO \"collections\"\n",
    "# (\"id\", \"title\", \"accession_number\", \"acquired\")\n",
    "# VALUES\n",
    "# (1, 'Profusion of flowers', '56.257', '1956-04-12');"
   ]
  },
  {
   "cell_type": "code",
   "execution_count": 8,
   "id": "b8cc4f0f",
   "metadata": {},
   "outputs": [
    {
     "name": "stdout",
     "output_type": "stream",
     "text": [
      " * sqlite:///./mfa0.db?check_same_thread=false\n"
     ]
    },
    {
     "data": {
      "text/html": [
       "<table>\n",
       "    <thead>\n",
       "        <tr>\n",
       "            <th>id</th>\n",
       "            <th>title</th>\n",
       "            <th>accession_number</th>\n",
       "            <th>acquired</th>\n",
       "        </tr>\n",
       "    </thead>\n",
       "    <tbody>\n",
       "        <tr>\n",
       "            <td>1</td>\n",
       "            <td>Profusion of flowers</td>\n",
       "            <td>56.257</td>\n",
       "            <td>1956-04-12</td>\n",
       "        </tr>\n",
       "        <tr>\n",
       "            <td>2</td>\n",
       "            <td>Farmers working at dawn</td>\n",
       "            <td>11.6152</td>\n",
       "            <td>1911-08-03</td>\n",
       "        </tr>\n",
       "        <tr>\n",
       "            <td>3</td>\n",
       "            <td>Imaginative landscape</td>\n",
       "            <td>56.496</td>\n",
       "            <td>None</td>\n",
       "        </tr>\n",
       "        <tr>\n",
       "            <td>4</td>\n",
       "            <td>Peonies and butterfly</td>\n",
       "            <td>106.1899</td>\n",
       "            <td>1906-01-01</td>\n",
       "        </tr>\n",
       "    </tbody>\n",
       "</table>"
      ],
      "text/plain": [
       "[(1, 'Profusion of flowers', '56.257', '1956-04-12'),\n",
       " (2, 'Farmers working at dawn', '11.6152', '1911-08-03'),\n",
       " (3, 'Imaginative landscape', '56.496', None),\n",
       " (4, 'Peonies and butterfly', '106.1899', '1906-01-01')]"
      ]
     },
     "execution_count": 8,
     "metadata": {},
     "output_type": "execute_result"
    }
   ],
   "source": [
    "%sql SELECT * FROM \"collections\";"
   ]
  },
  {
   "cell_type": "code",
   "execution_count": 9,
   "id": "02282ca2",
   "metadata": {},
   "outputs": [],
   "source": [
    "# %%sql\n",
    "# INSERT INTO \"collections\"\n",
    "# (id, title, \"accession_number\", acquired)\n",
    "# VALUES\n",
    "# (2, 'Farmers working at dawn', '11.6152', '1911-08-03');"
   ]
  },
  {
   "cell_type": "code",
   "execution_count": 10,
   "id": "eb9404bf",
   "metadata": {},
   "outputs": [
    {
     "name": "stdout",
     "output_type": "stream",
     "text": [
      " * sqlite:///./mfa0.db?check_same_thread=false\n"
     ]
    },
    {
     "data": {
      "text/html": [
       "<table>\n",
       "    <thead>\n",
       "        <tr>\n",
       "            <th>id</th>\n",
       "            <th>title</th>\n",
       "            <th>accession_number</th>\n",
       "            <th>acquired</th>\n",
       "        </tr>\n",
       "    </thead>\n",
       "    <tbody>\n",
       "        <tr>\n",
       "            <td>1</td>\n",
       "            <td>Profusion of flowers</td>\n",
       "            <td>56.257</td>\n",
       "            <td>1956-04-12</td>\n",
       "        </tr>\n",
       "        <tr>\n",
       "            <td>2</td>\n",
       "            <td>Farmers working at dawn</td>\n",
       "            <td>11.6152</td>\n",
       "            <td>1911-08-03</td>\n",
       "        </tr>\n",
       "        <tr>\n",
       "            <td>3</td>\n",
       "            <td>Imaginative landscape</td>\n",
       "            <td>56.496</td>\n",
       "            <td>None</td>\n",
       "        </tr>\n",
       "        <tr>\n",
       "            <td>4</td>\n",
       "            <td>Peonies and butterfly</td>\n",
       "            <td>106.1899</td>\n",
       "            <td>1906-01-01</td>\n",
       "        </tr>\n",
       "    </tbody>\n",
       "</table>"
      ],
      "text/plain": [
       "[(1, 'Profusion of flowers', '56.257', '1956-04-12'),\n",
       " (2, 'Farmers working at dawn', '11.6152', '1911-08-03'),\n",
       " (3, 'Imaginative landscape', '56.496', None),\n",
       " (4, 'Peonies and butterfly', '106.1899', '1906-01-01')]"
      ]
     },
     "execution_count": 10,
     "metadata": {},
     "output_type": "execute_result"
    }
   ],
   "source": [
    "%sql SELECT * FROM \"collections\";"
   ]
  },
  {
   "cell_type": "code",
   "execution_count": 11,
   "id": "bdd89853",
   "metadata": {},
   "outputs": [],
   "source": [
    "# %%sql\n",
    "# INSERT INTO \"collections\"\n",
    "# (id, title, \"accession_number\", \"acquired\")\n",
    "# VALUES\n",
    "# (3, 'Imaginative landscape', '56.496', NULL),\n",
    "# (4, 'Peonies and butterfly', '106.1899','1906-01-01');"
   ]
  },
  {
   "cell_type": "code",
   "execution_count": 12,
   "id": "5c5c19a3",
   "metadata": {},
   "outputs": [
    {
     "name": "stdout",
     "output_type": "stream",
     "text": [
      " * sqlite:///./mfa0.db?check_same_thread=false\n"
     ]
    },
    {
     "data": {
      "text/html": [
       "<table>\n",
       "    <thead>\n",
       "        <tr>\n",
       "            <th>id</th>\n",
       "            <th>title</th>\n",
       "            <th>accession_number</th>\n",
       "            <th>acquired</th>\n",
       "        </tr>\n",
       "    </thead>\n",
       "    <tbody>\n",
       "        <tr>\n",
       "            <td>1</td>\n",
       "            <td>Profusion of flowers</td>\n",
       "            <td>56.257</td>\n",
       "            <td>1956-04-12</td>\n",
       "        </tr>\n",
       "        <tr>\n",
       "            <td>2</td>\n",
       "            <td>Farmers working at dawn</td>\n",
       "            <td>11.6152</td>\n",
       "            <td>1911-08-03</td>\n",
       "        </tr>\n",
       "        <tr>\n",
       "            <td>3</td>\n",
       "            <td>Imaginative landscape</td>\n",
       "            <td>56.496</td>\n",
       "            <td>None</td>\n",
       "        </tr>\n",
       "        <tr>\n",
       "            <td>4</td>\n",
       "            <td>Peonies and butterfly</td>\n",
       "            <td>106.1899</td>\n",
       "            <td>1906-01-01</td>\n",
       "        </tr>\n",
       "    </tbody>\n",
       "</table>"
      ],
      "text/plain": [
       "[(1, 'Profusion of flowers', '56.257', '1956-04-12'),\n",
       " (2, 'Farmers working at dawn', '11.6152', '1911-08-03'),\n",
       " (3, 'Imaginative landscape', '56.496', None),\n",
       " (4, 'Peonies and butterfly', '106.1899', '1906-01-01')]"
      ]
     },
     "execution_count": 12,
     "metadata": {},
     "output_type": "execute_result"
    }
   ],
   "source": [
    "%sql SELECT * FROM \"collections\";"
   ]
  },
  {
   "cell_type": "code",
   "execution_count": 2,
   "id": "0fbfe210",
   "metadata": {},
   "outputs": [
    {
     "data": {
      "text/plain": [
       "5"
      ]
     },
     "execution_count": 2,
     "metadata": {},
     "output_type": "execute_result"
    }
   ],
   "source": [
    "conn = sqlite3.connect(\"mfa.db\")\n",
    "cur = conn.cursor()\n",
    "\n",
    "cur.execute(\"\"\"\n",
    "CREATE TABLE IF NOT EXISTS collections (\n",
    "    id INTEGER PRIMARY KEY,\n",
    "    title TEXT NOT NULL,\n",
    "    accession_number TEXT NOT NULL UNIQUE,\n",
    "    acquired NUMERIC\n",
    ");\n",
    "\"\"\")\n",
    "conn.commit()\n",
    "\n",
    "df = pd.read_csv(\"mfa.csv\")\n",
    "df.to_sql(\"collections\", conn, if_exists=\"append\", index=False)"
   ]
  },
  {
   "cell_type": "code",
   "execution_count": 6,
   "id": "ca7cd45c",
   "metadata": {},
   "outputs": [
    {
     "name": "stdout",
     "output_type": "stream",
     "text": [
      "   sqlite:///./mfa0.db?check_same_thread=false\n",
      " * sqlite:///mfa.db?check_same_thread=false\n"
     ]
    },
    {
     "data": {
      "text/html": [
       "<table>\n",
       "    <thead>\n",
       "        <tr>\n",
       "            <th>name</th>\n",
       "        </tr>\n",
       "    </thead>\n",
       "    <tbody>\n",
       "        <tr>\n",
       "            <td>collections</td>\n",
       "        </tr>\n",
       "    </tbody>\n",
       "</table>"
      ],
      "text/plain": [
       "[('collections',)]"
      ]
     },
     "execution_count": 6,
     "metadata": {},
     "output_type": "execute_result"
    }
   ],
   "source": [
    "%sql sqlite:///mfa.db?check_same_thread=false\n",
    "%sql SELECT name FROM sqlite_master WHERE type='table';"
   ]
  },
  {
   "cell_type": "code",
   "execution_count": 9,
   "id": "f0bbd5ae",
   "metadata": {},
   "outputs": [
    {
     "name": "stdout",
     "output_type": "stream",
     "text": [
      "   sqlite:///./mfa0.db?check_same_thread=false\n",
      " * sqlite:///mfa.db?check_same_thread=false\n"
     ]
    },
    {
     "data": {
      "text/html": [
       "<table>\n",
       "    <thead>\n",
       "        <tr>\n",
       "            <th>id</th>\n",
       "            <th>title</th>\n",
       "            <th>accession_number</th>\n",
       "            <th>acquired</th>\n",
       "        </tr>\n",
       "    </thead>\n",
       "    <tbody>\n",
       "        <tr>\n",
       "            <td>1</td>\n",
       "            <td>Profusion of flowers</td>\n",
       "            <td>56.257</td>\n",
       "            <td>1956-04-12</td>\n",
       "        </tr>\n",
       "        <tr>\n",
       "            <td>2</td>\n",
       "            <td>Farmers working at dawn</td>\n",
       "            <td>11.6152</td>\n",
       "            <td>1911-08-03</td>\n",
       "        </tr>\n",
       "        <tr>\n",
       "            <td>3</td>\n",
       "            <td>Spring outing</td>\n",
       "            <td>14.76</td>\n",
       "            <td>1914-01-08</td>\n",
       "        </tr>\n",
       "        <tr>\n",
       "            <td>4</td>\n",
       "            <td>Imaginative landscape</td>\n",
       "            <td>56.496</td>\n",
       "            <td>None</td>\n",
       "        </tr>\n",
       "        <tr>\n",
       "            <td>5</td>\n",
       "            <td>Peonies and butterfly</td>\n",
       "            <td>6.1899</td>\n",
       "            <td>1906-01-01</td>\n",
       "        </tr>\n",
       "    </tbody>\n",
       "</table>"
      ],
      "text/plain": [
       "[(1, 'Profusion of flowers', '56.257', '1956-04-12'),\n",
       " (2, 'Farmers working at dawn', '11.6152', '1911-08-03'),\n",
       " (3, 'Spring outing', '14.76', '1914-01-08'),\n",
       " (4, 'Imaginative landscape', '56.496', None),\n",
       " (5, 'Peonies and butterfly', '6.1899', '1906-01-01')]"
      ]
     },
     "execution_count": 9,
     "metadata": {},
     "output_type": "execute_result"
    }
   ],
   "source": [
    "%sql SELECT * FROM \"collections\";"
   ]
  },
  {
   "cell_type": "code",
   "execution_count": 11,
   "id": "a4c45888",
   "metadata": {},
   "outputs": [
    {
     "name": "stdout",
     "output_type": "stream",
     "text": [
      "   sqlite:///./mfa0.db?check_same_thread=false\n",
      " * sqlite:///mfa.db?check_same_thread=false\n"
     ]
    },
    {
     "data": {
      "text/plain": [
       "[]"
      ]
     },
     "execution_count": 11,
     "metadata": {},
     "output_type": "execute_result"
    }
   ],
   "source": [
    "%%sql\n",
    "DELETE FROM \"collections\"\n",
    "WHERE \"acquired\" < '1909-01-01';"
   ]
  },
  {
   "cell_type": "code",
   "execution_count": 12,
   "id": "467118c9",
   "metadata": {},
   "outputs": [
    {
     "name": "stdout",
     "output_type": "stream",
     "text": [
      "   sqlite:///./mfa0.db?check_same_thread=false\n",
      " * sqlite:///mfa.db?check_same_thread=false\n"
     ]
    },
    {
     "data": {
      "text/html": [
       "<table>\n",
       "    <thead>\n",
       "        <tr>\n",
       "            <th>id</th>\n",
       "            <th>title</th>\n",
       "            <th>accession_number</th>\n",
       "            <th>acquired</th>\n",
       "        </tr>\n",
       "    </thead>\n",
       "    <tbody>\n",
       "        <tr>\n",
       "            <td>1</td>\n",
       "            <td>Profusion of flowers</td>\n",
       "            <td>56.257</td>\n",
       "            <td>1956-04-12</td>\n",
       "        </tr>\n",
       "        <tr>\n",
       "            <td>2</td>\n",
       "            <td>Farmers working at dawn</td>\n",
       "            <td>11.6152</td>\n",
       "            <td>1911-08-03</td>\n",
       "        </tr>\n",
       "        <tr>\n",
       "            <td>3</td>\n",
       "            <td>Spring outing</td>\n",
       "            <td>14.76</td>\n",
       "            <td>1914-01-08</td>\n",
       "        </tr>\n",
       "        <tr>\n",
       "            <td>4</td>\n",
       "            <td>Imaginative landscape</td>\n",
       "            <td>56.496</td>\n",
       "            <td>None</td>\n",
       "        </tr>\n",
       "    </tbody>\n",
       "</table>"
      ],
      "text/plain": [
       "[(1, 'Profusion of flowers', '56.257', '1956-04-12'),\n",
       " (2, 'Farmers working at dawn', '11.6152', '1911-08-03'),\n",
       " (3, 'Spring outing', '14.76', '1914-01-08'),\n",
       " (4, 'Imaginative landscape', '56.496', None)]"
      ]
     },
     "execution_count": 12,
     "metadata": {},
     "output_type": "execute_result"
    }
   ],
   "source": [
    "%sql SELECT * FROM \"collections\";"
   ]
  },
  {
   "cell_type": "code",
   "execution_count": 13,
   "id": "df337bd0",
   "metadata": {},
   "outputs": [
    {
     "name": "stdout",
     "output_type": "stream",
     "text": [
      "   sqlite:///./mfa0.db?check_same_thread=false\n",
      "   sqlite:///mfa.db?check_same_thread=false\n",
      " * sqlite:///mfa1.db?check_same_thread=false\n"
     ]
    },
    {
     "data": {
      "text/html": [
       "<table>\n",
       "    <thead>\n",
       "        <tr>\n",
       "            <th>name</th>\n",
       "        </tr>\n",
       "    </thead>\n",
       "    <tbody>\n",
       "        <tr>\n",
       "            <td>collections</td>\n",
       "        </tr>\n",
       "        <tr>\n",
       "            <td>artists</td>\n",
       "        </tr>\n",
       "        <tr>\n",
       "            <td>created</td>\n",
       "        </tr>\n",
       "    </tbody>\n",
       "</table>"
      ],
      "text/plain": [
       "[('collections',), ('artists',), ('created',)]"
      ]
     },
     "execution_count": 13,
     "metadata": {},
     "output_type": "execute_result"
    }
   ],
   "source": [
    "%sql sqlite:///mfa1.db?check_same_thread=false\n",
    "%sql SELECT name FROM sqlite_master WHERE type='table';"
   ]
  },
  {
   "cell_type": "code",
   "execution_count": 17,
   "id": "480eed9d",
   "metadata": {},
   "outputs": [],
   "source": [
    "conn = sqlite3.connect(\"mfa1.db\")\n",
    "cur = conn.cursor()\n",
    "\n",
    "cur.executescript(\"\"\"\n",
    "INSERT INTO artists (id, name) VALUES\n",
    "(1, 'Li Yin'),\n",
    "(2, 'Qian Weicheng'),\n",
    "(3, 'Unidentified artist'),\n",
    "(4, 'Zhou Chen');\n",
    "\n",
    "INSERT INTO collections (id, title, accession_number, acquired) VALUES\n",
    "(1, 'Profusion of flowers', '56.257', '1956-04-12'),\n",
    "(2, 'Farmers working at dawn', '11.6152', '1911-08-03'),\n",
    "(3, 'Spring outing', '14.76', '1914-01-08'),\n",
    "(4, 'Imaginative landscape', '56.496', NULL);\n",
    "\n",
    "INSERT INTO created (artist_id, collection_id) VALUES\n",
    "(2, 3),\n",
    "(3, 1),\n",
    "(1, 2),\n",
    "(4, 4);\n",
    "\"\"\")\n",
    "\n",
    "conn.commit()"
   ]
  },
  {
   "cell_type": "code",
   "execution_count": null,
   "id": "6e677040",
   "metadata": {},
   "outputs": [
    {
     "name": "stdout",
     "output_type": "stream",
     "text": [
      "   sqlite:///./mfa0.db?check_same_thread=false\n",
      "   sqlite:///mfa.db?check_same_thread=false\n",
      " * sqlite:///mfa1.db?check_same_thread=false\n"
     ]
    },
    {
     "data": {
      "text/html": [
       "<table>\n",
       "    <thead>\n",
       "        <tr>\n",
       "            <th>id</th>\n",
       "            <th>title</th>\n",
       "            <th>accession_number</th>\n",
       "            <th>acquired</th>\n",
       "        </tr>\n",
       "    </thead>\n",
       "    <tbody>\n",
       "        <tr>\n",
       "            <td>1</td>\n",
       "            <td>Profusion of flowers</td>\n",
       "            <td>56.257</td>\n",
       "            <td>1956-04-12</td>\n",
       "        </tr>\n",
       "        <tr>\n",
       "            <td>2</td>\n",
       "            <td>Farmers working at dawn</td>\n",
       "            <td>11.6152</td>\n",
       "            <td>1911-08-03</td>\n",
       "        </tr>\n",
       "        <tr>\n",
       "            <td>3</td>\n",
       "            <td>Spring outing</td>\n",
       "            <td>14.76</td>\n",
       "            <td>1914-01-08</td>\n",
       "        </tr>\n",
       "        <tr>\n",
       "            <td>4</td>\n",
       "            <td>Imaginative landscape</td>\n",
       "            <td>56.496</td>\n",
       "            <td>None</td>\n",
       "        </tr>\n",
       "    </tbody>\n",
       "</table>"
      ],
      "text/plain": [
       "[(1, 'Profusion of flowers', '56.257', '1956-04-12'),\n",
       " (2, 'Farmers working at dawn', '11.6152', '1911-08-03'),\n",
       " (3, 'Spring outing', '14.76', '1914-01-08'),\n",
       " (4, 'Imaginative landscape', '56.496', None)]"
      ]
     },
     "execution_count": 19,
     "metadata": {},
     "output_type": "execute_result"
    }
   ],
   "source": [
    "%sql SELECT * FROM \"collections\";"
   ]
  },
  {
   "cell_type": "code",
   "execution_count": 21,
   "id": "25aa6297",
   "metadata": {},
   "outputs": [
    {
     "name": "stdout",
     "output_type": "stream",
     "text": [
      "   sqlite:///./mfa0.db?check_same_thread=false\n",
      "   sqlite:///mfa.db?check_same_thread=false\n",
      " * sqlite:///mfa1.db?check_same_thread=false\n"
     ]
    },
    {
     "data": {
      "text/html": [
       "<table>\n",
       "    <thead>\n",
       "        <tr>\n",
       "            <th>id</th>\n",
       "            <th>name</th>\n",
       "        </tr>\n",
       "    </thead>\n",
       "    <tbody>\n",
       "        <tr>\n",
       "            <td>1</td>\n",
       "            <td>Li Yin</td>\n",
       "        </tr>\n",
       "        <tr>\n",
       "            <td>2</td>\n",
       "            <td>Qian Weicheng</td>\n",
       "        </tr>\n",
       "        <tr>\n",
       "            <td>3</td>\n",
       "            <td>Unidentified artist</td>\n",
       "        </tr>\n",
       "        <tr>\n",
       "            <td>4</td>\n",
       "            <td>Zhou Chen</td>\n",
       "        </tr>\n",
       "    </tbody>\n",
       "</table>"
      ],
      "text/plain": [
       "[(1, 'Li Yin'),\n",
       " (2, 'Qian Weicheng'),\n",
       " (3, 'Unidentified artist'),\n",
       " (4, 'Zhou Chen')]"
      ]
     },
     "execution_count": 21,
     "metadata": {},
     "output_type": "execute_result"
    }
   ],
   "source": [
    "%sql SELECT * FROM \"artists\";"
   ]
  },
  {
   "cell_type": "code",
   "execution_count": 20,
   "id": "d5d1a578",
   "metadata": {},
   "outputs": [
    {
     "name": "stdout",
     "output_type": "stream",
     "text": [
      "   sqlite:///./mfa0.db?check_same_thread=false\n",
      "   sqlite:///mfa.db?check_same_thread=false\n",
      " * sqlite:///mfa1.db?check_same_thread=false\n"
     ]
    },
    {
     "data": {
      "text/html": [
       "<table>\n",
       "    <thead>\n",
       "        <tr>\n",
       "            <th>artist_id</th>\n",
       "            <th>collection_id</th>\n",
       "        </tr>\n",
       "    </thead>\n",
       "    <tbody>\n",
       "        <tr>\n",
       "            <td>2</td>\n",
       "            <td>3</td>\n",
       "        </tr>\n",
       "        <tr>\n",
       "            <td>3</td>\n",
       "            <td>1</td>\n",
       "        </tr>\n",
       "        <tr>\n",
       "            <td>1</td>\n",
       "            <td>2</td>\n",
       "        </tr>\n",
       "        <tr>\n",
       "            <td>4</td>\n",
       "            <td>4</td>\n",
       "        </tr>\n",
       "    </tbody>\n",
       "</table>"
      ],
      "text/plain": [
       "[(2, 3), (3, 1), (1, 2), (4, 4)]"
      ]
     },
     "execution_count": 20,
     "metadata": {},
     "output_type": "execute_result"
    }
   ],
   "source": [
    "%sql SELECT * FROM \"created\";"
   ]
  },
  {
   "cell_type": "code",
   "execution_count": 26,
   "id": "fa158256",
   "metadata": {},
   "outputs": [
    {
     "name": "stdout",
     "output_type": "stream",
     "text": [
      "   sqlite:///./mfa0.db?check_same_thread=false\n",
      "   sqlite:///mfa.db?check_same_thread=false\n",
      " * sqlite:///mfa1.db?check_same_thread=false\n"
     ]
    },
    {
     "data": {
      "text/plain": [
       "[]"
      ]
     },
     "execution_count": 26,
     "metadata": {},
     "output_type": "execute_result"
    }
   ],
   "source": [
    "%%sql\n",
    "UPDATE \"created\" SET \"artist_id\" = (\n",
    "    SELECT \"id\" FROM \"artists\"\n",
    "    WHERE \"name\" = \"Li Yin\"\n",
    ")\n",
    "WHERE \"collection_id\" = (\n",
    "    SELECT \"id\" FROM \"collections\"\n",
    "    WHERE \"title\" = 'Profusion of flowers'\n",
    ");"
   ]
  },
  {
   "cell_type": "code",
   "execution_count": 27,
   "id": "f291bd5b",
   "metadata": {},
   "outputs": [
    {
     "name": "stdout",
     "output_type": "stream",
     "text": [
      "   sqlite:///./mfa0.db?check_same_thread=false\n",
      "   sqlite:///mfa.db?check_same_thread=false\n",
      " * sqlite:///mfa1.db?check_same_thread=false\n"
     ]
    },
    {
     "data": {
      "text/html": [
       "<table>\n",
       "    <thead>\n",
       "        <tr>\n",
       "            <th>artist_id</th>\n",
       "            <th>collection_id</th>\n",
       "        </tr>\n",
       "    </thead>\n",
       "    <tbody>\n",
       "        <tr>\n",
       "            <td>2</td>\n",
       "            <td>3</td>\n",
       "        </tr>\n",
       "        <tr>\n",
       "            <td>1</td>\n",
       "            <td>1</td>\n",
       "        </tr>\n",
       "        <tr>\n",
       "            <td>1</td>\n",
       "            <td>2</td>\n",
       "        </tr>\n",
       "        <tr>\n",
       "            <td>4</td>\n",
       "            <td>4</td>\n",
       "        </tr>\n",
       "    </tbody>\n",
       "</table>"
      ],
      "text/plain": [
       "[(2, 3), (1, 1), (1, 2), (4, 4)]"
      ]
     },
     "execution_count": 27,
     "metadata": {},
     "output_type": "execute_result"
    }
   ],
   "source": [
    "%sql SELECT * FROM \"created\";"
   ]
  },
  {
   "cell_type": "code",
   "execution_count": 29,
   "id": "3d7b03cf",
   "metadata": {},
   "outputs": [
    {
     "name": "stdout",
     "output_type": "stream",
     "text": [
      "   sqlite:///./mfa0.db?check_same_thread=false\n",
      "   sqlite:///mfa.db?check_same_thread=false\n",
      "   sqlite:///mfa1.db?check_same_thread=false\n",
      " * sqlite:///votes.db?check_same_thread=false\n"
     ]
    },
    {
     "data": {
      "text/html": [
       "<table>\n",
       "    <thead>\n",
       "        <tr>\n",
       "            <th>name</th>\n",
       "        </tr>\n",
       "    </thead>\n",
       "    <tbody>\n",
       "        <tr>\n",
       "            <td>votes</td>\n",
       "        </tr>\n",
       "    </tbody>\n",
       "</table>"
      ],
      "text/plain": [
       "[('votes',)]"
      ]
     },
     "execution_count": 29,
     "metadata": {},
     "output_type": "execute_result"
    }
   ],
   "source": [
    "%sql sqlite:///votes.db?check_same_thread=false\n",
    "%sql SELECT name FROM sqlite_master WHERE type='table';"
   ]
  },
  {
   "cell_type": "code",
   "execution_count": 30,
   "id": "174a0c1e",
   "metadata": {},
   "outputs": [
    {
     "name": "stdout",
     "output_type": "stream",
     "text": [
      "   sqlite:///./mfa0.db?check_same_thread=false\n",
      "   sqlite:///mfa.db?check_same_thread=false\n",
      "   sqlite:///mfa1.db?check_same_thread=false\n",
      " * sqlite:///votes.db?check_same_thread=false\n"
     ]
    },
    {
     "data": {
      "text/html": [
       "<table>\n",
       "    <thead>\n",
       "        <tr>\n",
       "            <th>title</th>\n",
       "        </tr>\n",
       "    </thead>\n",
       "    <tbody>\n",
       "        <tr>\n",
       "            <td>Farmers working at dawn</td>\n",
       "        </tr>\n",
       "        <tr>\n",
       "            <td>Farmers Working at Dawn</td>\n",
       "        </tr>\n",
       "        <tr>\n",
       "            <td>Imaginative landscape</td>\n",
       "        </tr>\n",
       "        <tr>\n",
       "            <td>Profusion of flowers</td>\n",
       "        </tr>\n",
       "        <tr>\n",
       "            <td>Spring outing</td>\n",
       "        </tr>\n",
       "        <tr>\n",
       "            <td> Spring outing</td>\n",
       "        </tr>\n",
       "        <tr>\n",
       "            <td>Imagintive landscape</td>\n",
       "        </tr>\n",
       "        <tr>\n",
       "            <td>Farmesr working at dawn </td>\n",
       "        </tr>\n",
       "        <tr>\n",
       "            <td>Famers working at dawn</td>\n",
       "        </tr>\n",
       "        <tr>\n",
       "            <td>Profusion</td>\n",
       "        </tr>\n",
       "        <tr>\n",
       "            <td>Imaginative landscape</td>\n",
       "        </tr>\n",
       "        <tr>\n",
       "            <td>Profusion of flowers</td>\n",
       "        </tr>\n",
       "        <tr>\n",
       "            <td>Farmers working</td>\n",
       "        </tr>\n",
       "        <tr>\n",
       "            <td> Imaginative landscape</td>\n",
       "        </tr>\n",
       "        <tr>\n",
       "            <td>Imaginative  landscape</td>\n",
       "        </tr>\n",
       "        <tr>\n",
       "            <td>Spring outing</td>\n",
       "        </tr>\n",
       "        <tr>\n",
       "            <td>Spring outing</td>\n",
       "        </tr>\n",
       "        <tr>\n",
       "            <td>Profusion of flowers</td>\n",
       "        </tr>\n",
       "        <tr>\n",
       "            <td>SPring outing</td>\n",
       "        </tr>\n",
       "        <tr>\n",
       "            <td>Farmers working at dawn </td>\n",
       "        </tr>\n",
       "    </tbody>\n",
       "</table>"
      ],
      "text/plain": [
       "[('Farmers working at dawn',),\n",
       " ('Farmers Working at Dawn',),\n",
       " ('Imaginative landscape',),\n",
       " ('Profusion of flowers',),\n",
       " ('Spring outing',),\n",
       " (' Spring outing',),\n",
       " ('Imagintive landscape',),\n",
       " ('Farmesr working at dawn ',),\n",
       " ('Famers working at dawn',),\n",
       " ('Profusion',),\n",
       " ('Imaginative landscape',),\n",
       " ('Profusion of flowers',),\n",
       " ('Farmers working',),\n",
       " (' Imaginative landscape',),\n",
       " ('Imaginative  landscape',),\n",
       " ('Spring outing',),\n",
       " ('Spring outing',),\n",
       " ('Profusion of flowers',),\n",
       " ('SPring outing',),\n",
       " ('Farmers working at dawn ',)]"
      ]
     },
     "execution_count": 30,
     "metadata": {},
     "output_type": "execute_result"
    }
   ],
   "source": [
    "%sql SELECT * FROM \"votes\";"
   ]
  },
  {
   "cell_type": "code",
   "execution_count": 32,
   "id": "2e2eb1ad",
   "metadata": {},
   "outputs": [
    {
     "name": "stdout",
     "output_type": "stream",
     "text": [
      "   sqlite:///./mfa0.db?check_same_thread=false\n",
      "   sqlite:///mfa.db?check_same_thread=false\n",
      "   sqlite:///mfa1.db?check_same_thread=false\n",
      " * sqlite:///votes.db?check_same_thread=false\n"
     ]
    },
    {
     "data": {
      "text/html": [
       "<table>\n",
       "    <thead>\n",
       "        <tr>\n",
       "            <th>title</th>\n",
       "            <th>vote count</th>\n",
       "        </tr>\n",
       "    </thead>\n",
       "    <tbody>\n",
       "        <tr>\n",
       "            <td> Imaginative landscape</td>\n",
       "            <td>1</td>\n",
       "        </tr>\n",
       "        <tr>\n",
       "            <td> Spring outing</td>\n",
       "            <td>1</td>\n",
       "        </tr>\n",
       "        <tr>\n",
       "            <td>Famers working at dawn</td>\n",
       "            <td>1</td>\n",
       "        </tr>\n",
       "        <tr>\n",
       "            <td>Farmers Working at Dawn</td>\n",
       "            <td>1</td>\n",
       "        </tr>\n",
       "        <tr>\n",
       "            <td>Farmers working</td>\n",
       "            <td>1</td>\n",
       "        </tr>\n",
       "        <tr>\n",
       "            <td>Farmers working at dawn</td>\n",
       "            <td>1</td>\n",
       "        </tr>\n",
       "        <tr>\n",
       "            <td>Farmers working at dawn </td>\n",
       "            <td>1</td>\n",
       "        </tr>\n",
       "        <tr>\n",
       "            <td>Farmesr working at dawn </td>\n",
       "            <td>1</td>\n",
       "        </tr>\n",
       "        <tr>\n",
       "            <td>Imaginative  landscape</td>\n",
       "            <td>1</td>\n",
       "        </tr>\n",
       "        <tr>\n",
       "            <td>Imaginative landscape</td>\n",
       "            <td>2</td>\n",
       "        </tr>\n",
       "        <tr>\n",
       "            <td>Imagintive landscape</td>\n",
       "            <td>1</td>\n",
       "        </tr>\n",
       "        <tr>\n",
       "            <td>Profusion</td>\n",
       "            <td>1</td>\n",
       "        </tr>\n",
       "        <tr>\n",
       "            <td>Profusion of flowers</td>\n",
       "            <td>3</td>\n",
       "        </tr>\n",
       "        <tr>\n",
       "            <td>SPring outing</td>\n",
       "            <td>1</td>\n",
       "        </tr>\n",
       "        <tr>\n",
       "            <td>Spring outing</td>\n",
       "            <td>3</td>\n",
       "        </tr>\n",
       "    </tbody>\n",
       "</table>"
      ],
      "text/plain": [
       "[(' Imaginative landscape', 1),\n",
       " (' Spring outing', 1),\n",
       " ('Famers working at dawn', 1),\n",
       " ('Farmers Working at Dawn', 1),\n",
       " ('Farmers working', 1),\n",
       " ('Farmers working at dawn', 1),\n",
       " ('Farmers working at dawn ', 1),\n",
       " ('Farmesr working at dawn ', 1),\n",
       " ('Imaginative  landscape', 1),\n",
       " ('Imaginative landscape', 2),\n",
       " ('Imagintive landscape', 1),\n",
       " ('Profusion', 1),\n",
       " ('Profusion of flowers', 3),\n",
       " ('SPring outing', 1),\n",
       " ('Spring outing', 3)]"
      ]
     },
     "execution_count": 32,
     "metadata": {},
     "output_type": "execute_result"
    }
   ],
   "source": [
    "%%sql\n",
    "SELECT \"title\", COUNT(\"title\") AS \"vote count\"\n",
    "FROM \"votes\"\n",
    "GROUP BY \"title\";"
   ]
  },
  {
   "cell_type": "code",
   "execution_count": 33,
   "id": "78e4fe64",
   "metadata": {},
   "outputs": [
    {
     "name": "stdout",
     "output_type": "stream",
     "text": [
      "   sqlite:///./mfa0.db?check_same_thread=false\n",
      "   sqlite:///mfa.db?check_same_thread=false\n",
      "   sqlite:///mfa1.db?check_same_thread=false\n",
      " * sqlite:///votes.db?check_same_thread=false\n"
     ]
    },
    {
     "data": {
      "text/plain": [
       "[]"
      ]
     },
     "execution_count": 33,
     "metadata": {},
     "output_type": "execute_result"
    }
   ],
   "source": [
    "%%sql\n",
    "UPDATE \"votes\" SET \"title\" = trim(\"title\");"
   ]
  },
  {
   "cell_type": "code",
   "execution_count": 34,
   "id": "bb3f8643",
   "metadata": {},
   "outputs": [
    {
     "name": "stdout",
     "output_type": "stream",
     "text": [
      "   sqlite:///./mfa0.db?check_same_thread=false\n",
      "   sqlite:///mfa.db?check_same_thread=false\n",
      "   sqlite:///mfa1.db?check_same_thread=false\n",
      " * sqlite:///votes.db?check_same_thread=false\n"
     ]
    },
    {
     "data": {
      "text/html": [
       "<table>\n",
       "    <thead>\n",
       "        <tr>\n",
       "            <th>title</th>\n",
       "            <th>vote count</th>\n",
       "        </tr>\n",
       "    </thead>\n",
       "    <tbody>\n",
       "        <tr>\n",
       "            <td>Famers working at dawn</td>\n",
       "            <td>1</td>\n",
       "        </tr>\n",
       "        <tr>\n",
       "            <td>Farmers Working at Dawn</td>\n",
       "            <td>1</td>\n",
       "        </tr>\n",
       "        <tr>\n",
       "            <td>Farmers working</td>\n",
       "            <td>1</td>\n",
       "        </tr>\n",
       "        <tr>\n",
       "            <td>Farmers working at dawn</td>\n",
       "            <td>2</td>\n",
       "        </tr>\n",
       "        <tr>\n",
       "            <td>Farmesr working at dawn</td>\n",
       "            <td>1</td>\n",
       "        </tr>\n",
       "        <tr>\n",
       "            <td>Imaginative  landscape</td>\n",
       "            <td>1</td>\n",
       "        </tr>\n",
       "        <tr>\n",
       "            <td>Imaginative landscape</td>\n",
       "            <td>3</td>\n",
       "        </tr>\n",
       "        <tr>\n",
       "            <td>Imagintive landscape</td>\n",
       "            <td>1</td>\n",
       "        </tr>\n",
       "        <tr>\n",
       "            <td>Profusion</td>\n",
       "            <td>1</td>\n",
       "        </tr>\n",
       "        <tr>\n",
       "            <td>Profusion of flowers</td>\n",
       "            <td>3</td>\n",
       "        </tr>\n",
       "        <tr>\n",
       "            <td>SPring outing</td>\n",
       "            <td>1</td>\n",
       "        </tr>\n",
       "        <tr>\n",
       "            <td>Spring outing</td>\n",
       "            <td>4</td>\n",
       "        </tr>\n",
       "    </tbody>\n",
       "</table>"
      ],
      "text/plain": [
       "[('Famers working at dawn', 1),\n",
       " ('Farmers Working at Dawn', 1),\n",
       " ('Farmers working', 1),\n",
       " ('Farmers working at dawn', 2),\n",
       " ('Farmesr working at dawn', 1),\n",
       " ('Imaginative  landscape', 1),\n",
       " ('Imaginative landscape', 3),\n",
       " ('Imagintive landscape', 1),\n",
       " ('Profusion', 1),\n",
       " ('Profusion of flowers', 3),\n",
       " ('SPring outing', 1),\n",
       " ('Spring outing', 4)]"
      ]
     },
     "execution_count": 34,
     "metadata": {},
     "output_type": "execute_result"
    }
   ],
   "source": [
    "%%sql\n",
    "SELECT \"title\", COUNT(\"title\") AS \"vote count\"\n",
    "FROM \"votes\"\n",
    "GROUP BY \"title\";"
   ]
  },
  {
   "cell_type": "code",
   "execution_count": 35,
   "id": "7082e997",
   "metadata": {},
   "outputs": [
    {
     "name": "stdout",
     "output_type": "stream",
     "text": [
      "   sqlite:///./mfa0.db?check_same_thread=false\n",
      "   sqlite:///mfa.db?check_same_thread=false\n",
      "   sqlite:///mfa1.db?check_same_thread=false\n",
      " * sqlite:///votes.db?check_same_thread=false\n"
     ]
    },
    {
     "data": {
      "text/plain": [
       "[]"
      ]
     },
     "execution_count": 35,
     "metadata": {},
     "output_type": "execute_result"
    }
   ],
   "source": [
    "%%sql\n",
    "UPDATE \"votes\" SET \"title\" = upper(\"title\");"
   ]
  },
  {
   "cell_type": "code",
   "execution_count": 36,
   "id": "eed76a97",
   "metadata": {},
   "outputs": [
    {
     "name": "stdout",
     "output_type": "stream",
     "text": [
      "   sqlite:///./mfa0.db?check_same_thread=false\n",
      "   sqlite:///mfa.db?check_same_thread=false\n",
      "   sqlite:///mfa1.db?check_same_thread=false\n",
      " * sqlite:///votes.db?check_same_thread=false\n"
     ]
    },
    {
     "data": {
      "text/html": [
       "<table>\n",
       "    <thead>\n",
       "        <tr>\n",
       "            <th>title</th>\n",
       "            <th>vote count</th>\n",
       "        </tr>\n",
       "    </thead>\n",
       "    <tbody>\n",
       "        <tr>\n",
       "            <td>FAMERS WORKING AT DAWN</td>\n",
       "            <td>1</td>\n",
       "        </tr>\n",
       "        <tr>\n",
       "            <td>FARMERS WORKING</td>\n",
       "            <td>1</td>\n",
       "        </tr>\n",
       "        <tr>\n",
       "            <td>FARMERS WORKING AT DAWN</td>\n",
       "            <td>3</td>\n",
       "        </tr>\n",
       "        <tr>\n",
       "            <td>FARMESR WORKING AT DAWN</td>\n",
       "            <td>1</td>\n",
       "        </tr>\n",
       "        <tr>\n",
       "            <td>IMAGINATIVE  LANDSCAPE</td>\n",
       "            <td>1</td>\n",
       "        </tr>\n",
       "        <tr>\n",
       "            <td>IMAGINATIVE LANDSCAPE</td>\n",
       "            <td>3</td>\n",
       "        </tr>\n",
       "        <tr>\n",
       "            <td>IMAGINTIVE LANDSCAPE</td>\n",
       "            <td>1</td>\n",
       "        </tr>\n",
       "        <tr>\n",
       "            <td>PROFUSION</td>\n",
       "            <td>1</td>\n",
       "        </tr>\n",
       "        <tr>\n",
       "            <td>PROFUSION OF FLOWERS</td>\n",
       "            <td>3</td>\n",
       "        </tr>\n",
       "        <tr>\n",
       "            <td>SPRING OUTING</td>\n",
       "            <td>5</td>\n",
       "        </tr>\n",
       "    </tbody>\n",
       "</table>"
      ],
      "text/plain": [
       "[('FAMERS WORKING AT DAWN', 1),\n",
       " ('FARMERS WORKING', 1),\n",
       " ('FARMERS WORKING AT DAWN', 3),\n",
       " ('FARMESR WORKING AT DAWN', 1),\n",
       " ('IMAGINATIVE  LANDSCAPE', 1),\n",
       " ('IMAGINATIVE LANDSCAPE', 3),\n",
       " ('IMAGINTIVE LANDSCAPE', 1),\n",
       " ('PROFUSION', 1),\n",
       " ('PROFUSION OF FLOWERS', 3),\n",
       " ('SPRING OUTING', 5)]"
      ]
     },
     "execution_count": 36,
     "metadata": {},
     "output_type": "execute_result"
    }
   ],
   "source": [
    "%%sql\n",
    "SELECT \"title\", COUNT(\"title\") AS \"vote count\"\n",
    "FROM \"votes\"\n",
    "GROUP BY \"title\";"
   ]
  },
  {
   "cell_type": "code",
   "execution_count": 37,
   "id": "13d5818c",
   "metadata": {},
   "outputs": [
    {
     "name": "stdout",
     "output_type": "stream",
     "text": [
      "   sqlite:///./mfa0.db?check_same_thread=false\n",
      "   sqlite:///mfa.db?check_same_thread=false\n",
      "   sqlite:///mfa1.db?check_same_thread=false\n",
      " * sqlite:///votes.db?check_same_thread=false\n"
     ]
    },
    {
     "data": {
      "text/plain": [
       "[]"
      ]
     },
     "execution_count": 37,
     "metadata": {},
     "output_type": "execute_result"
    }
   ],
   "source": [
    "%%sql\n",
    "UPDATE \"votes\" SET \"title\" = 'FARMERS WORKING AT DAWN'\n",
    "WHERE \"title\" LIKE 'FA%WORKING%';"
   ]
  },
  {
   "cell_type": "code",
   "execution_count": 38,
   "id": "7d428551",
   "metadata": {},
   "outputs": [
    {
     "name": "stdout",
     "output_type": "stream",
     "text": [
      "   sqlite:///./mfa0.db?check_same_thread=false\n",
      "   sqlite:///mfa.db?check_same_thread=false\n",
      "   sqlite:///mfa1.db?check_same_thread=false\n",
      " * sqlite:///votes.db?check_same_thread=false\n"
     ]
    },
    {
     "data": {
      "text/html": [
       "<table>\n",
       "    <thead>\n",
       "        <tr>\n",
       "            <th>title</th>\n",
       "            <th>vote count</th>\n",
       "        </tr>\n",
       "    </thead>\n",
       "    <tbody>\n",
       "        <tr>\n",
       "            <td>FARMERS WORKING AT DAWN</td>\n",
       "            <td>6</td>\n",
       "        </tr>\n",
       "        <tr>\n",
       "            <td>IMAGINATIVE  LANDSCAPE</td>\n",
       "            <td>1</td>\n",
       "        </tr>\n",
       "        <tr>\n",
       "            <td>IMAGINATIVE LANDSCAPE</td>\n",
       "            <td>3</td>\n",
       "        </tr>\n",
       "        <tr>\n",
       "            <td>IMAGINTIVE LANDSCAPE</td>\n",
       "            <td>1</td>\n",
       "        </tr>\n",
       "        <tr>\n",
       "            <td>PROFUSION</td>\n",
       "            <td>1</td>\n",
       "        </tr>\n",
       "        <tr>\n",
       "            <td>PROFUSION OF FLOWERS</td>\n",
       "            <td>3</td>\n",
       "        </tr>\n",
       "        <tr>\n",
       "            <td>SPRING OUTING</td>\n",
       "            <td>5</td>\n",
       "        </tr>\n",
       "    </tbody>\n",
       "</table>"
      ],
      "text/plain": [
       "[('FARMERS WORKING AT DAWN', 6),\n",
       " ('IMAGINATIVE  LANDSCAPE', 1),\n",
       " ('IMAGINATIVE LANDSCAPE', 3),\n",
       " ('IMAGINTIVE LANDSCAPE', 1),\n",
       " ('PROFUSION', 1),\n",
       " ('PROFUSION OF FLOWERS', 3),\n",
       " ('SPRING OUTING', 5)]"
      ]
     },
     "execution_count": 38,
     "metadata": {},
     "output_type": "execute_result"
    }
   ],
   "source": [
    "%%sql\n",
    "SELECT \"title\", COUNT(\"title\") AS \"vote count\"\n",
    "FROM \"votes\"\n",
    "GROUP BY \"title\";"
   ]
  },
  {
   "cell_type": "code",
   "execution_count": 39,
   "id": "2ad06eae",
   "metadata": {},
   "outputs": [
    {
     "name": "stdout",
     "output_type": "stream",
     "text": [
      "   sqlite:///./mfa0.db?check_same_thread=false\n",
      "   sqlite:///mfa.db?check_same_thread=false\n",
      "   sqlite:///mfa1.db?check_same_thread=false\n",
      " * sqlite:///votes.db?check_same_thread=false\n"
     ]
    },
    {
     "data": {
      "text/plain": [
       "[]"
      ]
     },
     "execution_count": 39,
     "metadata": {},
     "output_type": "execute_result"
    }
   ],
   "source": [
    "%%sql\n",
    "UPDATE \"votes\" SET \"title\" = 'IMAGINATIVE LANDSCAPE'\n",
    "WHERE \"title\" LIKE 'IMAGIN%LANDSCAPE';"
   ]
  },
  {
   "cell_type": "code",
   "execution_count": 40,
   "id": "2f457d4c",
   "metadata": {},
   "outputs": [
    {
     "name": "stdout",
     "output_type": "stream",
     "text": [
      "   sqlite:///./mfa0.db?check_same_thread=false\n",
      "   sqlite:///mfa.db?check_same_thread=false\n",
      "   sqlite:///mfa1.db?check_same_thread=false\n",
      " * sqlite:///votes.db?check_same_thread=false\n"
     ]
    },
    {
     "data": {
      "text/html": [
       "<table>\n",
       "    <thead>\n",
       "        <tr>\n",
       "            <th>title</th>\n",
       "            <th>vote count</th>\n",
       "        </tr>\n",
       "    </thead>\n",
       "    <tbody>\n",
       "        <tr>\n",
       "            <td>FARMERS WORKING AT DAWN</td>\n",
       "            <td>6</td>\n",
       "        </tr>\n",
       "        <tr>\n",
       "            <td>IMAGINATIVE LANDSCAPE</td>\n",
       "            <td>5</td>\n",
       "        </tr>\n",
       "        <tr>\n",
       "            <td>PROFUSION</td>\n",
       "            <td>1</td>\n",
       "        </tr>\n",
       "        <tr>\n",
       "            <td>PROFUSION OF FLOWERS</td>\n",
       "            <td>3</td>\n",
       "        </tr>\n",
       "        <tr>\n",
       "            <td>SPRING OUTING</td>\n",
       "            <td>5</td>\n",
       "        </tr>\n",
       "    </tbody>\n",
       "</table>"
      ],
      "text/plain": [
       "[('FARMERS WORKING AT DAWN', 6),\n",
       " ('IMAGINATIVE LANDSCAPE', 5),\n",
       " ('PROFUSION', 1),\n",
       " ('PROFUSION OF FLOWERS', 3),\n",
       " ('SPRING OUTING', 5)]"
      ]
     },
     "execution_count": 40,
     "metadata": {},
     "output_type": "execute_result"
    }
   ],
   "source": [
    "%%sql\n",
    "SELECT \"title\", COUNT(\"title\") AS \"vote count\"\n",
    "FROM \"votes\"\n",
    "GROUP BY \"title\";"
   ]
  },
  {
   "cell_type": "code",
   "execution_count": 41,
   "id": "d9450825",
   "metadata": {},
   "outputs": [
    {
     "name": "stdout",
     "output_type": "stream",
     "text": [
      "   sqlite:///./mfa0.db?check_same_thread=false\n",
      "   sqlite:///mfa.db?check_same_thread=false\n",
      "   sqlite:///mfa1.db?check_same_thread=false\n",
      " * sqlite:///votes.db?check_same_thread=false\n"
     ]
    },
    {
     "data": {
      "text/plain": [
       "[]"
      ]
     },
     "execution_count": 41,
     "metadata": {},
     "output_type": "execute_result"
    }
   ],
   "source": [
    "%%sql\n",
    "UPDATE \"votes\" SET \"title\" = 'FARMERS WORKING AT DAWN'\n",
    "WHERE \"title\" LIKE 'PROFUSION%';"
   ]
  },
  {
   "cell_type": "code",
   "execution_count": 42,
   "id": "d4a7b181",
   "metadata": {},
   "outputs": [
    {
     "name": "stdout",
     "output_type": "stream",
     "text": [
      "   sqlite:///./mfa0.db?check_same_thread=false\n",
      "   sqlite:///mfa.db?check_same_thread=false\n",
      "   sqlite:///mfa1.db?check_same_thread=false\n",
      " * sqlite:///votes.db?check_same_thread=false\n"
     ]
    },
    {
     "data": {
      "text/html": [
       "<table>\n",
       "    <thead>\n",
       "        <tr>\n",
       "            <th>title</th>\n",
       "            <th>vote count</th>\n",
       "        </tr>\n",
       "    </thead>\n",
       "    <tbody>\n",
       "        <tr>\n",
       "            <td>FARMERS WORKING AT DAWN</td>\n",
       "            <td>10</td>\n",
       "        </tr>\n",
       "        <tr>\n",
       "            <td>IMAGINATIVE LANDSCAPE</td>\n",
       "            <td>5</td>\n",
       "        </tr>\n",
       "        <tr>\n",
       "            <td>SPRING OUTING</td>\n",
       "            <td>5</td>\n",
       "        </tr>\n",
       "    </tbody>\n",
       "</table>"
      ],
      "text/plain": [
       "[('FARMERS WORKING AT DAWN', 10),\n",
       " ('IMAGINATIVE LANDSCAPE', 5),\n",
       " ('SPRING OUTING', 5)]"
      ]
     },
     "execution_count": 42,
     "metadata": {},
     "output_type": "execute_result"
    }
   ],
   "source": [
    "%%sql\n",
    "SELECT \"title\", COUNT(\"title\") AS \"vote count\"\n",
    "FROM \"votes\"\n",
    "GROUP BY \"title\";"
   ]
  },
  {
   "cell_type": "code",
   "execution_count": 43,
   "id": "e0144861",
   "metadata": {},
   "outputs": [
    {
     "name": "stdout",
     "output_type": "stream",
     "text": [
      "   sqlite:///./mfa0.db?check_same_thread=false\n",
      "   sqlite:///mfa.db?check_same_thread=false\n",
      "   sqlite:///mfa1.db?check_same_thread=false\n",
      " * sqlite:///mfa2.db?check_same_thread=false\n",
      "   sqlite:///votes.db?check_same_thread=false\n"
     ]
    },
    {
     "data": {
      "text/html": [
       "<table>\n",
       "    <thead>\n",
       "        <tr>\n",
       "            <th>name</th>\n",
       "        </tr>\n",
       "    </thead>\n",
       "    <tbody>\n",
       "        <tr>\n",
       "            <td>collections</td>\n",
       "        </tr>\n",
       "        <tr>\n",
       "            <td>artists</td>\n",
       "        </tr>\n",
       "        <tr>\n",
       "            <td>created</td>\n",
       "        </tr>\n",
       "    </tbody>\n",
       "</table>"
      ],
      "text/plain": [
       "[('collections',), ('artists',), ('created',)]"
      ]
     },
     "execution_count": 43,
     "metadata": {},
     "output_type": "execute_result"
    }
   ],
   "source": [
    "%sql sqlite:///mfa2.db?check_same_thread=false\n",
    "%sql SELECT name FROM sqlite_master WHERE type='table';"
   ]
  },
  {
   "cell_type": "code",
   "execution_count": 44,
   "id": "398336d6",
   "metadata": {},
   "outputs": [
    {
     "name": "stdout",
     "output_type": "stream",
     "text": [
      "   sqlite:///./mfa0.db?check_same_thread=false\n",
      "   sqlite:///mfa.db?check_same_thread=false\n",
      "   sqlite:///mfa1.db?check_same_thread=false\n",
      " * sqlite:///mfa2.db?check_same_thread=false\n",
      "   sqlite:///votes.db?check_same_thread=false\n"
     ]
    },
    {
     "data": {
      "text/plain": [
       "[]"
      ]
     },
     "execution_count": 44,
     "metadata": {},
     "output_type": "execute_result"
    }
   ],
   "source": [
    "%%sql\n",
    "CREATE TABLE \"transactions\" (\n",
    "    \"id\" INTEGER,\n",
    "    \"title\" TEXT,\n",
    "    \"action\" TEXT,\n",
    "    PRIMARY KEY(\"id\")\n",
    ");"
   ]
  },
  {
   "cell_type": "code",
   "execution_count": 45,
   "id": "2dcb9f48",
   "metadata": {},
   "outputs": [
    {
     "name": "stdout",
     "output_type": "stream",
     "text": [
      "   sqlite:///./mfa0.db?check_same_thread=false\n",
      "   sqlite:///mfa.db?check_same_thread=false\n",
      "   sqlite:///mfa1.db?check_same_thread=false\n",
      " * sqlite:///mfa2.db?check_same_thread=false\n",
      "   sqlite:///votes.db?check_same_thread=false\n"
     ]
    },
    {
     "data": {
      "text/html": [
       "<table>\n",
       "    <thead>\n",
       "        <tr>\n",
       "            <th>sql</th>\n",
       "        </tr>\n",
       "    </thead>\n",
       "    <tbody>\n",
       "        <tr>\n",
       "            <td>CREATE TABLE &quot;collections&quot; (<br>    &quot;id&quot; INTEGER PRIMARY KEY,<br>    &quot;title&quot; TEXT NOT NULL,<br>    &quot;accession_number&quot; TEXT NOT NULL UNIQUE,<br>    &quot;acquired&quot; NUMERIC<br>)</td>\n",
       "        </tr>\n",
       "        <tr>\n",
       "            <td>CREATE TABLE &quot;artists&quot; (<br>    &quot;id&quot; INTEGER PRIMARY KEY,<br>    &quot;name&quot; TEXT NOT NULL<br>)</td>\n",
       "        </tr>\n",
       "        <tr>\n",
       "            <td>CREATE TABLE &quot;created&quot; (<br>    &quot;artist_id&quot; INTEGER,<br>    &quot;collection_id&quot; INTEGER,<br>    PRIMARY KEY(&quot;artist_id&quot;, &quot;collection_id&quot;),<br>    FOREIGN KEY(&quot;artist_id&quot;) REFERENCES &quot;artists&quot;(&quot;id&quot;) ON DELETE CASCADE,<br>    FOREIGN KEY(&quot;collection_id&quot;) REFERENCES &quot;collections&quot;(&quot;id&quot;) ON DELETE CASCADE<br>)</td>\n",
       "        </tr>\n",
       "        <tr>\n",
       "            <td>CREATE TABLE &quot;transactions&quot; (<br>    &quot;id&quot; INTEGER,<br>    &quot;title&quot; TEXT,<br>    &quot;action&quot; TEXT,<br>    PRIMARY KEY(&quot;id&quot;)<br>)</td>\n",
       "        </tr>\n",
       "    </tbody>\n",
       "</table>"
      ],
      "text/plain": [
       "[('CREATE TABLE \"collections\" (\\n    \"id\" INTEGER PRIMARY KEY,\\n    \"title\" TEXT NOT NULL,\\n    \"accession_number\" TEXT NOT NULL UNIQUE,\\n    \"acquired\" NUMERIC\\n)',),\n",
       " ('CREATE TABLE \"artists\" (\\n    \"id\" INTEGER PRIMARY KEY,\\n    \"name\" TEXT NOT NULL\\n)',),\n",
       " ('CREATE TABLE \"created\" (\\n    \"artist_id\" INTEGER,\\n    \"collection_id\" INTEGER,\\n    PRIMARY KEY(\"artist_id\", \"collection_id\"),\\n    FOREIGN KEY(\"artist_id\") REFERENCES \"artists\"(\"id\") ON DELETE CASCADE,\\n    FOREIGN KEY(\"collection_id\") REFERENCES \"collections\"(\"id\") ON DELETE CASCADE\\n)',),\n",
       " ('CREATE TABLE \"transactions\" (\\n    \"id\" INTEGER,\\n    \"title\" TEXT,\\n    \"action\" TEXT,\\n    PRIMARY KEY(\"id\")\\n)',)]"
      ]
     },
     "execution_count": 45,
     "metadata": {},
     "output_type": "execute_result"
    }
   ],
   "source": [
    "%sql SELECT sql FROM sqlite_master WHERE type='table';"
   ]
  },
  {
   "cell_type": "code",
   "execution_count": 47,
   "id": "51a36514",
   "metadata": {},
   "outputs": [
    {
     "name": "stdout",
     "output_type": "stream",
     "text": [
      "   sqlite:///./mfa0.db?check_same_thread=false\n",
      "   sqlite:///mfa.db?check_same_thread=false\n",
      "   sqlite:///mfa1.db?check_same_thread=false\n",
      " * sqlite:///mfa2.db?check_same_thread=false\n",
      "   sqlite:///votes.db?check_same_thread=false\n"
     ]
    },
    {
     "data": {
      "text/plain": [
       "[]"
      ]
     },
     "execution_count": 47,
     "metadata": {},
     "output_type": "execute_result"
    }
   ],
   "source": [
    "%%sql\n",
    "CREATE TRIGGER \"sell\"\n",
    "BEFORE DELETE ON \"collections\"\n",
    "FOR EACH ROW\n",
    "BEGIN\n",
    "    INSERT INTO \"transactions\" (\"title\", \"action\")\n",
    "    VALUES (OLD.\"title\", 'sold');\n",
    "END;"
   ]
  },
  {
   "cell_type": "code",
   "execution_count": 48,
   "id": "22df0f78",
   "metadata": {},
   "outputs": [
    {
     "name": "stdout",
     "output_type": "stream",
     "text": [
      "   sqlite:///./mfa0.db?check_same_thread=false\n",
      "   sqlite:///mfa.db?check_same_thread=false\n",
      "   sqlite:///mfa1.db?check_same_thread=false\n",
      " * sqlite:///mfa2.db?check_same_thread=false\n",
      "   sqlite:///votes.db?check_same_thread=false\n"
     ]
    },
    {
     "data": {
      "text/html": [
       "<table>\n",
       "    <thead>\n",
       "        <tr>\n",
       "            <th>sql</th>\n",
       "        </tr>\n",
       "    </thead>\n",
       "    <tbody>\n",
       "        <tr>\n",
       "            <td>CREATE TABLE &quot;collections&quot; (<br>    &quot;id&quot; INTEGER PRIMARY KEY,<br>    &quot;title&quot; TEXT NOT NULL,<br>    &quot;accession_number&quot; TEXT NOT NULL UNIQUE,<br>    &quot;acquired&quot; NUMERIC<br>)</td>\n",
       "        </tr>\n",
       "        <tr>\n",
       "            <td>CREATE TABLE &quot;artists&quot; (<br>    &quot;id&quot; INTEGER PRIMARY KEY,<br>    &quot;name&quot; TEXT NOT NULL<br>)</td>\n",
       "        </tr>\n",
       "        <tr>\n",
       "            <td>CREATE TABLE &quot;created&quot; (<br>    &quot;artist_id&quot; INTEGER,<br>    &quot;collection_id&quot; INTEGER,<br>    PRIMARY KEY(&quot;artist_id&quot;, &quot;collection_id&quot;),<br>    FOREIGN KEY(&quot;artist_id&quot;) REFERENCES &quot;artists&quot;(&quot;id&quot;) ON DELETE CASCADE,<br>    FOREIGN KEY(&quot;collection_id&quot;) REFERENCES &quot;collections&quot;(&quot;id&quot;) ON DELETE CASCADE<br>)</td>\n",
       "        </tr>\n",
       "        <tr>\n",
       "            <td>CREATE TABLE &quot;transactions&quot; (<br>    &quot;id&quot; INTEGER,<br>    &quot;title&quot; TEXT,<br>    &quot;action&quot; TEXT,<br>    PRIMARY KEY(&quot;id&quot;)<br>)</td>\n",
       "        </tr>\n",
       "    </tbody>\n",
       "</table>"
      ],
      "text/plain": [
       "[('CREATE TABLE \"collections\" (\\n    \"id\" INTEGER PRIMARY KEY,\\n    \"title\" TEXT NOT NULL,\\n    \"accession_number\" TEXT NOT NULL UNIQUE,\\n    \"acquired\" NUMERIC\\n)',),\n",
       " ('CREATE TABLE \"artists\" (\\n    \"id\" INTEGER PRIMARY KEY,\\n    \"name\" TEXT NOT NULL\\n)',),\n",
       " ('CREATE TABLE \"created\" (\\n    \"artist_id\" INTEGER,\\n    \"collection_id\" INTEGER,\\n    PRIMARY KEY(\"artist_id\", \"collection_id\"),\\n    FOREIGN KEY(\"artist_id\") REFERENCES \"artists\"(\"id\") ON DELETE CASCADE,\\n    FOREIGN KEY(\"collection_id\") REFERENCES \"collections\"(\"id\") ON DELETE CASCADE\\n)',),\n",
       " ('CREATE TABLE \"transactions\" (\\n    \"id\" INTEGER,\\n    \"title\" TEXT,\\n    \"action\" TEXT,\\n    PRIMARY KEY(\"id\")\\n)',)]"
      ]
     },
     "execution_count": 48,
     "metadata": {},
     "output_type": "execute_result"
    }
   ],
   "source": [
    "%sql SELECT sql FROM sqlite_master WHERE type='table';"
   ]
  },
  {
   "cell_type": "code",
   "execution_count": 49,
   "id": "422f6b1d",
   "metadata": {},
   "outputs": [
    {
     "name": "stdout",
     "output_type": "stream",
     "text": [
      "   sqlite:///./mfa0.db?check_same_thread=false\n",
      "   sqlite:///mfa.db?check_same_thread=false\n",
      "   sqlite:///mfa1.db?check_same_thread=false\n",
      " * sqlite:///mfa2.db?check_same_thread=false\n",
      "   sqlite:///votes.db?check_same_thread=false\n"
     ]
    },
    {
     "data": {
      "text/plain": [
       "[]"
      ]
     },
     "execution_count": 49,
     "metadata": {},
     "output_type": "execute_result"
    }
   ],
   "source": [
    "%%sql\n",
    "DELETE FROM \"collections\"\n",
    "WHERE \"title\" = 'Profusion of flowers';"
   ]
  },
  {
   "cell_type": "code",
   "execution_count": 50,
   "id": "962ec8e0",
   "metadata": {},
   "outputs": [
    {
     "name": "stdout",
     "output_type": "stream",
     "text": [
      "   sqlite:///./mfa0.db?check_same_thread=false\n",
      "   sqlite:///mfa.db?check_same_thread=false\n",
      "   sqlite:///mfa1.db?check_same_thread=false\n",
      " * sqlite:///mfa2.db?check_same_thread=false\n",
      "   sqlite:///votes.db?check_same_thread=false\n"
     ]
    },
    {
     "data": {
      "text/html": [
       "<table>\n",
       "    <thead>\n",
       "        <tr>\n",
       "            <th>id</th>\n",
       "            <th>title</th>\n",
       "            <th>accession_number</th>\n",
       "            <th>acquired</th>\n",
       "        </tr>\n",
       "    </thead>\n",
       "    <tbody>\n",
       "        <tr>\n",
       "            <td>1</td>\n",
       "            <td>Farmers working at dawn</td>\n",
       "            <td>11.6152</td>\n",
       "            <td>1911-08-03</td>\n",
       "        </tr>\n",
       "        <tr>\n",
       "            <td>2</td>\n",
       "            <td>Imaginative landscape</td>\n",
       "            <td>56.496</td>\n",
       "            <td>None</td>\n",
       "        </tr>\n",
       "        <tr>\n",
       "            <td>4</td>\n",
       "            <td>Spring outing</td>\n",
       "            <td>14.76</td>\n",
       "            <td>1914-01-08</td>\n",
       "        </tr>\n",
       "    </tbody>\n",
       "</table>"
      ],
      "text/plain": [
       "[(1, 'Farmers working at dawn', '11.6152', '1911-08-03'),\n",
       " (2, 'Imaginative landscape', '56.496', None),\n",
       " (4, 'Spring outing', '14.76', '1914-01-08')]"
      ]
     },
     "execution_count": 50,
     "metadata": {},
     "output_type": "execute_result"
    }
   ],
   "source": [
    "%sql SELECT * FROM \"collections\";"
   ]
  },
  {
   "cell_type": "code",
   "execution_count": 51,
   "id": "db212deb",
   "metadata": {},
   "outputs": [
    {
     "name": "stdout",
     "output_type": "stream",
     "text": [
      "   sqlite:///./mfa0.db?check_same_thread=false\n",
      "   sqlite:///mfa.db?check_same_thread=false\n",
      "   sqlite:///mfa1.db?check_same_thread=false\n",
      " * sqlite:///mfa2.db?check_same_thread=false\n",
      "   sqlite:///votes.db?check_same_thread=false\n"
     ]
    },
    {
     "data": {
      "text/html": [
       "<table>\n",
       "    <thead>\n",
       "        <tr>\n",
       "            <th>id</th>\n",
       "            <th>title</th>\n",
       "            <th>action</th>\n",
       "        </tr>\n",
       "    </thead>\n",
       "    <tbody>\n",
       "        <tr>\n",
       "            <td>1</td>\n",
       "            <td>Profusion of flowers</td>\n",
       "            <td>sold</td>\n",
       "        </tr>\n",
       "    </tbody>\n",
       "</table>"
      ],
      "text/plain": [
       "[(1, 'Profusion of flowers', 'sold')]"
      ]
     },
     "execution_count": 51,
     "metadata": {},
     "output_type": "execute_result"
    }
   ],
   "source": [
    "%sql SELECT * FROM \"transactions\";"
   ]
  },
  {
   "cell_type": "code",
   "execution_count": 52,
   "id": "82a1b5b3",
   "metadata": {},
   "outputs": [
    {
     "name": "stdout",
     "output_type": "stream",
     "text": [
      "   sqlite:///./mfa0.db?check_same_thread=false\n",
      "   sqlite:///mfa.db?check_same_thread=false\n",
      "   sqlite:///mfa1.db?check_same_thread=false\n",
      " * sqlite:///mfa2.db?check_same_thread=false\n",
      "   sqlite:///votes.db?check_same_thread=false\n"
     ]
    },
    {
     "data": {
      "text/plain": [
       "[]"
      ]
     },
     "execution_count": 52,
     "metadata": {},
     "output_type": "execute_result"
    }
   ],
   "source": [
    "%%sql\n",
    "CREATE TRIGGER \"buy\"\n",
    "AFTER INSERT ON \"collections\"\n",
    "FOR EACH ROW\n",
    "BEGIN\n",
    "    INSERT INTO \"transactions\" (\"title\", \"action\")\n",
    "    VALUES (NEW.\"title\", 'bought');\n",
    "END;"
   ]
  },
  {
   "cell_type": "code",
   "execution_count": 53,
   "id": "7e775183",
   "metadata": {},
   "outputs": [
    {
     "name": "stdout",
     "output_type": "stream",
     "text": [
      "   sqlite:///./mfa0.db?check_same_thread=false\n",
      "   sqlite:///mfa.db?check_same_thread=false\n",
      "   sqlite:///mfa1.db?check_same_thread=false\n",
      " * sqlite:///mfa2.db?check_same_thread=false\n",
      "   sqlite:///votes.db?check_same_thread=false\n"
     ]
    },
    {
     "data": {
      "text/plain": [
       "[]"
      ]
     },
     "execution_count": 53,
     "metadata": {},
     "output_type": "execute_result"
    }
   ],
   "source": [
    "%%sql\n",
    "INSERT INTO \"collections\" (\"title\", \"accession_number\", \"acquired\")\n",
    "VALUES ('Profusion of flowers','56.247', '1956-04-12');"
   ]
  },
  {
   "cell_type": "code",
   "execution_count": 54,
   "id": "5bef8731",
   "metadata": {},
   "outputs": [
    {
     "name": "stdout",
     "output_type": "stream",
     "text": [
      "   sqlite:///./mfa0.db?check_same_thread=false\n",
      "   sqlite:///mfa.db?check_same_thread=false\n",
      "   sqlite:///mfa1.db?check_same_thread=false\n",
      " * sqlite:///mfa2.db?check_same_thread=false\n",
      "   sqlite:///votes.db?check_same_thread=false\n"
     ]
    },
    {
     "data": {
      "text/html": [
       "<table>\n",
       "    <thead>\n",
       "        <tr>\n",
       "            <th>id</th>\n",
       "            <th>title</th>\n",
       "            <th>accession_number</th>\n",
       "            <th>acquired</th>\n",
       "        </tr>\n",
       "    </thead>\n",
       "    <tbody>\n",
       "        <tr>\n",
       "            <td>1</td>\n",
       "            <td>Farmers working at dawn</td>\n",
       "            <td>11.6152</td>\n",
       "            <td>1911-08-03</td>\n",
       "        </tr>\n",
       "        <tr>\n",
       "            <td>2</td>\n",
       "            <td>Imaginative landscape</td>\n",
       "            <td>56.496</td>\n",
       "            <td>None</td>\n",
       "        </tr>\n",
       "        <tr>\n",
       "            <td>4</td>\n",
       "            <td>Spring outing</td>\n",
       "            <td>14.76</td>\n",
       "            <td>1914-01-08</td>\n",
       "        </tr>\n",
       "        <tr>\n",
       "            <td>5</td>\n",
       "            <td>Profusion of flowers</td>\n",
       "            <td>56.247</td>\n",
       "            <td>1956-04-12</td>\n",
       "        </tr>\n",
       "    </tbody>\n",
       "</table>"
      ],
      "text/plain": [
       "[(1, 'Farmers working at dawn', '11.6152', '1911-08-03'),\n",
       " (2, 'Imaginative landscape', '56.496', None),\n",
       " (4, 'Spring outing', '14.76', '1914-01-08'),\n",
       " (5, 'Profusion of flowers', '56.247', '1956-04-12')]"
      ]
     },
     "execution_count": 54,
     "metadata": {},
     "output_type": "execute_result"
    }
   ],
   "source": [
    "%sql SELECT * FROM \"collections\";"
   ]
  },
  {
   "cell_type": "code",
   "execution_count": 55,
   "id": "1cb2d8d1",
   "metadata": {},
   "outputs": [
    {
     "name": "stdout",
     "output_type": "stream",
     "text": [
      "   sqlite:///./mfa0.db?check_same_thread=false\n",
      "   sqlite:///mfa.db?check_same_thread=false\n",
      "   sqlite:///mfa1.db?check_same_thread=false\n",
      " * sqlite:///mfa2.db?check_same_thread=false\n",
      "   sqlite:///votes.db?check_same_thread=false\n"
     ]
    },
    {
     "data": {
      "text/html": [
       "<table>\n",
       "    <thead>\n",
       "        <tr>\n",
       "            <th>id</th>\n",
       "            <th>title</th>\n",
       "            <th>action</th>\n",
       "        </tr>\n",
       "    </thead>\n",
       "    <tbody>\n",
       "        <tr>\n",
       "            <td>1</td>\n",
       "            <td>Profusion of flowers</td>\n",
       "            <td>sold</td>\n",
       "        </tr>\n",
       "        <tr>\n",
       "            <td>2</td>\n",
       "            <td>Profusion of flowers</td>\n",
       "            <td>bought</td>\n",
       "        </tr>\n",
       "    </tbody>\n",
       "</table>"
      ],
      "text/plain": [
       "[(1, 'Profusion of flowers', 'sold'), (2, 'Profusion of flowers', 'bought')]"
      ]
     },
     "execution_count": 55,
     "metadata": {},
     "output_type": "execute_result"
    }
   ],
   "source": [
    "%sql SELECT * FROM \"transactions\";"
   ]
  },
  {
   "cell_type": "code",
   "execution_count": 56,
   "id": "fb107269",
   "metadata": {},
   "outputs": [
    {
     "name": "stdout",
     "output_type": "stream",
     "text": [
      "   sqlite:///./mfa0.db?check_same_thread=false\n",
      "   sqlite:///mfa.db?check_same_thread=false\n",
      "   sqlite:///mfa1.db?check_same_thread=false\n",
      " * sqlite:///mfa2.db?check_same_thread=false\n",
      "   sqlite:///votes.db?check_same_thread=false\n"
     ]
    },
    {
     "data": {
      "text/plain": [
       "[]"
      ]
     },
     "execution_count": 56,
     "metadata": {},
     "output_type": "execute_result"
    }
   ],
   "source": [
    "%%sql\n",
    "ALTER TABLE \"collections\"\n",
    "ADD COLUMN \"deleted\" INTEGER DEFAULT 0;"
   ]
  },
  {
   "cell_type": "code",
   "execution_count": 57,
   "id": "987a9c89",
   "metadata": {},
   "outputs": [
    {
     "name": "stdout",
     "output_type": "stream",
     "text": [
      "   sqlite:///./mfa0.db?check_same_thread=false\n",
      "   sqlite:///mfa.db?check_same_thread=false\n",
      "   sqlite:///mfa1.db?check_same_thread=false\n",
      " * sqlite:///mfa2.db?check_same_thread=false\n",
      "   sqlite:///votes.db?check_same_thread=false\n"
     ]
    },
    {
     "data": {
      "text/html": [
       "<table>\n",
       "    <thead>\n",
       "        <tr>\n",
       "            <th>id</th>\n",
       "            <th>title</th>\n",
       "            <th>accession_number</th>\n",
       "            <th>acquired</th>\n",
       "            <th>deleted</th>\n",
       "        </tr>\n",
       "    </thead>\n",
       "    <tbody>\n",
       "        <tr>\n",
       "            <td>1</td>\n",
       "            <td>Farmers working at dawn</td>\n",
       "            <td>11.6152</td>\n",
       "            <td>1911-08-03</td>\n",
       "            <td>0</td>\n",
       "        </tr>\n",
       "        <tr>\n",
       "            <td>2</td>\n",
       "            <td>Imaginative landscape</td>\n",
       "            <td>56.496</td>\n",
       "            <td>None</td>\n",
       "            <td>0</td>\n",
       "        </tr>\n",
       "        <tr>\n",
       "            <td>4</td>\n",
       "            <td>Spring outing</td>\n",
       "            <td>14.76</td>\n",
       "            <td>1914-01-08</td>\n",
       "            <td>0</td>\n",
       "        </tr>\n",
       "        <tr>\n",
       "            <td>5</td>\n",
       "            <td>Profusion of flowers</td>\n",
       "            <td>56.247</td>\n",
       "            <td>1956-04-12</td>\n",
       "            <td>0</td>\n",
       "        </tr>\n",
       "    </tbody>\n",
       "</table>"
      ],
      "text/plain": [
       "[(1, 'Farmers working at dawn', '11.6152', '1911-08-03', 0),\n",
       " (2, 'Imaginative landscape', '56.496', None, 0),\n",
       " (4, 'Spring outing', '14.76', '1914-01-08', 0),\n",
       " (5, 'Profusion of flowers', '56.247', '1956-04-12', 0)]"
      ]
     },
     "execution_count": 57,
     "metadata": {},
     "output_type": "execute_result"
    }
   ],
   "source": [
    "%sql SELECT * FROM \"collections\";"
   ]
  },
  {
   "cell_type": "code",
   "execution_count": 58,
   "id": "88b49cd4",
   "metadata": {},
   "outputs": [
    {
     "name": "stdout",
     "output_type": "stream",
     "text": [
      "   sqlite:///./mfa0.db?check_same_thread=false\n",
      "   sqlite:///mfa.db?check_same_thread=false\n",
      "   sqlite:///mfa1.db?check_same_thread=false\n",
      " * sqlite:///mfa2.db?check_same_thread=false\n",
      "   sqlite:///votes.db?check_same_thread=false\n"
     ]
    },
    {
     "data": {
      "text/plain": [
       "[]"
      ]
     },
     "execution_count": 58,
     "metadata": {},
     "output_type": "execute_result"
    }
   ],
   "source": [
    "%%sql\n",
    "UPDATE \"collections\"\n",
    "SET \"deleted\" = 1\n",
    "WHERE \"title\" = 'Farmers working at dawn'; "
   ]
  },
  {
   "cell_type": "code",
   "execution_count": 59,
   "id": "afe3ea37",
   "metadata": {},
   "outputs": [
    {
     "name": "stdout",
     "output_type": "stream",
     "text": [
      "   sqlite:///./mfa0.db?check_same_thread=false\n",
      "   sqlite:///mfa.db?check_same_thread=false\n",
      "   sqlite:///mfa1.db?check_same_thread=false\n",
      " * sqlite:///mfa2.db?check_same_thread=false\n",
      "   sqlite:///votes.db?check_same_thread=false\n"
     ]
    },
    {
     "data": {
      "text/html": [
       "<table>\n",
       "    <thead>\n",
       "        <tr>\n",
       "            <th>id</th>\n",
       "            <th>title</th>\n",
       "            <th>accession_number</th>\n",
       "            <th>acquired</th>\n",
       "            <th>deleted</th>\n",
       "        </tr>\n",
       "    </thead>\n",
       "    <tbody>\n",
       "        <tr>\n",
       "            <td>1</td>\n",
       "            <td>Farmers working at dawn</td>\n",
       "            <td>11.6152</td>\n",
       "            <td>1911-08-03</td>\n",
       "            <td>1</td>\n",
       "        </tr>\n",
       "        <tr>\n",
       "            <td>2</td>\n",
       "            <td>Imaginative landscape</td>\n",
       "            <td>56.496</td>\n",
       "            <td>None</td>\n",
       "            <td>0</td>\n",
       "        </tr>\n",
       "        <tr>\n",
       "            <td>4</td>\n",
       "            <td>Spring outing</td>\n",
       "            <td>14.76</td>\n",
       "            <td>1914-01-08</td>\n",
       "            <td>0</td>\n",
       "        </tr>\n",
       "        <tr>\n",
       "            <td>5</td>\n",
       "            <td>Profusion of flowers</td>\n",
       "            <td>56.247</td>\n",
       "            <td>1956-04-12</td>\n",
       "            <td>0</td>\n",
       "        </tr>\n",
       "    </tbody>\n",
       "</table>"
      ],
      "text/plain": [
       "[(1, 'Farmers working at dawn', '11.6152', '1911-08-03', 1),\n",
       " (2, 'Imaginative landscape', '56.496', None, 0),\n",
       " (4, 'Spring outing', '14.76', '1914-01-08', 0),\n",
       " (5, 'Profusion of flowers', '56.247', '1956-04-12', 0)]"
      ]
     },
     "execution_count": 59,
     "metadata": {},
     "output_type": "execute_result"
    }
   ],
   "source": [
    "%sql SELECT * FROM \"collections\";"
   ]
  },
  {
   "cell_type": "code",
   "execution_count": 60,
   "id": "92afe674",
   "metadata": {},
   "outputs": [
    {
     "name": "stdout",
     "output_type": "stream",
     "text": [
      "   sqlite:///./mfa0.db?check_same_thread=false\n",
      "   sqlite:///mfa.db?check_same_thread=false\n",
      "   sqlite:///mfa1.db?check_same_thread=false\n",
      " * sqlite:///mfa2.db?check_same_thread=false\n",
      "   sqlite:///votes.db?check_same_thread=false\n"
     ]
    },
    {
     "data": {
      "text/html": [
       "<table>\n",
       "    <thead>\n",
       "        <tr>\n",
       "            <th>id</th>\n",
       "            <th>title</th>\n",
       "            <th>accession_number</th>\n",
       "            <th>acquired</th>\n",
       "            <th>deleted</th>\n",
       "        </tr>\n",
       "    </thead>\n",
       "    <tbody>\n",
       "        <tr>\n",
       "            <td>2</td>\n",
       "            <td>Imaginative landscape</td>\n",
       "            <td>56.496</td>\n",
       "            <td>None</td>\n",
       "            <td>0</td>\n",
       "        </tr>\n",
       "        <tr>\n",
       "            <td>4</td>\n",
       "            <td>Spring outing</td>\n",
       "            <td>14.76</td>\n",
       "            <td>1914-01-08</td>\n",
       "            <td>0</td>\n",
       "        </tr>\n",
       "        <tr>\n",
       "            <td>5</td>\n",
       "            <td>Profusion of flowers</td>\n",
       "            <td>56.247</td>\n",
       "            <td>1956-04-12</td>\n",
       "            <td>0</td>\n",
       "        </tr>\n",
       "    </tbody>\n",
       "</table>"
      ],
      "text/plain": [
       "[(2, 'Imaginative landscape', '56.496', None, 0),\n",
       " (4, 'Spring outing', '14.76', '1914-01-08', 0),\n",
       " (5, 'Profusion of flowers', '56.247', '1956-04-12', 0)]"
      ]
     },
     "execution_count": 60,
     "metadata": {},
     "output_type": "execute_result"
    }
   ],
   "source": [
    "%sql SELECT * FROM \"collections\" WHERE \"deleted\" != 1;"
   ]
  }
 ],
 "metadata": {
  "kernelspec": {
   "display_name": ".venv",
   "language": "python",
   "name": "python3"
  },
  "language_info": {
   "codemirror_mode": {
    "name": "ipython",
    "version": 3
   },
   "file_extension": ".py",
   "mimetype": "text/x-python",
   "name": "python",
   "nbconvert_exporter": "python",
   "pygments_lexer": "ipython3",
   "version": "3.13.3"
  }
 },
 "nbformat": 4,
 "nbformat_minor": 5
}
