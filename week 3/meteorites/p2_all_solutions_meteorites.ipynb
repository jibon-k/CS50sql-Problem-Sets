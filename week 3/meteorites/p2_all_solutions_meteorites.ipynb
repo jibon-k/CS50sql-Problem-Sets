{
 "cells": [
  {
   "cell_type": "code",
   "execution_count": 1,
   "id": "f498be27",
   "metadata": {},
   "outputs": [],
   "source": [
    "import sqlite3"
   ]
  },
  {
   "cell_type": "code",
   "execution_count": 2,
   "id": "9f00ee06",
   "metadata": {},
   "outputs": [],
   "source": [
    "db = \"./meteorites.db\""
   ]
  },
  {
   "cell_type": "code",
   "execution_count": 3,
   "id": "73de311e",
   "metadata": {},
   "outputs": [
    {
     "name": "stdout",
     "output_type": "stream",
     "text": [
      " * sqlite:///./meteorites.db?check_same_thread=false\n"
     ]
    },
    {
     "data": {
      "text/html": [
       "<table>\n",
       "    <thead>\n",
       "        <tr>\n",
       "            <th>name</th>\n",
       "        </tr>\n",
       "    </thead>\n",
       "    <tbody>\n",
       "        <tr>\n",
       "            <td>meteorites</td>\n",
       "        </tr>\n",
       "        <tr>\n",
       "            <td>temp</td>\n",
       "        </tr>\n",
       "    </tbody>\n",
       "</table>"
      ],
      "text/plain": [
       "[('meteorites',), ('temp',)]"
      ]
     },
     "execution_count": 3,
     "metadata": {},
     "output_type": "execute_result"
    }
   ],
   "source": [
    "%load_ext sql\n",
    "%config SqlMagic.feedback=False\n",
    "%sql sqlite:///{db}?check_same_thread=false\n",
    "%sql SELECT name FROM sqlite_master WHERE type='table';"
   ]
  },
  {
   "cell_type": "code",
   "execution_count": 4,
   "id": "82d178a7",
   "metadata": {},
   "outputs": [
    {
     "name": "stdout",
     "output_type": "stream",
     "text": [
      " * sqlite:///./meteorites.db?check_same_thread=false\n"
     ]
    },
    {
     "data": {
      "text/html": [
       "<table>\n",
       "    <thead>\n",
       "        <tr>\n",
       "            <th>sql</th>\n",
       "        </tr>\n",
       "    </thead>\n",
       "    <tbody>\n",
       "        <tr>\n",
       "            <td>CREATE TABLE &quot;meteorites&quot; (<br>    &quot;id&quot; INTEGER,<br>    &quot;name&quot; TEXT NOT NULL,<br>    &quot;class&quot; TEXT NOT NULL,<br>    &quot;mass&quot; NUMERIC,<br>    &quot;discovery&quot; TEXT NOT NULL,<br>    &quot;year&quot; INTEGER,<br>    &quot;lat&quot; NUMERIC,<br>    &quot;long&quot; NUMERIC,<br>    PRIMARY KEY(&quot;id&quot;)<br>)</td>\n",
       "        </tr>\n",
       "        <tr>\n",
       "            <td>CREATE TABLE &quot;temp&quot; (<br>    &quot;name&quot; TEXT NOT NULL,<br>    &quot;id&quot; INTEGER,<br>    &quot;nametype&quot; TEXT NOT NULL,<br>    &quot;class&quot; TEXT NOT NULL,<br>    &quot;mass&quot; NUMERIC,<br>    &quot;discovery&quot; TEXT NOT NULL,<br>    &quot;year&quot; INTEGER,<br>    &quot;lat&quot; NUMERIC,<br>    &quot;long&quot; NUMERIC<br>)</td>\n",
       "        </tr>\n",
       "    </tbody>\n",
       "</table>"
      ],
      "text/plain": [
       "[('CREATE TABLE \"meteorites\" (\\n    \"id\" INTEGER,\\n    \"name\" TEXT NOT NULL,\\n    \"class\" TEXT NOT NULL,\\n    \"mass\" NUMERIC,\\n    \"discovery\" TEXT NOT NULL,\\n    \"year\" INTEGER,\\n    \"lat\" NUMERIC,\\n    \"long\" NUMERIC,\\n    PRIMARY KEY(\"id\")\\n)',),\n",
       " ('CREATE TABLE \"temp\" (\\n    \"name\" TEXT NOT NULL,\\n    \"id\" INTEGER,\\n    \"nametype\" TEXT NOT NULL,\\n    \"class\" TEXT NOT NULL,\\n    \"mass\" NUMERIC,\\n    \"discovery\" TEXT NOT NULL,\\n    \"year\" INTEGER,\\n    \"lat\" NUMERIC,\\n    \"long\" NUMERIC\\n)',)]"
      ]
     },
     "execution_count": 4,
     "metadata": {},
     "output_type": "execute_result"
    }
   ],
   "source": [
    "%sql SELECT sql FROM sqlite_master WHERE type='table';"
   ]
  },
  {
   "cell_type": "code",
   "execution_count": 5,
   "id": "61e9a0ec",
   "metadata": {},
   "outputs": [
    {
     "name": "stdout",
     "output_type": "stream",
     "text": [
      " * sqlite:///./meteorites.db?check_same_thread=false\n"
     ]
    },
    {
     "data": {
      "text/html": [
       "<table>\n",
       "    <thead>\n",
       "        <tr>\n",
       "            <th>name</th>\n",
       "            <th>id</th>\n",
       "            <th>nametype</th>\n",
       "            <th>class</th>\n",
       "            <th>mass</th>\n",
       "            <th>discovery</th>\n",
       "            <th>year</th>\n",
       "            <th>lat</th>\n",
       "            <th>long</th>\n",
       "        </tr>\n",
       "    </thead>\n",
       "    <tbody>\n",
       "        <tr>\n",
       "            <td>Aachen</td>\n",
       "            <td>1</td>\n",
       "            <td>Valid</td>\n",
       "            <td>L5</td>\n",
       "            <td>21</td>\n",
       "            <td>Fell</td>\n",
       "            <td>1880</td>\n",
       "            <td>50.775</td>\n",
       "            <td>6.08333</td>\n",
       "        </tr>\n",
       "        <tr>\n",
       "            <td>Aarhus</td>\n",
       "            <td>2</td>\n",
       "            <td>Valid</td>\n",
       "            <td>H6</td>\n",
       "            <td>720</td>\n",
       "            <td>Fell</td>\n",
       "            <td>1951</td>\n",
       "            <td>56.18333</td>\n",
       "            <td>10.23333</td>\n",
       "        </tr>\n",
       "        <tr>\n",
       "            <td>Abee</td>\n",
       "            <td>6</td>\n",
       "            <td>Valid</td>\n",
       "            <td>EH4</td>\n",
       "            <td>107000</td>\n",
       "            <td>Fell</td>\n",
       "            <td>1952</td>\n",
       "            <td>54.21667</td>\n",
       "            <td>-113</td>\n",
       "        </tr>\n",
       "        <tr>\n",
       "            <td>Acapulco</td>\n",
       "            <td>10</td>\n",
       "            <td>Valid</td>\n",
       "            <td>Acapulcoite</td>\n",
       "            <td>1914</td>\n",
       "            <td>Fell</td>\n",
       "            <td>1976</td>\n",
       "            <td>16.88333</td>\n",
       "            <td>-99.9</td>\n",
       "        </tr>\n",
       "        <tr>\n",
       "            <td>Achiras</td>\n",
       "            <td>370</td>\n",
       "            <td>Valid</td>\n",
       "            <td>L6</td>\n",
       "            <td>780</td>\n",
       "            <td>Fell</td>\n",
       "            <td>1902</td>\n",
       "            <td>-33.16667</td>\n",
       "            <td>-64.95</td>\n",
       "        </tr>\n",
       "    </tbody>\n",
       "</table>"
      ],
      "text/plain": [
       "[('Aachen', 1, 'Valid', 'L5', 21, 'Fell', 1880, 50.775, 6.08333),\n",
       " ('Aarhus', 2, 'Valid', 'H6', 720, 'Fell', 1951, 56.18333, 10.23333),\n",
       " ('Abee', 6, 'Valid', 'EH4', 107000, 'Fell', 1952, 54.21667, -113),\n",
       " ('Acapulco', 10, 'Valid', 'Acapulcoite', 1914, 'Fell', 1976, 16.88333, -99.9),\n",
       " ('Achiras', 370, 'Valid', 'L6', 780, 'Fell', 1902, -33.16667, -64.95)]"
      ]
     },
     "execution_count": 5,
     "metadata": {},
     "output_type": "execute_result"
    }
   ],
   "source": [
    "%sql SELECT * FROM \"temp\" LIMIT 5;"
   ]
  },
  {
   "cell_type": "code",
   "execution_count": 6,
   "id": "bf23c94b",
   "metadata": {},
   "outputs": [
    {
     "name": "stdout",
     "output_type": "stream",
     "text": [
      " * sqlite:///./meteorites.db?check_same_thread=false\n"
     ]
    },
    {
     "data": {
      "text/html": [
       "<table>\n",
       "    <thead>\n",
       "        <tr>\n",
       "            <th>nametype</th>\n",
       "            <th>COUNT(&quot;nametype&quot;)</th>\n",
       "        </tr>\n",
       "    </thead>\n",
       "    <tbody>\n",
       "        <tr>\n",
       "            <td>Relict</td>\n",
       "            <td>75</td>\n",
       "        </tr>\n",
       "        <tr>\n",
       "            <td>Valid</td>\n",
       "            <td>45641</td>\n",
       "        </tr>\n",
       "    </tbody>\n",
       "</table>"
      ],
      "text/plain": [
       "[('Relict', 75), ('Valid', 45641)]"
      ]
     },
     "execution_count": 6,
     "metadata": {},
     "output_type": "execute_result"
    }
   ],
   "source": [
    "%%sql\n",
    "SELECT \"nametype\", COUNT(\"nametype\")\n",
    "FROM \"temp\"\n",
    "GROUP BY \"nametype\";"
   ]
  },
  {
   "cell_type": "code",
   "execution_count": 7,
   "id": "5e795491",
   "metadata": {},
   "outputs": [
    {
     "name": "stdout",
     "output_type": "stream",
     "text": [
      " * sqlite:///./meteorites.db?check_same_thread=false\n"
     ]
    },
    {
     "data": {
      "text/plain": [
       "[]"
      ]
     },
     "execution_count": 7,
     "metadata": {},
     "output_type": "execute_result"
    }
   ],
   "source": [
    "%%sql\n",
    "DELETE FROM \"temp\"\n",
    "WHERE \"nametype\" = 'Relict';"
   ]
  },
  {
   "cell_type": "code",
   "execution_count": 8,
   "id": "8b26afe6",
   "metadata": {},
   "outputs": [
    {
     "name": "stdout",
     "output_type": "stream",
     "text": [
      " * sqlite:///./meteorites.db?check_same_thread=false\n"
     ]
    },
    {
     "data": {
      "text/html": [
       "<table>\n",
       "    <thead>\n",
       "        <tr>\n",
       "            <th>nametype</th>\n",
       "            <th>COUNT(&quot;nametype&quot;)</th>\n",
       "        </tr>\n",
       "    </thead>\n",
       "    <tbody>\n",
       "        <tr>\n",
       "            <td>Valid</td>\n",
       "            <td>45641</td>\n",
       "        </tr>\n",
       "    </tbody>\n",
       "</table>"
      ],
      "text/plain": [
       "[('Valid', 45641)]"
      ]
     },
     "execution_count": 8,
     "metadata": {},
     "output_type": "execute_result"
    }
   ],
   "source": [
    "%%sql\n",
    "SELECT \"nametype\", COUNT(\"nametype\")\n",
    "FROM \"temp\"\n",
    "GROUP BY \"nametype\";"
   ]
  },
  {
   "cell_type": "code",
   "execution_count": 9,
   "id": "e52fb3cb",
   "metadata": {},
   "outputs": [
    {
     "name": "stdout",
     "output_type": "stream",
     "text": [
      " * sqlite:///./meteorites.db?check_same_thread=false\n"
     ]
    },
    {
     "data": {
      "text/html": [
       "<table>\n",
       "    <thead>\n",
       "        <tr>\n",
       "            <th>COUNT(&quot;id&quot;)</th>\n",
       "        </tr>\n",
       "    </thead>\n",
       "    <tbody>\n",
       "        <tr>\n",
       "            <td>7547</td>\n",
       "        </tr>\n",
       "    </tbody>\n",
       "</table>"
      ],
      "text/plain": [
       "[(7547,)]"
      ]
     },
     "execution_count": 9,
     "metadata": {},
     "output_type": "execute_result"
    }
   ],
   "source": [
    "%%sql\n",
    "SELECT COUNT(\"id\")\n",
    "FROM \"temp\"\n",
    "WHERE \"mass\"=''\n",
    "    OR \"year\" = ''\n",
    "    OR \"lat\" = ''\n",
    "    OR \"long\" = '';"
   ]
  },
  {
   "cell_type": "code",
   "execution_count": 10,
   "id": "6a3a5da3",
   "metadata": {},
   "outputs": [
    {
     "name": "stdout",
     "output_type": "stream",
     "text": [
      " * sqlite:///./meteorites.db?check_same_thread=false\n"
     ]
    },
    {
     "data": {
      "text/plain": [
       "[]"
      ]
     },
     "execution_count": 10,
     "metadata": {},
     "output_type": "execute_result"
    }
   ],
   "source": [
    "%%sql\n",
    "UPDATE \"temp\"\n",
    "SET\n",
    "    \"mass\" = NULLIF(TRIM(\"mass\"), ''),\n",
    "    \"year\" = NULLIF(TRIM(\"year\"), ''),\n",
    "    \"lat\"  = NULLIF(TRIM(\"lat\"), ''),\n",
    "    \"long\" = NULLIF(TRIM(\"long\"), '');"
   ]
  },
  {
   "cell_type": "code",
   "execution_count": 11,
   "id": "8d157bed",
   "metadata": {},
   "outputs": [
    {
     "name": "stdout",
     "output_type": "stream",
     "text": [
      " * sqlite:///./meteorites.db?check_same_thread=false\n"
     ]
    },
    {
     "data": {
      "text/html": [
       "<table>\n",
       "    <thead>\n",
       "        <tr>\n",
       "            <th>COUNT(&quot;id&quot;)</th>\n",
       "        </tr>\n",
       "    </thead>\n",
       "    <tbody>\n",
       "        <tr>\n",
       "            <td>7547</td>\n",
       "        </tr>\n",
       "    </tbody>\n",
       "</table>"
      ],
      "text/plain": [
       "[(7547,)]"
      ]
     },
     "execution_count": 11,
     "metadata": {},
     "output_type": "execute_result"
    }
   ],
   "source": [
    "%%sql\n",
    "SELECT COUNT(\"id\")\n",
    "FROM temp\n",
    "WHERE mass IS NULL\n",
    "   OR year IS NULL\n",
    "   OR lat IS NULL\n",
    "   OR long IS NULL;"
   ]
  },
  {
   "cell_type": "code",
   "execution_count": 12,
   "id": "7992da68",
   "metadata": {},
   "outputs": [
    {
     "name": "stdout",
     "output_type": "stream",
     "text": [
      " * sqlite:///./meteorites.db?check_same_thread=false\n"
     ]
    },
    {
     "data": {
      "text/plain": [
       "[]"
      ]
     },
     "execution_count": 12,
     "metadata": {},
     "output_type": "execute_result"
    }
   ],
   "source": [
    "%%sql\n",
    "UPDATE \"temp\"\n",
    "SET\n",
    "    \"mass\" = ROUND(\"mass\", 2),\n",
    "    \"lat\"  = ROUND(\"lat\", 2),\n",
    "    \"long\" = ROUND(\"long\", 2);"
   ]
  },
  {
   "cell_type": "code",
   "execution_count": 13,
   "id": "7b88bf91",
   "metadata": {},
   "outputs": [
    {
     "name": "stdout",
     "output_type": "stream",
     "text": [
      " * sqlite:///./meteorites.db?check_same_thread=false\n"
     ]
    },
    {
     "data": {
      "text/html": [
       "<table>\n",
       "    <thead>\n",
       "        <tr>\n",
       "            <th>name</th>\n",
       "            <th>id</th>\n",
       "            <th>nametype</th>\n",
       "            <th>class</th>\n",
       "            <th>mass</th>\n",
       "            <th>discovery</th>\n",
       "            <th>year</th>\n",
       "            <th>lat</th>\n",
       "            <th>long</th>\n",
       "        </tr>\n",
       "    </thead>\n",
       "    <tbody>\n",
       "        <tr>\n",
       "            <td>Aachen</td>\n",
       "            <td>1</td>\n",
       "            <td>Valid</td>\n",
       "            <td>L5</td>\n",
       "            <td>21</td>\n",
       "            <td>Fell</td>\n",
       "            <td>1880</td>\n",
       "            <td>50.77</td>\n",
       "            <td>6.08</td>\n",
       "        </tr>\n",
       "        <tr>\n",
       "            <td>Aarhus</td>\n",
       "            <td>2</td>\n",
       "            <td>Valid</td>\n",
       "            <td>H6</td>\n",
       "            <td>720</td>\n",
       "            <td>Fell</td>\n",
       "            <td>1951</td>\n",
       "            <td>56.18</td>\n",
       "            <td>10.23</td>\n",
       "        </tr>\n",
       "        <tr>\n",
       "            <td>Abee</td>\n",
       "            <td>6</td>\n",
       "            <td>Valid</td>\n",
       "            <td>EH4</td>\n",
       "            <td>107000</td>\n",
       "            <td>Fell</td>\n",
       "            <td>1952</td>\n",
       "            <td>54.22</td>\n",
       "            <td>-113</td>\n",
       "        </tr>\n",
       "        <tr>\n",
       "            <td>Acapulco</td>\n",
       "            <td>10</td>\n",
       "            <td>Valid</td>\n",
       "            <td>Acapulcoite</td>\n",
       "            <td>1914</td>\n",
       "            <td>Fell</td>\n",
       "            <td>1976</td>\n",
       "            <td>16.88</td>\n",
       "            <td>-99.9</td>\n",
       "        </tr>\n",
       "        <tr>\n",
       "            <td>Achiras</td>\n",
       "            <td>370</td>\n",
       "            <td>Valid</td>\n",
       "            <td>L6</td>\n",
       "            <td>780</td>\n",
       "            <td>Fell</td>\n",
       "            <td>1902</td>\n",
       "            <td>-33.17</td>\n",
       "            <td>-64.95</td>\n",
       "        </tr>\n",
       "        <tr>\n",
       "            <td>Adhi Kot</td>\n",
       "            <td>379</td>\n",
       "            <td>Valid</td>\n",
       "            <td>EH4</td>\n",
       "            <td>4239</td>\n",
       "            <td>Fell</td>\n",
       "            <td>1919</td>\n",
       "            <td>32.1</td>\n",
       "            <td>71.8</td>\n",
       "        </tr>\n",
       "        <tr>\n",
       "            <td>Adzhi-Bogdo (stone)</td>\n",
       "            <td>390</td>\n",
       "            <td>Valid</td>\n",
       "            <td>LL3-6</td>\n",
       "            <td>910</td>\n",
       "            <td>Fell</td>\n",
       "            <td>1949</td>\n",
       "            <td>44.83</td>\n",
       "            <td>95.17</td>\n",
       "        </tr>\n",
       "        <tr>\n",
       "            <td>Agen</td>\n",
       "            <td>392</td>\n",
       "            <td>Valid</td>\n",
       "            <td>H5</td>\n",
       "            <td>30000</td>\n",
       "            <td>Fell</td>\n",
       "            <td>1814</td>\n",
       "            <td>44.22</td>\n",
       "            <td>0.62</td>\n",
       "        </tr>\n",
       "        <tr>\n",
       "            <td>Aguada</td>\n",
       "            <td>398</td>\n",
       "            <td>Valid</td>\n",
       "            <td>L6</td>\n",
       "            <td>1620</td>\n",
       "            <td>Fell</td>\n",
       "            <td>1930</td>\n",
       "            <td>-31.6</td>\n",
       "            <td>-65.23</td>\n",
       "        </tr>\n",
       "        <tr>\n",
       "            <td>Aguila Blanca</td>\n",
       "            <td>417</td>\n",
       "            <td>Valid</td>\n",
       "            <td>L</td>\n",
       "            <td>1440</td>\n",
       "            <td>Fell</td>\n",
       "            <td>1920</td>\n",
       "            <td>-30.87</td>\n",
       "            <td>-64.55</td>\n",
       "        </tr>\n",
       "        <tr>\n",
       "            <td>Aioun el Atrouss</td>\n",
       "            <td>423</td>\n",
       "            <td>Valid</td>\n",
       "            <td>Diogenite-pm</td>\n",
       "            <td>1000</td>\n",
       "            <td>Fell</td>\n",
       "            <td>1974</td>\n",
       "            <td>16.4</td>\n",
       "            <td>-9.57</td>\n",
       "        </tr>\n",
       "        <tr>\n",
       "            <td>Aïr</td>\n",
       "            <td>424</td>\n",
       "            <td>Valid</td>\n",
       "            <td>L6</td>\n",
       "            <td>24000</td>\n",
       "            <td>Fell</td>\n",
       "            <td>1925</td>\n",
       "            <td>19.08</td>\n",
       "            <td>8.38</td>\n",
       "        </tr>\n",
       "        <tr>\n",
       "            <td>Aire-sur-la-Lys</td>\n",
       "            <td>425</td>\n",
       "            <td>Valid</td>\n",
       "            <td>Unknown</td>\n",
       "            <td>None</td>\n",
       "            <td>Fell</td>\n",
       "            <td>1769</td>\n",
       "            <td>50.67</td>\n",
       "            <td>2.33</td>\n",
       "        </tr>\n",
       "        <tr>\n",
       "            <td>Akaba</td>\n",
       "            <td>426</td>\n",
       "            <td>Valid</td>\n",
       "            <td>L6</td>\n",
       "            <td>779</td>\n",
       "            <td>Fell</td>\n",
       "            <td>1949</td>\n",
       "            <td>29.52</td>\n",
       "            <td>35.05</td>\n",
       "        </tr>\n",
       "        <tr>\n",
       "            <td>Akbarpur</td>\n",
       "            <td>427</td>\n",
       "            <td>Valid</td>\n",
       "            <td>H4</td>\n",
       "            <td>1800</td>\n",
       "            <td>Fell</td>\n",
       "            <td>1838</td>\n",
       "            <td>29.72</td>\n",
       "            <td>77.95</td>\n",
       "        </tr>\n",
       "        <tr>\n",
       "            <td>Akwanga</td>\n",
       "            <td>432</td>\n",
       "            <td>Valid</td>\n",
       "            <td>H</td>\n",
       "            <td>3000</td>\n",
       "            <td>Fell</td>\n",
       "            <td>1959</td>\n",
       "            <td>8.92</td>\n",
       "            <td>8.43</td>\n",
       "        </tr>\n",
       "        <tr>\n",
       "            <td>Akyumak</td>\n",
       "            <td>433</td>\n",
       "            <td>Valid</td>\n",
       "            <td>Iron, IVA</td>\n",
       "            <td>50000</td>\n",
       "            <td>Fell</td>\n",
       "            <td>1981</td>\n",
       "            <td>39.92</td>\n",
       "            <td>42.82</td>\n",
       "        </tr>\n",
       "        <tr>\n",
       "            <td>Al Rais</td>\n",
       "            <td>446</td>\n",
       "            <td>Valid</td>\n",
       "            <td>CR2-an</td>\n",
       "            <td>160</td>\n",
       "            <td>Fell</td>\n",
       "            <td>1957</td>\n",
       "            <td>24.42</td>\n",
       "            <td>39.52</td>\n",
       "        </tr>\n",
       "        <tr>\n",
       "            <td>Al Zarnkh</td>\n",
       "            <td>447</td>\n",
       "            <td>Valid</td>\n",
       "            <td>LL5</td>\n",
       "            <td>700</td>\n",
       "            <td>Fell</td>\n",
       "            <td>2001</td>\n",
       "            <td>13.66</td>\n",
       "            <td>28.96</td>\n",
       "        </tr>\n",
       "        <tr>\n",
       "            <td>Alais</td>\n",
       "            <td>448</td>\n",
       "            <td>Valid</td>\n",
       "            <td>CI1</td>\n",
       "            <td>6000</td>\n",
       "            <td>Fell</td>\n",
       "            <td>1806</td>\n",
       "            <td>44.12</td>\n",
       "            <td>4.08</td>\n",
       "        </tr>\n",
       "    </tbody>\n",
       "</table>"
      ],
      "text/plain": [
       "[('Aachen', 1, 'Valid', 'L5', 21, 'Fell', 1880, 50.77, 6.08),\n",
       " ('Aarhus', 2, 'Valid', 'H6', 720, 'Fell', 1951, 56.18, 10.23),\n",
       " ('Abee', 6, 'Valid', 'EH4', 107000, 'Fell', 1952, 54.22, -113),\n",
       " ('Acapulco', 10, 'Valid', 'Acapulcoite', 1914, 'Fell', 1976, 16.88, -99.9),\n",
       " ('Achiras', 370, 'Valid', 'L6', 780, 'Fell', 1902, -33.17, -64.95),\n",
       " ('Adhi Kot', 379, 'Valid', 'EH4', 4239, 'Fell', 1919, 32.1, 71.8),\n",
       " ('Adzhi-Bogdo (stone)', 390, 'Valid', 'LL3-6', 910, 'Fell', 1949, 44.83, 95.17),\n",
       " ('Agen', 392, 'Valid', 'H5', 30000, 'Fell', 1814, 44.22, 0.62),\n",
       " ('Aguada', 398, 'Valid', 'L6', 1620, 'Fell', 1930, -31.6, -65.23),\n",
       " ('Aguila Blanca', 417, 'Valid', 'L', 1440, 'Fell', 1920, -30.87, -64.55),\n",
       " ('Aioun el Atrouss', 423, 'Valid', 'Diogenite-pm', 1000, 'Fell', 1974, 16.4, -9.57),\n",
       " ('Aïr', 424, 'Valid', 'L6', 24000, 'Fell', 1925, 19.08, 8.38),\n",
       " ('Aire-sur-la-Lys', 425, 'Valid', 'Unknown', None, 'Fell', 1769, 50.67, 2.33),\n",
       " ('Akaba', 426, 'Valid', 'L6', 779, 'Fell', 1949, 29.52, 35.05),\n",
       " ('Akbarpur', 427, 'Valid', 'H4', 1800, 'Fell', 1838, 29.72, 77.95),\n",
       " ('Akwanga', 432, 'Valid', 'H', 3000, 'Fell', 1959, 8.92, 8.43),\n",
       " ('Akyumak', 433, 'Valid', 'Iron, IVA', 50000, 'Fell', 1981, 39.92, 42.82),\n",
       " ('Al Rais', 446, 'Valid', 'CR2-an', 160, 'Fell', 1957, 24.42, 39.52),\n",
       " ('Al Zarnkh', 447, 'Valid', 'LL5', 700, 'Fell', 2001, 13.66, 28.96),\n",
       " ('Alais', 448, 'Valid', 'CI1', 6000, 'Fell', 1806, 44.12, 4.08)]"
      ]
     },
     "execution_count": 13,
     "metadata": {},
     "output_type": "execute_result"
    }
   ],
   "source": [
    "%sql SELECT * FROM \"temp\" LIMIT 20;"
   ]
  },
  {
   "cell_type": "code",
   "execution_count": 14,
   "id": "2d53d6a0",
   "metadata": {},
   "outputs": [
    {
     "name": "stdout",
     "output_type": "stream",
     "text": [
      " * sqlite:///./meteorites.db?check_same_thread=false\n"
     ]
    },
    {
     "data": {
      "text/plain": [
       "[]"
      ]
     },
     "execution_count": 14,
     "metadata": {},
     "output_type": "execute_result"
    }
   ],
   "source": [
    "%%sql\n",
    "INSERT INTO \"meteorites\" (\"name\", \"class\", \"mass\", \"discovery\", \"year\", \"lat\", \"long\")\n",
    "SELECT \"name\", \"class\", \"mass\", \"discovery\", \"year\", \"lat\", \"long\"\n",
    "FROM (SELECT * FROM \"temp\"  \n",
    "    ORDER BY \"year\" ASC, \"name\" ASC\n",
    ");\n"
   ]
  },
  {
   "cell_type": "code",
   "execution_count": 15,
   "id": "7cf64aeb",
   "metadata": {},
   "outputs": [
    {
     "name": "stdout",
     "output_type": "stream",
     "text": [
      " * sqlite:///./meteorites.db?check_same_thread=false\n"
     ]
    },
    {
     "data": {
      "text/html": [
       "<table>\n",
       "    <thead>\n",
       "        <tr>\n",
       "            <th>id</th>\n",
       "            <th>name</th>\n",
       "            <th>class</th>\n",
       "            <th>mass</th>\n",
       "            <th>discovery</th>\n",
       "            <th>year</th>\n",
       "            <th>lat</th>\n",
       "            <th>long</th>\n",
       "        </tr>\n",
       "    </thead>\n",
       "    <tbody>\n",
       "        <tr>\n",
       "            <td>1</td>\n",
       "            <td>Apache Junction</td>\n",
       "            <td>Iron, IIIAB</td>\n",
       "            <td>25000</td>\n",
       "            <td>Found</td>\n",
       "            <td>None</td>\n",
       "            <td>33.45</td>\n",
       "            <td>-111.52</td>\n",
       "        </tr>\n",
       "        <tr>\n",
       "            <td>2</td>\n",
       "            <td>Asarco Mexicana</td>\n",
       "            <td>Iron, IIIAB</td>\n",
       "            <td>None</td>\n",
       "            <td>Found</td>\n",
       "            <td>None</td>\n",
       "            <td>None</td>\n",
       "            <td>None</td>\n",
       "        </tr>\n",
       "        <tr>\n",
       "            <td>3</td>\n",
       "            <td>Aus</td>\n",
       "            <td>L</td>\n",
       "            <td>30.2</td>\n",
       "            <td>Found</td>\n",
       "            <td>None</td>\n",
       "            <td>-26.67</td>\n",
       "            <td>16.25</td>\n",
       "        </tr>\n",
       "        <tr>\n",
       "            <td>4</td>\n",
       "            <td>Benares (b)</td>\n",
       "            <td>Iron</td>\n",
       "            <td>None</td>\n",
       "            <td>Found</td>\n",
       "            <td>None</td>\n",
       "            <td>25.33</td>\n",
       "            <td>83</td>\n",
       "        </tr>\n",
       "        <tr>\n",
       "            <td>5</td>\n",
       "            <td>Cacilandia</td>\n",
       "            <td>H6</td>\n",
       "            <td>None</td>\n",
       "            <td>Found</td>\n",
       "            <td>None</td>\n",
       "            <td>None</td>\n",
       "            <td>None</td>\n",
       "        </tr>\n",
       "        <tr>\n",
       "            <td>6</td>\n",
       "            <td>California</td>\n",
       "            <td>Iron, IAB-sLL</td>\n",
       "            <td>None</td>\n",
       "            <td>Found</td>\n",
       "            <td>None</td>\n",
       "            <td>None</td>\n",
       "            <td>None</td>\n",
       "        </tr>\n",
       "        <tr>\n",
       "            <td>7</td>\n",
       "            <td>Camp Wood</td>\n",
       "            <td>Iron, IIIAB</td>\n",
       "            <td>148000</td>\n",
       "            <td>Found</td>\n",
       "            <td>None</td>\n",
       "            <td>29.77</td>\n",
       "            <td>-99.88</td>\n",
       "        </tr>\n",
       "        <tr>\n",
       "            <td>8</td>\n",
       "            <td>Cochabamba</td>\n",
       "            <td>CM2</td>\n",
       "            <td>85</td>\n",
       "            <td>Found</td>\n",
       "            <td>None</td>\n",
       "            <td>None</td>\n",
       "            <td>None</td>\n",
       "        </tr>\n",
       "        <tr>\n",
       "            <td>9</td>\n",
       "            <td>Cook</td>\n",
       "            <td>Unknown</td>\n",
       "            <td>None</td>\n",
       "            <td>Found</td>\n",
       "            <td>None</td>\n",
       "            <td>None</td>\n",
       "            <td>None</td>\n",
       "        </tr>\n",
       "        <tr>\n",
       "            <td>10</td>\n",
       "            <td>Czestochowa Rakow I</td>\n",
       "            <td>Iron</td>\n",
       "            <td>None</td>\n",
       "            <td>Found</td>\n",
       "            <td>None</td>\n",
       "            <td>50.8</td>\n",
       "            <td>19.12</td>\n",
       "        </tr>\n",
       "        <tr>\n",
       "            <td>11</td>\n",
       "            <td>Czestochowa Rakow II</td>\n",
       "            <td>Iron</td>\n",
       "            <td>None</td>\n",
       "            <td>Found</td>\n",
       "            <td>None</td>\n",
       "            <td>50.8</td>\n",
       "            <td>19.12</td>\n",
       "        </tr>\n",
       "        <tr>\n",
       "            <td>12</td>\n",
       "            <td>Dhofar 1073</td>\n",
       "            <td>CV3</td>\n",
       "            <td>2.72</td>\n",
       "            <td>Found</td>\n",
       "            <td>None</td>\n",
       "            <td>19.33</td>\n",
       "            <td>54.78</td>\n",
       "        </tr>\n",
       "        <tr>\n",
       "            <td>13</td>\n",
       "            <td>Dhofar 1738</td>\n",
       "            <td>L5</td>\n",
       "            <td>853</td>\n",
       "            <td>Found</td>\n",
       "            <td>None</td>\n",
       "            <td>19.33</td>\n",
       "            <td>54.91</td>\n",
       "        </tr>\n",
       "        <tr>\n",
       "            <td>14</td>\n",
       "            <td>Dhofar 1739</td>\n",
       "            <td>H4</td>\n",
       "            <td>130</td>\n",
       "            <td>Found</td>\n",
       "            <td>None</td>\n",
       "            <td>19.18</td>\n",
       "            <td>54.89</td>\n",
       "        </tr>\n",
       "        <tr>\n",
       "            <td>15</td>\n",
       "            <td>Dhofar 1740</td>\n",
       "            <td>L6</td>\n",
       "            <td>30.8</td>\n",
       "            <td>Found</td>\n",
       "            <td>None</td>\n",
       "            <td>19.16</td>\n",
       "            <td>54.88</td>\n",
       "        </tr>\n",
       "        <tr>\n",
       "            <td>16</td>\n",
       "            <td>Dhofar 1741</td>\n",
       "            <td>H5</td>\n",
       "            <td>66</td>\n",
       "            <td>Found</td>\n",
       "            <td>None</td>\n",
       "            <td>19.11</td>\n",
       "            <td>54.82</td>\n",
       "        </tr>\n",
       "        <tr>\n",
       "            <td>17</td>\n",
       "            <td>Dhofar 1742</td>\n",
       "            <td>H5</td>\n",
       "            <td>4.4</td>\n",
       "            <td>Found</td>\n",
       "            <td>None</td>\n",
       "            <td>19.11</td>\n",
       "            <td>54.83</td>\n",
       "        </tr>\n",
       "        <tr>\n",
       "            <td>18</td>\n",
       "            <td>Dhofar 1743</td>\n",
       "            <td>L4</td>\n",
       "            <td>84</td>\n",
       "            <td>Found</td>\n",
       "            <td>None</td>\n",
       "            <td>19.06</td>\n",
       "            <td>54.88</td>\n",
       "        </tr>\n",
       "        <tr>\n",
       "            <td>19</td>\n",
       "            <td>Dhofar 1744</td>\n",
       "            <td>H5</td>\n",
       "            <td>1414</td>\n",
       "            <td>Found</td>\n",
       "            <td>None</td>\n",
       "            <td>19.15</td>\n",
       "            <td>54.59</td>\n",
       "        </tr>\n",
       "        <tr>\n",
       "            <td>20</td>\n",
       "            <td>Dhofar 1745</td>\n",
       "            <td>H5</td>\n",
       "            <td>12.1</td>\n",
       "            <td>Found</td>\n",
       "            <td>None</td>\n",
       "            <td>19.08</td>\n",
       "            <td>54.51</td>\n",
       "        </tr>\n",
       "    </tbody>\n",
       "</table>"
      ],
      "text/plain": [
       "[(1, 'Apache Junction', 'Iron, IIIAB', 25000, 'Found', None, 33.45, -111.52),\n",
       " (2, 'Asarco Mexicana', 'Iron, IIIAB', None, 'Found', None, None, None),\n",
       " (3, 'Aus', 'L', 30.2, 'Found', None, -26.67, 16.25),\n",
       " (4, 'Benares (b)', 'Iron', None, 'Found', None, 25.33, 83),\n",
       " (5, 'Cacilandia', 'H6', None, 'Found', None, None, None),\n",
       " (6, 'California', 'Iron, IAB-sLL', None, 'Found', None, None, None),\n",
       " (7, 'Camp Wood', 'Iron, IIIAB', 148000, 'Found', None, 29.77, -99.88),\n",
       " (8, 'Cochabamba', 'CM2', 85, 'Found', None, None, None),\n",
       " (9, 'Cook', 'Unknown', None, 'Found', None, None, None),\n",
       " (10, 'Czestochowa Rakow I', 'Iron', None, 'Found', None, 50.8, 19.12),\n",
       " (11, 'Czestochowa Rakow II', 'Iron', None, 'Found', None, 50.8, 19.12),\n",
       " (12, 'Dhofar 1073', 'CV3', 2.72, 'Found', None, 19.33, 54.78),\n",
       " (13, 'Dhofar 1738', 'L5', 853, 'Found', None, 19.33, 54.91),\n",
       " (14, 'Dhofar 1739', 'H4', 130, 'Found', None, 19.18, 54.89),\n",
       " (15, 'Dhofar 1740', 'L6', 30.8, 'Found', None, 19.16, 54.88),\n",
       " (16, 'Dhofar 1741', 'H5', 66, 'Found', None, 19.11, 54.82),\n",
       " (17, 'Dhofar 1742', 'H5', 4.4, 'Found', None, 19.11, 54.83),\n",
       " (18, 'Dhofar 1743', 'L4', 84, 'Found', None, 19.06, 54.88),\n",
       " (19, 'Dhofar 1744', 'H5', 1414, 'Found', None, 19.15, 54.59),\n",
       " (20, 'Dhofar 1745', 'H5', 12.1, 'Found', None, 19.08, 54.51)]"
      ]
     },
     "execution_count": 15,
     "metadata": {},
     "output_type": "execute_result"
    }
   ],
   "source": [
    "%sql select * from meteorites limit 20;"
   ]
  },
  {
   "cell_type": "code",
   "execution_count": 16,
   "id": "5d0eedb6",
   "metadata": {},
   "outputs": [
    {
     "name": "stdout",
     "output_type": "stream",
     "text": [
      " * sqlite:///./meteorites.db?check_same_thread=false\n"
     ]
    },
    {
     "data": {
      "text/plain": [
       "[]"
      ]
     },
     "execution_count": 16,
     "metadata": {},
     "output_type": "execute_result"
    }
   ],
   "source": [
    "%sql DROP TABLE \"temp\";"
   ]
  }
 ],
 "metadata": {
  "kernelspec": {
   "display_name": ".venv",
   "language": "python",
   "name": "python3"
  },
  "language_info": {
   "codemirror_mode": {
    "name": "ipython",
    "version": 3
   },
   "file_extension": ".py",
   "mimetype": "text/x-python",
   "name": "python",
   "nbconvert_exporter": "python",
   "pygments_lexer": "ipython3",
   "version": "3.13.3"
  }
 },
 "nbformat": 4,
 "nbformat_minor": 5
}
