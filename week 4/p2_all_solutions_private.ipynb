{
 "cells": [
  {
   "cell_type": "code",
   "execution_count": 1,
   "id": "9f00ee06",
   "metadata": {},
   "outputs": [],
   "source": [
    "db = \"./private/private.db\""
   ]
  },
  {
   "cell_type": "code",
   "execution_count": 2,
   "id": "73de311e",
   "metadata": {},
   "outputs": [
    {
     "name": "stdout",
     "output_type": "stream",
     "text": [
      " * sqlite:///./private/private.db?check_same_thread=false\n"
     ]
    },
    {
     "data": {
      "text/html": [
       "<table>\n",
       "    <thead>\n",
       "        <tr>\n",
       "            <th>name</th>\n",
       "        </tr>\n",
       "    </thead>\n",
       "    <tbody>\n",
       "        <tr>\n",
       "            <td>sentences</td>\n",
       "        </tr>\n",
       "    </tbody>\n",
       "</table>"
      ],
      "text/plain": [
       "[('sentences',)]"
      ]
     },
     "execution_count": 2,
     "metadata": {},
     "output_type": "execute_result"
    }
   ],
   "source": [
    "%load_ext sql\n",
    "%config SqlMagic.feedback=False\n",
    "%sql sqlite:///{db}?check_same_thread=false\n",
    "%sql SELECT name FROM sqlite_master WHERE type='table';"
   ]
  },
  {
   "cell_type": "code",
   "execution_count": 7,
   "id": "82d178a7",
   "metadata": {},
   "outputs": [
    {
     "name": "stdout",
     "output_type": "stream",
     "text": [
      " * sqlite:///./private/private.db?check_same_thread=false\n"
     ]
    },
    {
     "data": {
      "text/html": [
       "<table>\n",
       "    <thead>\n",
       "        <tr>\n",
       "            <th>id</th>\n",
       "            <th>sentence</th>\n",
       "        </tr>\n",
       "    </thead>\n",
       "    <tbody>\n",
       "        <tr>\n",
       "            <td>1</td>\n",
       "            <td>To Sherlock Holmes she is always _the_ woman.</td>\n",
       "        </tr>\n",
       "        <tr>\n",
       "            <td>2</td>\n",
       "            <td>I have seldom heard him mention her under any other name.</td>\n",
       "        </tr>\n",
       "        <tr>\n",
       "            <td>3</td>\n",
       "            <td>In his eyes she eclipses and predominates the whole of her sex.</td>\n",
       "        </tr>\n",
       "        <tr>\n",
       "            <td>4</td>\n",
       "            <td>It was not that he felt any emotion akin to love for Irene Adler.</td>\n",
       "        </tr>\n",
       "        <tr>\n",
       "            <td>5</td>\n",
       "            <td>All emotions, and that one particularly, were abhorrent to his cold, precise, but admirably balanced mind.</td>\n",
       "        </tr>\n",
       "        <tr>\n",
       "            <td>6</td>\n",
       "            <td>He was, I take it, the most perfect reasoning and observing machine that the world has seen; but, as a lover, he would have placed himself in a false position.</td>\n",
       "        </tr>\n",
       "        <tr>\n",
       "            <td>7</td>\n",
       "            <td>He never spoke of the softer passions, save with a gibe and a sneer.</td>\n",
       "        </tr>\n",
       "        <tr>\n",
       "            <td>8</td>\n",
       "            <td>They were admirable things for the observer—excellent for drawing the veil from men’s motives and actions.</td>\n",
       "        </tr>\n",
       "        <tr>\n",
       "            <td>9</td>\n",
       "            <td>But for the trained reasoner to admit such intrusions into his own delicate and finely adjusted temperament was to introduce a distracting factor which might throw a doubt upon all his mental results.</td>\n",
       "        </tr>\n",
       "        <tr>\n",
       "            <td>10</td>\n",
       "            <td>Grit in a sensitive instrument, or a crack in one of his own high-power lenses, would not be more disturbing than a strong emotion in a nature such as his.</td>\n",
       "        </tr>\n",
       "    </tbody>\n",
       "</table>"
      ],
      "text/plain": [
       "[(1, 'To Sherlock Holmes she is always _the_ woman.'),\n",
       " (2, 'I have seldom heard him mention her under any other name.'),\n",
       " (3, 'In his eyes she eclipses and predominates the whole of her sex.'),\n",
       " (4, 'It was not that he felt any emotion akin to love for Irene Adler.'),\n",
       " (5, 'All emotions, and that one particularly, were abhorrent to his cold, precise, but admirably balanced mind.'),\n",
       " (6, 'He was, I take it, the most perfect reasoning and observing machine that the world has seen; but, as a lover, he would have placed himself in a false position.'),\n",
       " (7, 'He never spoke of the softer passions, save with a gibe and a sneer.'),\n",
       " (8, 'They were admirable things for the observer—excellent for drawing the veil from men’s motives and actions.'),\n",
       " (9, 'But for the trained reasoner to admit such intrusions into his own delicate and finely adjusted temperament was to introduce a distracting factor which might throw a doubt upon all his mental results.'),\n",
       " (10, 'Grit in a sensitive instrument, or a crack in one of his own high-power lenses, would not be more disturbing than a strong emotion in a nature such as his.')]"
      ]
     },
     "execution_count": 7,
     "metadata": {},
     "output_type": "execute_result"
    }
   ],
   "source": [
    "%sql SELECT * FROM \"sentences\" LIMIT 10;"
   ]
  },
  {
   "cell_type": "code",
   "execution_count": 10,
   "id": "accff86a",
   "metadata": {},
   "outputs": [
    {
     "name": "stdout",
     "output_type": "stream",
     "text": [
      " * sqlite:///./private/private.db?check_same_thread=false\n"
     ]
    },
    {
     "data": {
      "text/html": [
       "<table>\n",
       "    <thead>\n",
       "        <tr>\n",
       "            <th>id</th>\n",
       "            <th>sentence</th>\n",
       "        </tr>\n",
       "    </thead>\n",
       "    <tbody>\n",
       "        <tr>\n",
       "            <td>14</td>\n",
       "            <td>My own complete happiness, and the home-centred interests which rise up around the man who first finds himself master of his own establishment, were sufficient to absorb all my attention; while Holmes, who loathed every form of society with his whole Bohemian soul, remained in our lodgings in Baker Street, buried among his old books, and alternating from week to week between cocaine and ambition, the drowsiness of the drug, and the fierce energy of his own keen nature.</td>\n",
       "        </tr>\n",
       "        <tr>\n",
       "            <td>114</td>\n",
       "            <td>Come in! said Holmes.</td>\n",
       "        </tr>\n",
       "        <tr>\n",
       "            <td>618</td>\n",
       "            <td>He and a girl of fourteen, who does a bit of simple cooking, and keeps the place clean—that’s all I have in the house, for I am a widower, and never had any family.</td>\n",
       "        </tr>\n",
       "        <tr>\n",
       "            <td>630</td>\n",
       "            <td>‘Have you never heard of the League of the Red-headed Men?’ he asked, with his eyes open.  ‘Never.</td>\n",
       "        </tr>\n",
       "        <tr>\n",
       "            <td>932</td>\n",
       "            <td>We have at least an hour before us, he remarked; for they can hardly take any steps until the good pawnbroker is safely in bed.</td>\n",
       "        </tr>\n",
       "        <tr>\n",
       "            <td>2230</td>\n",
       "            <td>Then the page we have seen—  Is such as we might expect.</td>\n",
       "        </tr>\n",
       "        <tr>\n",
       "            <td>2346</td>\n",
       "            <td>Upper Swandam Lane is a vile alley lurking behind the high wharves which line the north side of the river to the east of London Bridge.</td>\n",
       "        </tr>\n",
       "        <tr>\n",
       "            <td>3041</td>\n",
       "            <td>Bring me the books, Bill, said he.</td>\n",
       "        </tr>\n",
       "    </tbody>\n",
       "</table>"
      ],
      "text/plain": [
       "[(14, 'My own complete happiness, and the home-centred interests which rise up around the man who first finds himself master of his own establishment, were  ... (175 characters truncated) ...  old books, and alternating from week to week between cocaine and ambition, the drowsiness of the drug, and the fierce energy of his own keen nature.'),\n",
       " (114, 'Come in! said Holmes.'),\n",
       " (618, 'He and a girl of fourteen, who does a bit of simple cooking, and keeps the place clean—that’s all I have in the house, for I am a widower, and never had any family.'),\n",
       " (630, '‘Have you never heard of the League of the Red-headed Men?’ he asked, with his eyes open.  ‘Never.'),\n",
       " (932, 'We have at least an hour before us, he remarked; for they can hardly take any steps until the good pawnbroker is safely in bed.'),\n",
       " (2230, 'Then the page we have seen—  Is such as we might expect.'),\n",
       " (2346, 'Upper Swandam Lane is a vile alley lurking behind the high wharves which line the north side of the river to the east of London Bridge.'),\n",
       " (3041, 'Bring me the books, Bill, said he.')]"
      ]
     },
     "execution_count": 10,
     "metadata": {},
     "output_type": "execute_result"
    }
   ],
   "source": [
    "%%sql \n",
    "SELECT * FROM \"sentences\"\n",
    "WHERE \"id\" IN (\n",
    "    14,\n",
    "    114,\n",
    "    618,\n",
    "    630,\n",
    "    932,\n",
    "    2230,\n",
    "    2346,\n",
    "    3041\n",
    ")"
   ]
  },
  {
   "cell_type": "code",
   "execution_count": null,
   "id": "62fa0f9d",
   "metadata": {},
   "outputs": [],
   "source": [
    "%%sql\n",
    "CREATE TABLE coords (\n",
    "    sentence_id INTEGER NOT NULL,\n",
    "    start_pos   INTEGER NOT NULL,\n",
    "    length      INTEGER NOT NULL\n",
    ");"
   ]
  },
  {
   "cell_type": "code",
   "execution_count": null,
   "id": "2c1604b4",
   "metadata": {},
   "outputs": [],
   "source": [
    "%%sql\n",
    "INSERT INTO coords(sentence_id, start_pos, length) VALUES\n",
    "    (14,   98,  4),\n",
    "    (114,   3,  5),\n",
    "    (618,  72,  9),\n",
    "    (630,   7,  3),\n",
    "    (932,  12,  5),\n",
    "    (2230, 50,  7),\n",
    "    (2346, 44, 10),\n",
    "    (3041, 14,  5);"
   ]
  },
  {
   "cell_type": "code",
   "execution_count": 12,
   "id": "497c47cf",
   "metadata": {},
   "outputs": [
    {
     "name": "stdout",
     "output_type": "stream",
     "text": [
      " * sqlite:///./private/private.db?check_same_thread=false\n"
     ]
    },
    {
     "data": {
      "text/html": [
       "<table>\n",
       "    <thead>\n",
       "        <tr>\n",
       "            <th>sentence_id</th>\n",
       "            <th>start_pos</th>\n",
       "            <th>length</th>\n",
       "        </tr>\n",
       "    </thead>\n",
       "    <tbody>\n",
       "        <tr>\n",
       "            <td>14</td>\n",
       "            <td>98</td>\n",
       "            <td>4</td>\n",
       "        </tr>\n",
       "        <tr>\n",
       "            <td>114</td>\n",
       "            <td>3</td>\n",
       "            <td>5</td>\n",
       "        </tr>\n",
       "        <tr>\n",
       "            <td>618</td>\n",
       "            <td>72</td>\n",
       "            <td>9</td>\n",
       "        </tr>\n",
       "        <tr>\n",
       "            <td>630</td>\n",
       "            <td>7</td>\n",
       "            <td>3</td>\n",
       "        </tr>\n",
       "        <tr>\n",
       "            <td>932</td>\n",
       "            <td>12</td>\n",
       "            <td>5</td>\n",
       "        </tr>\n",
       "        <tr>\n",
       "            <td>2230</td>\n",
       "            <td>50</td>\n",
       "            <td>7</td>\n",
       "        </tr>\n",
       "        <tr>\n",
       "            <td>2346</td>\n",
       "            <td>44</td>\n",
       "            <td>10</td>\n",
       "        </tr>\n",
       "        <tr>\n",
       "            <td>3041</td>\n",
       "            <td>14</td>\n",
       "            <td>5</td>\n",
       "        </tr>\n",
       "    </tbody>\n",
       "</table>"
      ],
      "text/plain": [
       "[(14, 98, 4),\n",
       " (114, 3, 5),\n",
       " (618, 72, 9),\n",
       " (630, 7, 3),\n",
       " (932, 12, 5),\n",
       " (2230, 50, 7),\n",
       " (2346, 44, 10),\n",
       " (3041, 14, 5)]"
      ]
     },
     "execution_count": 12,
     "metadata": {},
     "output_type": "execute_result"
    }
   ],
   "source": [
    "%sql SELECT * FROM \"coords\";"
   ]
  },
  {
   "cell_type": "code",
   "execution_count": 15,
   "id": "174c8669",
   "metadata": {},
   "outputs": [
    {
     "name": "stdout",
     "output_type": "stream",
     "text": [
      " * sqlite:///./private/private.db?check_same_thread=false\n"
     ]
    },
    {
     "data": {
      "text/plain": [
       "[]"
      ]
     },
     "execution_count": 15,
     "metadata": {},
     "output_type": "execute_result"
    }
   ],
   "source": [
    "%%sql\n",
    "CREATE VIEW \"message\" AS\n",
    "SELECT substr(\"sentence\", \"start_pos\", \"length\") AS \"phrase\"\n",
    "FROM \"sentences\"\n",
    "JOIN \"coords\" ON \"sentences\".\"id\" = \"coords\".\"sentence_id\";"
   ]
  },
  {
   "cell_type": "code",
   "execution_count": null,
   "id": "a8eaf9d7",
   "metadata": {},
   "outputs": [
    {
     "name": "stdout",
     "output_type": "stream",
     "text": [
      " * sqlite:///./private/private.db?check_same_thread=false\n"
     ]
    },
    {
     "data": {
      "text/html": [
       "<table>\n",
       "    <thead>\n",
       "        <tr>\n",
       "            <th>phrase</th>\n",
       "        </tr>\n",
       "    </thead>\n",
       "    <tbody>\n",
       "        <tr>\n",
       "            <td>find</td>\n",
       "        </tr>\n",
       "        <tr>\n",
       "            <td>me in</td>\n",
       "        </tr>\n",
       "        <tr>\n",
       "            <td>the place</td>\n",
       "        </tr>\n",
       "        <tr>\n",
       "            <td>you</td>\n",
       "        </tr>\n",
       "        <tr>\n",
       "            <td>least</td>\n",
       "        </tr>\n",
       "        <tr>\n",
       "            <td>expect.</td>\n",
       "        </tr>\n",
       "        <tr>\n",
       "            <td>behind the</td>\n",
       "        </tr>\n",
       "        <tr>\n",
       "            <td>books</td>\n",
       "        </tr>\n",
       "    </tbody>\n",
       "</table>"
      ],
      "text/plain": [
       "[('find',),\n",
       " ('me in',),\n",
       " ('the place',),\n",
       " ('you',),\n",
       " ('least',),\n",
       " ('expect.',),\n",
       " ('behind the',),\n",
       " ('books',)]"
      ]
     },
     "execution_count": 16,
     "metadata": {},
     "output_type": "execute_result"
    }
   ],
   "source": [
    "%sql SELECT * FROM \"message\";"
   ]
  },
  {
   "cell_type": "code",
   "execution_count": null,
   "id": "25ba9121",
   "metadata": {},
   "outputs": [],
   "source": []
  }
 ],
 "metadata": {
  "kernelspec": {
   "display_name": "CS50sql-Problem-Sets",
   "language": "python",
   "name": "python3"
  },
  "language_info": {
   "codemirror_mode": {
    "name": "ipython",
    "version": 3
   },
   "file_extension": ".py",
   "mimetype": "text/x-python",
   "name": "python",
   "nbconvert_exporter": "python",
   "pygments_lexer": "ipython3",
   "version": "3.13.7"
  }
 },
 "nbformat": 4,
 "nbformat_minor": 5
}
